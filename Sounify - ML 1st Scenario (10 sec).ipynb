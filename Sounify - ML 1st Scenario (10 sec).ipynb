{
 "cells": [
  {
   "cell_type": "code",
   "execution_count": 1,
   "id": "1731758b",
   "metadata": {
    "execution": {
     "iopub.execute_input": "2024-06-20T07:52:46.627517Z",
     "iopub.status.busy": "2024-06-20T07:52:46.627115Z",
     "iopub.status.idle": "2024-06-20T07:52:48.702510Z",
     "shell.execute_reply": "2024-06-20T07:52:48.701488Z"
    },
    "id": "YJz1gjlK0pBq",
    "papermill": {
     "duration": 2.103807,
     "end_time": "2024-06-20T07:52:48.705158",
     "exception": false,
     "start_time": "2024-06-20T07:52:46.601351",
     "status": "completed"
    },
    "tags": []
   },
   "outputs": [],
   "source": [
    "import pandas as pd\n",
    "import numpy as np\n",
    "import sklearn\n",
    "import matplotlib.pyplot as plt"
   ]
  },
  {
   "cell_type": "code",
   "execution_count": 2,
   "id": "338f92a6",
   "metadata": {
    "execution": {
     "iopub.execute_input": "2024-06-20T07:52:48.751449Z",
     "iopub.status.busy": "2024-06-20T07:52:48.750924Z",
     "iopub.status.idle": "2024-06-20T07:53:07.384289Z",
     "shell.execute_reply": "2024-06-20T07:53:07.383087Z"
    },
    "id": "qMXKisr13kjk",
    "papermill": {
     "duration": 18.65954,
     "end_time": "2024-06-20T07:53:07.387190",
     "exception": false,
     "start_time": "2024-06-20T07:52:48.727650",
     "status": "completed"
    },
    "tags": []
   },
   "outputs": [],
   "source": [
    "import tensorflow as tf\n",
    "import librosa\n",
    "import os\n",
    "import soundfile as sf\n",
    "import torch, torchaudio\n",
    "import torchaudio.functional as f\n",
    "import re\n",
    "from scipy.signal import resample\n",
    "from sklearn.metrics import accuracy_score"
   ]
  },
  {
   "cell_type": "markdown",
   "id": "bd8cdc6c",
   "metadata": {
    "papermill": {
     "duration": 0.023026,
     "end_time": "2024-06-20T07:53:07.435739",
     "exception": false,
     "start_time": "2024-06-20T07:53:07.412713",
     "status": "completed"
    },
    "tags": []
   },
   "source": [
    "# Loading Dataset"
   ]
  },
  {
   "cell_type": "code",
   "execution_count": 3,
   "id": "77f6b1f2",
   "metadata": {
    "execution": {
     "iopub.execute_input": "2024-06-20T07:53:07.484545Z",
     "iopub.status.busy": "2024-06-20T07:53:07.483752Z",
     "iopub.status.idle": "2024-06-20T07:53:07.761347Z",
     "shell.execute_reply": "2024-06-20T07:53:07.760346Z"
    },
    "id": "pVQAy3OcBRS4",
    "papermill": {
     "duration": 0.304212,
     "end_time": "2024-06-20T07:53:07.764160",
     "exception": false,
     "start_time": "2024-06-20T07:53:07.459948",
     "status": "completed"
    },
    "tags": []
   },
   "outputs": [],
   "source": [
    "dir = './recordings/'\n",
    "audio_list = os.listdir(dir)"
   ]
  },
  {
   "cell_type": "markdown",
   "id": "3bcf1126",
   "metadata": {
    "papermill": {
     "duration": 0.021876,
     "end_time": "2024-06-20T07:53:07.808706",
     "exception": false,
     "start_time": "2024-06-20T07:53:07.786830",
     "status": "completed"
    },
    "tags": []
   },
   "source": [
    "# Pre-Processing"
   ]
  },
  {
   "cell_type": "markdown",
   "id": "5b3c9c87",
   "metadata": {
    "papermill": {
     "duration": 0.021997,
     "end_time": "2024-06-20T07:53:07.852938",
     "exception": false,
     "start_time": "2024-06-20T07:53:07.830941",
     "status": "completed"
    },
    "tags": []
   },
   "source": [
    "## Extracting MFCC"
   ]
  },
  {
   "cell_type": "code",
   "execution_count": 5,
   "id": "0aa6e609",
   "metadata": {
    "execution": {
     "iopub.execute_input": "2024-06-20T07:53:07.899771Z",
     "iopub.status.busy": "2024-06-20T07:53:07.898787Z",
     "iopub.status.idle": "2024-06-20T07:53:07.907223Z",
     "shell.execute_reply": "2024-06-20T07:53:07.906099Z"
    },
    "id": "QrIZgYROBTrt",
    "papermill": {
     "duration": 0.034464,
     "end_time": "2024-06-20T07:53:07.909768",
     "exception": false,
     "start_time": "2024-06-20T07:53:07.875304",
     "status": "completed"
    },
    "tags": []
   },
   "outputs": [],
   "source": [
    "target_sample_rate = 44100\n",
    "\n",
    "def extract_features(audio_file, n_fft=128, hop_length=32, n_mfcc=13):\n",
    "    y, sr = sf.read(audio_file)\n",
    "    \n",
    "    # Check if sample rate is the same\n",
    "    if sr != target_sample_rate:\n",
    "        y = resample(y, int(len(y) * target_sample_rate / sr))\n",
    "        sr = target_sample_rate \n",
    "        \n",
    "    # Extract first 10 seconds of audio\n",
    "    samples_10_sec = target_sample_rate * 10   \n",
    "    y_10_sec = y[:samples_10_sec]\n",
    "\n",
    "    # Extract MFCC\n",
    "    mfccs = librosa.feature.mfcc(y = y_10_sec, sr=sr, n_mfcc=n_mfcc)\n",
    "    \n",
    "    # Normalize MFCCs\n",
    "    mfccs_normalized = (mfccs - np.mean(mfccs)) / np.std(mfccs)\n",
    "\n",
    "    return mfccs"
   ]
  },
  {
   "cell_type": "code",
   "execution_count": 6,
   "id": "3136670e",
   "metadata": {
    "execution": {
     "iopub.execute_input": "2024-06-20T07:53:07.955916Z",
     "iopub.status.busy": "2024-06-20T07:53:07.955499Z",
     "iopub.status.idle": "2024-06-20T07:58:29.602513Z",
     "shell.execute_reply": "2024-06-20T07:58:29.600867Z"
    },
    "id": "7i6J25HBBnAC",
    "papermill": {
     "duration": 321.675695,
     "end_time": "2024-06-20T07:58:29.607620",
     "exception": false,
     "start_time": "2024-06-20T07:53:07.931925",
     "status": "completed"
    },
    "tags": []
   },
   "outputs": [],
   "source": [
    "data = []\n",
    "for audio in audio_list:\n",
    "    audio_path = dir + \"/\" + audio\n",
    "\n",
    "    feature = extract_features(audio_path)    \n",
    "    label = re.sub(r'\\d+', '', audio[:-4])\n",
    "\n",
    "    data.append((feature, label))"
   ]
  },
  {
   "cell_type": "markdown",
   "id": "f11e8c4c",
   "metadata": {
    "papermill": {
     "duration": 0.051739,
     "end_time": "2024-06-20T07:58:29.707352",
     "exception": false,
     "start_time": "2024-06-20T07:58:29.655613",
     "status": "completed"
    },
    "tags": []
   },
   "source": [
    "## Converting to DataFrame"
   ]
  },
  {
   "cell_type": "code",
   "execution_count": 7,
   "id": "2887a4e4",
   "metadata": {
    "execution": {
     "iopub.execute_input": "2024-06-20T07:58:29.758694Z",
     "iopub.status.busy": "2024-06-20T07:58:29.757778Z",
     "iopub.status.idle": "2024-06-20T07:58:30.137820Z",
     "shell.execute_reply": "2024-06-20T07:58:30.136649Z"
    },
    "papermill": {
     "duration": 0.406473,
     "end_time": "2024-06-20T07:58:30.140647",
     "exception": false,
     "start_time": "2024-06-20T07:58:29.734174",
     "status": "completed"
    },
    "tags": []
   },
   "outputs": [],
   "source": [
    "seperated_data =[]\n",
    "label_arr = []\n",
    "for f,l in data:\n",
    "    mfcc_dict = {f'MFCC_{i+1}': np.mean(f[i]) for i in range(f.shape[0])}\n",
    "    label_arr.append(l)\n",
    "    seperated_data.append(mfcc_dict)"
   ]
  },
  {
   "cell_type": "code",
   "execution_count": 8,
   "id": "c8329690",
   "metadata": {
    "execution": {
     "iopub.execute_input": "2024-06-20T07:58:30.186346Z",
     "iopub.status.busy": "2024-06-20T07:58:30.185870Z",
     "iopub.status.idle": "2024-06-20T07:58:30.239434Z",
     "shell.execute_reply": "2024-06-20T07:58:30.238169Z"
    },
    "papermill": {
     "duration": 0.079399,
     "end_time": "2024-06-20T07:58:30.241960",
     "exception": false,
     "start_time": "2024-06-20T07:58:30.162561",
     "status": "completed"
    },
    "tags": []
   },
   "outputs": [
    {
     "data": {
      "text/html": [
       "<div>\n",
       "<style scoped>\n",
       "    .dataframe tbody tr th:only-of-type {\n",
       "        vertical-align: middle;\n",
       "    }\n",
       "\n",
       "    .dataframe tbody tr th {\n",
       "        vertical-align: top;\n",
       "    }\n",
       "\n",
       "    .dataframe thead th {\n",
       "        text-align: right;\n",
       "    }\n",
       "</style>\n",
       "<table border=\"1\" class=\"dataframe\">\n",
       "  <thead>\n",
       "    <tr style=\"text-align: right;\">\n",
       "      <th></th>\n",
       "      <th>MFCC_1</th>\n",
       "      <th>MFCC_2</th>\n",
       "      <th>MFCC_3</th>\n",
       "      <th>MFCC_4</th>\n",
       "      <th>MFCC_5</th>\n",
       "      <th>MFCC_6</th>\n",
       "      <th>MFCC_7</th>\n",
       "      <th>MFCC_8</th>\n",
       "      <th>MFCC_9</th>\n",
       "      <th>MFCC_10</th>\n",
       "      <th>MFCC_11</th>\n",
       "      <th>MFCC_12</th>\n",
       "      <th>MFCC_13</th>\n",
       "      <th>label</th>\n",
       "    </tr>\n",
       "  </thead>\n",
       "  <tbody>\n",
       "    <tr>\n",
       "      <th>0</th>\n",
       "      <td>-311.744874</td>\n",
       "      <td>114.093185</td>\n",
       "      <td>8.998494</td>\n",
       "      <td>31.688650</td>\n",
       "      <td>20.317011</td>\n",
       "      <td>9.907870</td>\n",
       "      <td>-10.170405</td>\n",
       "      <td>2.250550</td>\n",
       "      <td>-5.617399</td>\n",
       "      <td>-2.327972</td>\n",
       "      <td>0.056130</td>\n",
       "      <td>-12.694043</td>\n",
       "      <td>-1.135773</td>\n",
       "      <td>afrikaans</td>\n",
       "    </tr>\n",
       "    <tr>\n",
       "      <th>1</th>\n",
       "      <td>-299.748740</td>\n",
       "      <td>115.385810</td>\n",
       "      <td>-9.600186</td>\n",
       "      <td>43.880045</td>\n",
       "      <td>13.778640</td>\n",
       "      <td>28.913742</td>\n",
       "      <td>-3.845053</td>\n",
       "      <td>6.881457</td>\n",
       "      <td>-3.049777</td>\n",
       "      <td>-8.422302</td>\n",
       "      <td>-4.183617</td>\n",
       "      <td>-6.750145</td>\n",
       "      <td>-4.890782</td>\n",
       "      <td>afrikaans</td>\n",
       "    </tr>\n",
       "    <tr>\n",
       "      <th>2</th>\n",
       "      <td>-348.520993</td>\n",
       "      <td>127.671517</td>\n",
       "      <td>4.990566</td>\n",
       "      <td>33.457645</td>\n",
       "      <td>22.580974</td>\n",
       "      <td>10.990127</td>\n",
       "      <td>2.758346</td>\n",
       "      <td>-6.828801</td>\n",
       "      <td>-7.585002</td>\n",
       "      <td>-20.160269</td>\n",
       "      <td>-22.072912</td>\n",
       "      <td>-8.224914</td>\n",
       "      <td>-0.495822</td>\n",
       "      <td>afrikaans</td>\n",
       "    </tr>\n",
       "    <tr>\n",
       "      <th>3</th>\n",
       "      <td>-289.374186</td>\n",
       "      <td>127.725709</td>\n",
       "      <td>3.630723</td>\n",
       "      <td>41.737425</td>\n",
       "      <td>21.228604</td>\n",
       "      <td>10.654472</td>\n",
       "      <td>10.353205</td>\n",
       "      <td>0.754413</td>\n",
       "      <td>-12.247970</td>\n",
       "      <td>1.253995</td>\n",
       "      <td>-1.261070</td>\n",
       "      <td>-1.139724</td>\n",
       "      <td>-10.082326</td>\n",
       "      <td>afrikaans</td>\n",
       "    </tr>\n",
       "    <tr>\n",
       "      <th>4</th>\n",
       "      <td>-367.997361</td>\n",
       "      <td>135.368703</td>\n",
       "      <td>2.400631</td>\n",
       "      <td>30.805342</td>\n",
       "      <td>-12.364562</td>\n",
       "      <td>17.189769</td>\n",
       "      <td>0.563212</td>\n",
       "      <td>7.612488</td>\n",
       "      <td>5.399307</td>\n",
       "      <td>-7.191656</td>\n",
       "      <td>2.022258</td>\n",
       "      <td>-4.139912</td>\n",
       "      <td>-0.492867</td>\n",
       "      <td>afrikaans</td>\n",
       "    </tr>\n",
       "  </tbody>\n",
       "</table>\n",
       "</div>"
      ],
      "text/plain": [
       "       MFCC_1      MFCC_2    MFCC_3     MFCC_4     MFCC_5     MFCC_6  \\\n",
       "0 -311.744874  114.093185  8.998494  31.688650  20.317011   9.907870   \n",
       "1 -299.748740  115.385810 -9.600186  43.880045  13.778640  28.913742   \n",
       "2 -348.520993  127.671517  4.990566  33.457645  22.580974  10.990127   \n",
       "3 -289.374186  127.725709  3.630723  41.737425  21.228604  10.654472   \n",
       "4 -367.997361  135.368703  2.400631  30.805342 -12.364562  17.189769   \n",
       "\n",
       "      MFCC_7    MFCC_8     MFCC_9    MFCC_10    MFCC_11    MFCC_12    MFCC_13  \\\n",
       "0 -10.170405  2.250550  -5.617399  -2.327972   0.056130 -12.694043  -1.135773   \n",
       "1  -3.845053  6.881457  -3.049777  -8.422302  -4.183617  -6.750145  -4.890782   \n",
       "2   2.758346 -6.828801  -7.585002 -20.160269 -22.072912  -8.224914  -0.495822   \n",
       "3  10.353205  0.754413 -12.247970   1.253995  -1.261070  -1.139724 -10.082326   \n",
       "4   0.563212  7.612488   5.399307  -7.191656   2.022258  -4.139912  -0.492867   \n",
       "\n",
       "       label  \n",
       "0  afrikaans  \n",
       "1  afrikaans  \n",
       "2  afrikaans  \n",
       "3  afrikaans  \n",
       "4  afrikaans  "
      ]
     },
     "execution_count": 8,
     "metadata": {},
     "output_type": "execute_result"
    }
   ],
   "source": [
    "df_new = pd.DataFrame(seperated_data)\n",
    "df_new['label'] = label_arr\n",
    "df_new.head()"
   ]
  },
  {
   "cell_type": "code",
   "execution_count": 9,
   "id": "7a8328ad",
   "metadata": {
    "execution": {
     "iopub.execute_input": "2024-06-20T07:58:30.288670Z",
     "iopub.status.busy": "2024-06-20T07:58:30.288243Z",
     "iopub.status.idle": "2024-06-20T07:58:30.298006Z",
     "shell.execute_reply": "2024-06-20T07:58:30.296961Z"
    },
    "papermill": {
     "duration": 0.035761,
     "end_time": "2024-06-20T07:58:30.300459",
     "exception": false,
     "start_time": "2024-06-20T07:58:30.264698",
     "status": "completed"
    },
    "tags": []
   },
   "outputs": [
    {
     "data": {
      "text/plain": [
       "MFCC_1     0\n",
       "MFCC_2     0\n",
       "MFCC_3     0\n",
       "MFCC_4     0\n",
       "MFCC_5     0\n",
       "MFCC_6     0\n",
       "MFCC_7     0\n",
       "MFCC_8     0\n",
       "MFCC_9     0\n",
       "MFCC_10    0\n",
       "MFCC_11    0\n",
       "MFCC_12    0\n",
       "MFCC_13    0\n",
       "label      0\n",
       "dtype: int64"
      ]
     },
     "execution_count": 9,
     "metadata": {},
     "output_type": "execute_result"
    }
   ],
   "source": [
    "df_new.isnull().sum()"
   ]
  },
  {
   "cell_type": "code",
   "execution_count": 10,
   "id": "9856b568",
   "metadata": {
    "execution": {
     "iopub.execute_input": "2024-06-20T07:58:30.347760Z",
     "iopub.status.busy": "2024-06-20T07:58:30.347343Z",
     "iopub.status.idle": "2024-06-20T07:58:30.355175Z",
     "shell.execute_reply": "2024-06-20T07:58:30.353866Z"
    },
    "papermill": {
     "duration": 0.035047,
     "end_time": "2024-06-20T07:58:30.358220",
     "exception": false,
     "start_time": "2024-06-20T07:58:30.323173",
     "status": "completed"
    },
    "tags": []
   },
   "outputs": [
    {
     "name": "stdout",
     "output_type": "stream",
     "text": [
      "2138\n",
      "2138\n"
     ]
    }
   ],
   "source": [
    "print(len(df_new))\n",
    "df_cleaned = df_new.dropna()\n",
    "print(len(df_cleaned))"
   ]
  },
  {
   "cell_type": "code",
   "execution_count": 11,
   "id": "360cfe83",
   "metadata": {
    "execution": {
     "iopub.execute_input": "2024-06-20T07:58:30.407136Z",
     "iopub.status.busy": "2024-06-20T07:58:30.406719Z",
     "iopub.status.idle": "2024-06-20T07:58:30.419967Z",
     "shell.execute_reply": "2024-06-20T07:58:30.418778Z"
    },
    "papermill": {
     "duration": 0.041275,
     "end_time": "2024-06-20T07:58:30.423007",
     "exception": false,
     "start_time": "2024-06-20T07:58:30.381732",
     "status": "completed"
    },
    "tags": []
   },
   "outputs": [
    {
     "name": "stdout",
     "output_type": "stream",
     "text": [
      "label\n",
      "english        579\n",
      "spanish        162\n",
      "arabic         102\n",
      "mandarin        65\n",
      "french          63\n",
      "              ... \n",
      "nandi            1\n",
      "nama             1\n",
      "mortlockese      1\n",
      "moore            1\n",
      "zulu             1\n",
      "Name: count, Length: 200, dtype: int64\n"
     ]
    }
   ],
   "source": [
    "accent_counts = df_cleaned['label'].value_counts()\n",
    "print(accent_counts)"
   ]
  },
  {
   "cell_type": "markdown",
   "id": "413dcbe3",
   "metadata": {
    "papermill": {
     "duration": 0.022409,
     "end_time": "2024-06-20T07:58:30.468608",
     "exception": false,
     "start_time": "2024-06-20T07:58:30.446199",
     "status": "completed"
    },
    "tags": []
   },
   "source": [
    "## Oversampling Dataset"
   ]
  },
  {
   "cell_type": "code",
   "execution_count": 12,
   "id": "703811d7",
   "metadata": {
    "execution": {
     "iopub.execute_input": "2024-06-20T07:58:30.516008Z",
     "iopub.status.busy": "2024-06-20T07:58:30.515636Z",
     "iopub.status.idle": "2024-06-20T07:58:30.551430Z",
     "shell.execute_reply": "2024-06-20T07:58:30.550328Z"
    },
    "papermill": {
     "duration": 0.062574,
     "end_time": "2024-06-20T07:58:30.554119",
     "exception": false,
     "start_time": "2024-06-20T07:58:30.491545",
     "status": "completed"
    },
    "tags": []
   },
   "outputs": [],
   "source": [
    "largest_accent = accent_counts.idxmax()\n",
    "max_count = accent_counts.max()\n",
    "\n",
    "# Oversample smaller accent groups to match the size of the largest group but take the ones with more than 30 audio files\n",
    "oversampled_data = []\n",
    "for accent, count in accent_counts.items():\n",
    "    if accent != largest_accent and count > 30:\n",
    "        accent_data = df_cleaned[df_cleaned['label'] == accent]\n",
    "        oversampled_accent = accent_data.sample(n=max_count, replace=True, random_state=42)\n",
    "        oversampled_data.append(oversampled_accent)\n",
    "    elif accent == largest_accent:\n",
    "        oversampled_data.append(df_cleaned[df_cleaned['label'] == accent])\n",
    "\n",
    "\n",
    "balanced_df = pd.concat(oversampled_data)"
   ]
  },
  {
   "cell_type": "code",
   "execution_count": 13,
   "id": "e0c96c1c",
   "metadata": {
    "execution": {
     "iopub.execute_input": "2024-06-20T07:58:30.601245Z",
     "iopub.status.busy": "2024-06-20T07:58:30.600817Z",
     "iopub.status.idle": "2024-06-20T07:58:30.605871Z",
     "shell.execute_reply": "2024-06-20T07:58:30.604851Z"
    },
    "papermill": {
     "duration": 0.031678,
     "end_time": "2024-06-20T07:58:30.608442",
     "exception": false,
     "start_time": "2024-06-20T07:58:30.576764",
     "status": "completed"
    },
    "tags": []
   },
   "outputs": [],
   "source": [
    "# handle undersampling kl native / non native\n",
    "# native = df_cleaned[df_cleaned['label'] == 'native']\n",
    "# oversampled_native = native.sample(n=1559, replace=True, random_state=42)\n",
    "# smallest = df_cleaned[df_cleaned['label'] == 'non-native']\n",
    "\n",
    "# df_balanced = pd.concat([oversampled_native[:len(smallest)], smallest]).reset_index(drop=True)\n",
    "# df_balanced.head()"
   ]
  },
  {
   "cell_type": "code",
   "execution_count": 14,
   "id": "dcb1d659",
   "metadata": {
    "execution": {
     "iopub.execute_input": "2024-06-20T07:58:30.721710Z",
     "iopub.status.busy": "2024-06-20T07:58:30.721325Z",
     "iopub.status.idle": "2024-06-20T07:58:30.726648Z",
     "shell.execute_reply": "2024-06-20T07:58:30.725585Z"
    },
    "papermill": {
     "duration": 0.097334,
     "end_time": "2024-06-20T07:58:30.729007",
     "exception": false,
     "start_time": "2024-06-20T07:58:30.631673",
     "status": "completed"
    },
    "tags": []
   },
   "outputs": [],
   "source": [
    "# handle undersampling kl bbrp accent doang\n",
    "# biggest = df_cleaned[df_cleaned['label'] == 'english']\n",
    "\n",
    "# spanish = df_cleaned[df_cleaned['label'] == 'spanish']\n",
    "# oversampled_spanish = spanish.sample(n=579, replace=True, random_state=42)\n",
    "# arabic = df_cleaned[df_cleaned['label'] == 'arabic']\n",
    "# oversampled_arabic = arabic.sample(n=579, replace=True, random_state=42)\n",
    "\n",
    "# df_balanced = pd.concat([biggest, oversampled_spanish, oversampled_arabic]).reset_index(drop=True)\n",
    "# print(Counter(df_balanced['label']))\n",
    "# df_balanced.head()"
   ]
  },
  {
   "cell_type": "code",
   "execution_count": 15,
   "id": "1a61a3aa",
   "metadata": {
    "execution": {
     "iopub.execute_input": "2024-06-20T07:58:30.776602Z",
     "iopub.status.busy": "2024-06-20T07:58:30.776177Z",
     "iopub.status.idle": "2024-06-20T07:58:30.799134Z",
     "shell.execute_reply": "2024-06-20T07:58:30.798033Z"
    },
    "papermill": {
     "duration": 0.049777,
     "end_time": "2024-06-20T07:58:30.801740",
     "exception": false,
     "start_time": "2024-06-20T07:58:30.751963",
     "status": "completed"
    },
    "tags": []
   },
   "outputs": [
    {
     "data": {
      "text/html": [
       "<div>\n",
       "<style scoped>\n",
       "    .dataframe tbody tr th:only-of-type {\n",
       "        vertical-align: middle;\n",
       "    }\n",
       "\n",
       "    .dataframe tbody tr th {\n",
       "        vertical-align: top;\n",
       "    }\n",
       "\n",
       "    .dataframe thead th {\n",
       "        text-align: right;\n",
       "    }\n",
       "</style>\n",
       "<table border=\"1\" class=\"dataframe\">\n",
       "  <thead>\n",
       "    <tr style=\"text-align: right;\">\n",
       "      <th></th>\n",
       "      <th>MFCC_1</th>\n",
       "      <th>MFCC_2</th>\n",
       "      <th>MFCC_3</th>\n",
       "      <th>MFCC_4</th>\n",
       "      <th>MFCC_5</th>\n",
       "      <th>MFCC_6</th>\n",
       "      <th>MFCC_7</th>\n",
       "      <th>MFCC_8</th>\n",
       "      <th>MFCC_9</th>\n",
       "      <th>MFCC_10</th>\n",
       "      <th>MFCC_11</th>\n",
       "      <th>MFCC_12</th>\n",
       "      <th>MFCC_13</th>\n",
       "      <th>label</th>\n",
       "    </tr>\n",
       "  </thead>\n",
       "  <tbody>\n",
       "    <tr>\n",
       "      <th>0</th>\n",
       "      <td>-342.921301</td>\n",
       "      <td>143.915295</td>\n",
       "      <td>-9.081828</td>\n",
       "      <td>28.365973</td>\n",
       "      <td>19.592566</td>\n",
       "      <td>-6.840230</td>\n",
       "      <td>10.383843</td>\n",
       "      <td>-9.405227</td>\n",
       "      <td>-13.860366</td>\n",
       "      <td>1.156899</td>\n",
       "      <td>-8.724627</td>\n",
       "      <td>-7.937325</td>\n",
       "      <td>-5.631774</td>\n",
       "      <td>german</td>\n",
       "    </tr>\n",
       "    <tr>\n",
       "      <th>1</th>\n",
       "      <td>-350.677259</td>\n",
       "      <td>89.848135</td>\n",
       "      <td>-10.941949</td>\n",
       "      <td>21.775786</td>\n",
       "      <td>-8.119773</td>\n",
       "      <td>3.956101</td>\n",
       "      <td>-10.808382</td>\n",
       "      <td>-4.364986</td>\n",
       "      <td>-9.709041</td>\n",
       "      <td>-4.550846</td>\n",
       "      <td>-10.766002</td>\n",
       "      <td>-6.412988</td>\n",
       "      <td>-8.990570</td>\n",
       "      <td>arabic</td>\n",
       "    </tr>\n",
       "    <tr>\n",
       "      <th>2</th>\n",
       "      <td>-329.246617</td>\n",
       "      <td>82.190002</td>\n",
       "      <td>-27.423848</td>\n",
       "      <td>31.517208</td>\n",
       "      <td>0.128355</td>\n",
       "      <td>11.080160</td>\n",
       "      <td>-14.790817</td>\n",
       "      <td>16.444887</td>\n",
       "      <td>-17.718327</td>\n",
       "      <td>1.399003</td>\n",
       "      <td>-0.906294</td>\n",
       "      <td>0.915481</td>\n",
       "      <td>-1.433161</td>\n",
       "      <td>korean</td>\n",
       "    </tr>\n",
       "    <tr>\n",
       "      <th>3</th>\n",
       "      <td>-321.883146</td>\n",
       "      <td>129.941286</td>\n",
       "      <td>10.908632</td>\n",
       "      <td>49.641281</td>\n",
       "      <td>0.622678</td>\n",
       "      <td>25.685203</td>\n",
       "      <td>-6.772427</td>\n",
       "      <td>4.938980</td>\n",
       "      <td>4.410233</td>\n",
       "      <td>-0.982691</td>\n",
       "      <td>-3.390297</td>\n",
       "      <td>-8.540936</td>\n",
       "      <td>-6.124738</td>\n",
       "      <td>turkish</td>\n",
       "    </tr>\n",
       "    <tr>\n",
       "      <th>4</th>\n",
       "      <td>-335.152471</td>\n",
       "      <td>95.903616</td>\n",
       "      <td>-0.727520</td>\n",
       "      <td>36.248681</td>\n",
       "      <td>2.543216</td>\n",
       "      <td>21.997761</td>\n",
       "      <td>-2.040537</td>\n",
       "      <td>11.246912</td>\n",
       "      <td>2.103970</td>\n",
       "      <td>-2.947939</td>\n",
       "      <td>-4.053631</td>\n",
       "      <td>11.449569</td>\n",
       "      <td>-1.172365</td>\n",
       "      <td>portuguese</td>\n",
       "    </tr>\n",
       "  </tbody>\n",
       "</table>\n",
       "</div>"
      ],
      "text/plain": [
       "       MFCC_1      MFCC_2     MFCC_3     MFCC_4     MFCC_5     MFCC_6  \\\n",
       "0 -342.921301  143.915295  -9.081828  28.365973  19.592566  -6.840230   \n",
       "1 -350.677259   89.848135 -10.941949  21.775786  -8.119773   3.956101   \n",
       "2 -329.246617   82.190002 -27.423848  31.517208   0.128355  11.080160   \n",
       "3 -321.883146  129.941286  10.908632  49.641281   0.622678  25.685203   \n",
       "4 -335.152471   95.903616  -0.727520  36.248681   2.543216  21.997761   \n",
       "\n",
       "      MFCC_7     MFCC_8     MFCC_9   MFCC_10    MFCC_11    MFCC_12   MFCC_13  \\\n",
       "0  10.383843  -9.405227 -13.860366  1.156899  -8.724627  -7.937325 -5.631774   \n",
       "1 -10.808382  -4.364986  -9.709041 -4.550846 -10.766002  -6.412988 -8.990570   \n",
       "2 -14.790817  16.444887 -17.718327  1.399003  -0.906294   0.915481 -1.433161   \n",
       "3  -6.772427   4.938980   4.410233 -0.982691  -3.390297  -8.540936 -6.124738   \n",
       "4  -2.040537  11.246912   2.103970 -2.947939  -4.053631  11.449569 -1.172365   \n",
       "\n",
       "        label  \n",
       "0      german  \n",
       "1      arabic  \n",
       "2      korean  \n",
       "3     turkish  \n",
       "4  portuguese  "
      ]
     },
     "execution_count": 15,
     "metadata": {},
     "output_type": "execute_result"
    }
   ],
   "source": [
    "df_shuffled = balanced_df.sample(frac=1, random_state=42).reset_index(drop=True)\n",
    "df_shuffled.head()"
   ]
  },
  {
   "cell_type": "code",
   "execution_count": 16,
   "id": "1a4a797c",
   "metadata": {
    "execution": {
     "iopub.execute_input": "2024-06-20T07:58:30.850119Z",
     "iopub.status.busy": "2024-06-20T07:58:30.849316Z",
     "iopub.status.idle": "2024-06-20T07:58:30.857511Z",
     "shell.execute_reply": "2024-06-20T07:58:30.856413Z"
    },
    "id": "dAX6g0373_Q1",
    "papermill": {
     "duration": 0.035212,
     "end_time": "2024-06-20T07:58:30.859995",
     "exception": false,
     "start_time": "2024-06-20T07:58:30.824783",
     "status": "completed"
    },
    "tags": []
   },
   "outputs": [],
   "source": [
    "# Seperating Data to x and y\n",
    "y = df_shuffled[\"label\"]\n",
    "x = df_shuffled.drop('label', axis = 1)"
   ]
  },
  {
   "cell_type": "markdown",
   "id": "d4f9e32a",
   "metadata": {
    "papermill": {
     "duration": 0.0239,
     "end_time": "2024-06-20T07:58:30.906939",
     "exception": false,
     "start_time": "2024-06-20T07:58:30.883039",
     "status": "completed"
    },
    "tags": []
   },
   "source": [
    "## Encoding Label (From Categorial to Numerical)"
   ]
  },
  {
   "cell_type": "code",
   "execution_count": 17,
   "id": "8d858cb6",
   "metadata": {
    "execution": {
     "iopub.execute_input": "2024-06-20T07:58:30.954859Z",
     "iopub.status.busy": "2024-06-20T07:58:30.954444Z",
     "iopub.status.idle": "2024-06-20T07:58:30.968632Z",
     "shell.execute_reply": "2024-06-20T07:58:30.967525Z"
    },
    "id": "bcpEojqYB2gc",
    "papermill": {
     "duration": 0.041319,
     "end_time": "2024-06-20T07:58:30.971446",
     "exception": false,
     "start_time": "2024-06-20T07:58:30.930127",
     "status": "completed"
    },
    "tags": []
   },
   "outputs": [
    {
     "name": "stdout",
     "output_type": "stream",
     "text": [
      "Label mapping:\n",
      "german: 4\n",
      "arabic: 0\n",
      "korean: 6\n",
      "turkish: 12\n",
      "portuguese: 9\n",
      "russian: 10\n",
      "english: 2\n",
      "mandarin: 7\n",
      "dutch: 1\n",
      "spanish: 11\n",
      "polish: 8\n",
      "french: 3\n",
      "italian: 5\n"
     ]
    }
   ],
   "source": [
    "from sklearn.preprocessing import LabelEncoder\n",
    "label_encoder = LabelEncoder()\n",
    "encoded_labels = label_encoder.fit_transform(y)\n",
    "\n",
    "label_mapping = {label: encoded_label for label, encoded_label in zip(y, encoded_labels)}\n",
    "\n",
    "# Print the mapping\n",
    "class_label = []\n",
    "print(\"Label mapping:\")\n",
    "for label, encoded_label in label_mapping.items():\n",
    "    class_label.append(label)\n",
    "    print(f\"{label}: {encoded_label}\")"
   ]
  },
  {
   "cell_type": "code",
   "execution_count": 18,
   "id": "9aaa20f9",
   "metadata": {
    "execution": {
     "iopub.execute_input": "2024-06-20T07:58:31.021547Z",
     "iopub.status.busy": "2024-06-20T07:58:31.021136Z",
     "iopub.status.idle": "2024-06-20T07:58:31.042917Z",
     "shell.execute_reply": "2024-06-20T07:58:31.041838Z"
    },
    "id": "G1md5LYk5EhK",
    "papermill": {
     "duration": 0.050379,
     "end_time": "2024-06-20T07:58:31.045796",
     "exception": false,
     "start_time": "2024-06-20T07:58:30.995417",
     "status": "completed"
    },
    "tags": []
   },
   "outputs": [],
   "source": [
    "from sklearn.model_selection import train_test_split\n",
    "x_train, x_test, y_train, y_test = train_test_split(x, y, test_size = 0.2, random_state = 42)"
   ]
  },
  {
   "cell_type": "markdown",
   "id": "c7e02625",
   "metadata": {
    "papermill": {
     "duration": 0.023183,
     "end_time": "2024-06-20T07:58:31.092409",
     "exception": false,
     "start_time": "2024-06-20T07:58:31.069226",
     "status": "completed"
    },
    "tags": []
   },
   "source": [
    "# Training with Machine Learning Model"
   ]
  },
  {
   "cell_type": "markdown",
   "id": "16b5445e",
   "metadata": {
    "papermill": {
     "duration": 0.02309,
     "end_time": "2024-06-20T07:58:31.139250",
     "exception": false,
     "start_time": "2024-06-20T07:58:31.116160",
     "status": "completed"
    },
    "tags": []
   },
   "source": [
    "## KNN"
   ]
  },
  {
   "cell_type": "code",
   "execution_count": 19,
   "id": "52f79cb8",
   "metadata": {
    "execution": {
     "iopub.execute_input": "2024-06-20T07:58:31.187871Z",
     "iopub.status.busy": "2024-06-20T07:58:31.187499Z",
     "iopub.status.idle": "2024-06-20T07:58:31.603720Z",
     "shell.execute_reply": "2024-06-20T07:58:31.602605Z"
    },
    "id": "OcVPRJ4-5M7z",
    "papermill": {
     "duration": 0.443836,
     "end_time": "2024-06-20T07:58:31.606311",
     "exception": false,
     "start_time": "2024-06-20T07:58:31.162475",
     "status": "completed"
    },
    "tags": []
   },
   "outputs": [
    {
     "data": {
      "text/plain": [
       "0.897078353253652"
      ]
     },
     "execution_count": 19,
     "metadata": {},
     "output_type": "execute_result"
    }
   ],
   "source": [
    "from sklearn.neighbors import KNeighborsClassifier\n",
    "knn = KNeighborsClassifier()\n",
    "knn.fit(x_train, y_train)\n",
    "knn_pred = knn.predict(x_test)\n",
    "knn_accuracy = knn.score(x_test, y_test)\n",
    "knn_accuracy"
   ]
  },
  {
   "cell_type": "code",
   "execution_count": 20,
   "id": "95858c23",
   "metadata": {
    "execution": {
     "iopub.execute_input": "2024-06-20T07:58:31.655592Z",
     "iopub.status.busy": "2024-06-20T07:58:31.654717Z",
     "iopub.status.idle": "2024-06-20T07:58:32.113293Z",
     "shell.execute_reply": "2024-06-20T07:58:32.111778Z"
    },
    "papermill": {
     "duration": 0.48623,
     "end_time": "2024-06-20T07:58:32.116160",
     "exception": false,
     "start_time": "2024-06-20T07:58:31.629930",
     "status": "completed"
    },
    "tags": []
   },
   "outputs": [
    {
     "name": "stdout",
     "output_type": "stream",
     "text": [
      "Training Accuracy:  0.9269224381332004\n",
      "Testing Accuracy:  0.897078353253652\n"
     ]
    }
   ],
   "source": [
    "y_train_pred_knn = knn.predict(x_train)\n",
    "train_accuracy_knn = accuracy_score(y_train, y_train_pred_knn)\n",
    "test_accuracy_knn = accuracy_score(y_test, knn_pred)\n",
    "\n",
    "print(\"Training Accuracy: \", train_accuracy_knn)\n",
    "print(\"Testing Accuracy: \", test_accuracy_knn)"
   ]
  },
  {
   "cell_type": "code",
   "execution_count": 21,
   "id": "28a9bf09",
   "metadata": {
    "execution": {
     "iopub.execute_input": "2024-06-20T07:58:32.165661Z",
     "iopub.status.busy": "2024-06-20T07:58:32.164765Z",
     "iopub.status.idle": "2024-06-20T07:58:32.433840Z",
     "shell.execute_reply": "2024-06-20T07:58:32.432694Z"
    },
    "papermill": {
     "duration": 0.296982,
     "end_time": "2024-06-20T07:58:32.436768",
     "exception": false,
     "start_time": "2024-06-20T07:58:32.139786",
     "status": "completed"
    },
    "tags": []
   },
   "outputs": [
    {
     "data": {
      "image/png": "[encoded data removed]",
      "text/plain": [
       "<Figure size 800x400 with 1 Axes>"
      ]
     },
     "metadata": {},
     "output_type": "display_data"
    }
   ],
   "source": [
    "accuracies = [train_accuracy_knn, test_accuracy_knn]\n",
    "\n",
    "plt.figure(figsize=(8, 4))\n",
    "plt.bar(['Training Accuracy', 'Testing Accuracy'], accuracies, color=['blue', 'green'])\n",
    "plt.ylabel('Accuracy')\n",
    "plt.title('Comparison of Training and Testing Accuracies in KNN Model')\n",
    "plt.ylim([0, 1]) \n",
    "plt.show()"
   ]
  },
  {
   "cell_type": "markdown",
   "id": "daa53345",
   "metadata": {
    "papermill": {
     "duration": 0.023915,
     "end_time": "2024-06-20T07:58:32.485571",
     "exception": false,
     "start_time": "2024-06-20T07:58:32.461656",
     "status": "completed"
    },
    "tags": []
   },
   "source": [
    "## Decision Tree"
   ]
  },
  {
   "cell_type": "code",
   "execution_count": 22,
   "id": "c52471df",
   "metadata": {
    "execution": {
     "iopub.execute_input": "2024-06-20T07:58:32.536006Z",
     "iopub.status.busy": "2024-06-20T07:58:32.535624Z",
     "iopub.status.idle": "2024-06-20T07:58:32.648526Z",
     "shell.execute_reply": "2024-06-20T07:58:32.647404Z"
    },
    "id": "y_W4C0aP5d_A",
    "papermill": {
     "duration": 0.141246,
     "end_time": "2024-06-20T07:58:32.651071",
     "exception": false,
     "start_time": "2024-06-20T07:58:32.509825",
     "status": "completed"
    },
    "tags": []
   },
   "outputs": [
    {
     "data": {
      "text/plain": [
       "0.952191235059761"
      ]
     },
     "execution_count": 22,
     "metadata": {},
     "output_type": "execute_result"
    }
   ],
   "source": [
    "from sklearn.tree import DecisionTreeClassifier\n",
    "dt = DecisionTreeClassifier(random_state = 42)\n",
    "dt.fit(x_train, y_train)\n",
    "pred_dt = dt.predict(x_test)\n",
    "dt_accuracy = dt.score(x_test, y_test)\n",
    "dt_accuracy"
   ]
  },
  {
   "cell_type": "code",
   "execution_count": 23,
   "id": "197acc84",
   "metadata": {
    "execution": {
     "iopub.execute_input": "2024-06-20T07:58:32.704024Z",
     "iopub.status.busy": "2024-06-20T07:58:32.703620Z",
     "iopub.status.idle": "2024-06-20T07:58:32.731216Z",
     "shell.execute_reply": "2024-06-20T07:58:32.730024Z"
    },
    "papermill": {
     "duration": 0.057864,
     "end_time": "2024-06-20T07:58:32.733744",
     "exception": false,
     "start_time": "2024-06-20T07:58:32.675880",
     "status": "completed"
    },
    "tags": []
   },
   "outputs": [
    {
     "name": "stdout",
     "output_type": "stream",
     "text": [
      "Training Accuracy:  1.0\n",
      "Testing Accuracy:  0.952191235059761\n"
     ]
    }
   ],
   "source": [
    "y_train_pred_dt = dt.predict(x_train)\n",
    "train_accuracy_dt = accuracy_score(y_train, y_train_pred_dt)\n",
    "test_accuracy_dt = accuracy_score(y_test, pred_dt)\n",
    "\n",
    "print(\"Training Accuracy: \", train_accuracy_dt)\n",
    "print(\"Testing Accuracy: \", test_accuracy_dt)"
   ]
  },
  {
   "cell_type": "code",
   "execution_count": 24,
   "id": "efff0f0d",
   "metadata": {
    "execution": {
     "iopub.execute_input": "2024-06-20T07:58:32.784608Z",
     "iopub.status.busy": "2024-06-20T07:58:32.784230Z",
     "iopub.status.idle": "2024-06-20T07:58:33.023210Z",
     "shell.execute_reply": "2024-06-20T07:58:33.022103Z"
    },
    "papermill": {
     "duration": 0.267227,
     "end_time": "2024-06-20T07:58:33.025780",
     "exception": false,
     "start_time": "2024-06-20T07:58:32.758553",
     "status": "completed"
    },
    "tags": []
   },
   "outputs": [
    {
     "data": {
      "image/png": "[encoded data removed]",
      "text/plain": [
       "<Figure size 800x400 with 1 Axes>"
      ]
     },
     "metadata": {},
     "output_type": "display_data"
    }
   ],
   "source": [
    "accuracies = [train_accuracy_dt, test_accuracy_dt]\n",
    "\n",
    "plt.figure(figsize=(8, 4))\n",
    "plt.bar(['Training Accuracy', 'Testing Accuracy'], accuracies, color=['blue', 'green'])\n",
    "plt.ylabel('Accuracy')\n",
    "plt.title('Comparison of Training and Testing Accuracies in Decision Tree Model')\n",
    "plt.ylim([0, 1]) \n",
    "plt.show()"
   ]
  },
  {
   "cell_type": "markdown",
   "id": "130fccda",
   "metadata": {
    "papermill": {
     "duration": 0.027732,
     "end_time": "2024-06-20T07:58:33.079660",
     "exception": false,
     "start_time": "2024-06-20T07:58:33.051928",
     "status": "completed"
    },
    "tags": []
   },
   "source": [
    "## Random Forest"
   ]
  },
  {
   "cell_type": "code",
   "execution_count": 25,
   "id": "8dd9d35a",
   "metadata": {
    "execution": {
     "iopub.execute_input": "2024-06-20T07:58:33.132944Z",
     "iopub.status.busy": "2024-06-20T07:58:33.132538Z",
     "iopub.status.idle": "2024-06-20T07:58:34.791978Z",
     "shell.execute_reply": "2024-06-20T07:58:34.790823Z"
    },
    "id": "bONfv1E_6fb6",
    "papermill": {
     "duration": 1.689822,
     "end_time": "2024-06-20T07:58:34.795005",
     "exception": false,
     "start_time": "2024-06-20T07:58:33.105183",
     "status": "completed"
    },
    "tags": []
   },
   "outputs": [
    {
     "data": {
      "text/plain": [
       "0.9867197875166003"
      ]
     },
     "execution_count": 25,
     "metadata": {},
     "output_type": "execute_result"
    }
   ],
   "source": [
    "from sklearn.ensemble import RandomForestClassifier\n",
    "randf = RandomForestClassifier(random_state = 42)\n",
    "randf.fit(x_train, y_train)\n",
    "pred_randf = randf.predict(x_test)\n",
    "randf_accuracy = randf.score(x_test, y_test)\n",
    "randf_accuracy"
   ]
  },
  {
   "cell_type": "code",
   "execution_count": 26,
   "id": "da57e224",
   "metadata": {
    "execution": {
     "iopub.execute_input": "2024-06-20T07:58:34.850651Z",
     "iopub.status.busy": "2024-06-20T07:58:34.850247Z",
     "iopub.status.idle": "2024-06-20T07:58:35.015777Z",
     "shell.execute_reply": "2024-06-20T07:58:35.014544Z"
    },
    "papermill": {
     "duration": 0.197294,
     "end_time": "2024-06-20T07:58:35.018642",
     "exception": false,
     "start_time": "2024-06-20T07:58:34.821348",
     "status": "completed"
    },
    "tags": []
   },
   "outputs": [
    {
     "name": "stdout",
     "output_type": "stream",
     "text": [
      "Training Accuracy:  1.0\n",
      "Testing Accuracy:  0.9867197875166003\n"
     ]
    }
   ],
   "source": [
    "y_train_pred_rf = randf.predict(x_train)\n",
    "train_accuracy_rf = accuracy_score(y_train, y_train_pred_rf)\n",
    "test_accuracy_rf = accuracy_score(y_test, pred_randf)\n",
    "\n",
    "print(\"Training Accuracy: \", train_accuracy_rf)\n",
    "print(\"Testing Accuracy: \", test_accuracy_rf)"
   ]
  },
  {
   "cell_type": "code",
   "execution_count": 27,
   "id": "8cdf165e",
   "metadata": {
    "execution": {
     "iopub.execute_input": "2024-06-20T07:58:35.071266Z",
     "iopub.status.busy": "2024-06-20T07:58:35.070821Z",
     "iopub.status.idle": "2024-06-20T07:58:35.259016Z",
     "shell.execute_reply": "2024-06-20T07:58:35.257932Z"
    },
    "papermill": {
     "duration": 0.217171,
     "end_time": "2024-06-20T07:58:35.261485",
     "exception": false,
     "start_time": "2024-06-20T07:58:35.044314",
     "status": "completed"
    },
    "tags": []
   },
   "outputs": [
    {
     "data": {
      "image/png": "[encoded data removed]",
      "text/plain": [
       "<Figure size 800x400 with 1 Axes>"
      ]
     },
     "metadata": {},
     "output_type": "display_data"
    }
   ],
   "source": [
    "accuracies = [train_accuracy_rf, test_accuracy_rf]\n",
    "\n",
    "plt.figure(figsize=(8, 4))\n",
    "plt.bar(['Training Accuracy', 'Testing Accuracy'], accuracies, color=['blue', 'green'])\n",
    "plt.ylabel('Accuracy')\n",
    "plt.title('Comparison of Training and Testing Accuracies in Random Forest Model')\n",
    "plt.ylim([0, 1]) \n",
    "plt.show()"
   ]
  },
  {
   "cell_type": "code",
   "execution_count": 29,
   "id": "8c440bee",
   "metadata": {
    "execution": {
     "iopub.execute_input": "2024-06-20T07:58:35.316899Z",
     "iopub.status.busy": "2024-06-20T07:58:35.316444Z",
     "iopub.status.idle": "2024-06-20T07:58:35.434810Z",
     "shell.execute_reply": "2024-06-20T07:58:35.433764Z"
    },
    "id": "pFHDUFtG74bB",
    "papermill": {
     "duration": 0.149155,
     "end_time": "2024-06-20T07:58:35.437796",
     "exception": false,
     "start_time": "2024-06-20T07:58:35.288641",
     "status": "completed"
    },
    "tags": []
   },
   "outputs": [
    {
     "data": {
      "text/plain": [
       "['randf_model_10.joblib']"
      ]
     },
     "execution_count": 29,
     "metadata": {},
     "output_type": "execute_result"
    }
   ],
   "source": [
    "import joblib as jb\n",
    "# save models\n",
    "jb.dump(knn, 'knn_model_10.joblib')\n",
    "jb.dump(dt, 'dt_model_10.joblib')\n",
    "jb.dump(randf, 'randf_model_10.joblib')"
   ]
  },
  {
   "cell_type": "code",
   "execution_count": 28,
   "id": "c763e952",
   "metadata": {
    "execution": {
     "iopub.execute_input": "2024-06-20T07:58:35.492842Z",
     "iopub.status.busy": "2024-06-20T07:58:35.492435Z",
     "iopub.status.idle": "2024-06-20T07:58:35.497236Z",
     "shell.execute_reply": "2024-06-20T07:58:35.496117Z"
    },
    "id": "6pzVXQEw8CeI",
    "papermill": {
     "duration": 0.035273,
     "end_time": "2024-06-20T07:58:35.499899",
     "exception": false,
     "start_time": "2024-06-20T07:58:35.464626",
     "status": "completed"
    },
    "tags": []
   },
   "outputs": [],
   "source": [
    "# # load models\n",
    "# knn_default = jb.load('knn.joblib')\n",
    "# dt_default = jb.load('dt.joblib')\n",
    "# randf_default = jb.load('randf.joblib')"
   ]
  },
  {
   "cell_type": "code",
   "execution_count": 30,
   "id": "1ad4823d",
   "metadata": {
    "execution": {
     "iopub.execute_input": "2024-06-20T07:58:35.554190Z",
     "iopub.status.busy": "2024-06-20T07:58:35.553756Z",
     "iopub.status.idle": "2024-06-20T07:58:35.651297Z",
     "shell.execute_reply": "2024-06-20T07:58:35.650097Z"
    },
    "id": "SW1exLvs8bpG",
    "papermill": {
     "duration": 0.127765,
     "end_time": "2024-06-20T07:58:35.653789",
     "exception": false,
     "start_time": "2024-06-20T07:58:35.526024",
     "status": "completed"
    },
    "tags": []
   },
   "outputs": [
    {
     "name": "stdout",
     "output_type": "stream",
     "text": [
      "              precision    recall  f1-score   support\n",
      "\n",
      "      arabic       0.90      0.87      0.88       141\n",
      "       dutch       0.89      1.00      0.94       119\n",
      "     english       0.79      0.10      0.18       107\n",
      "      french       0.85      0.97      0.91       107\n",
      "      german       0.91      1.00      0.95       114\n",
      "     italian       0.92      1.00      0.96       119\n",
      "      korean       0.90      0.98      0.94       111\n",
      "    mandarin       0.90      0.96      0.93       124\n",
      "      polish       0.95      1.00      0.97       109\n",
      "  portuguese       0.92      1.00      0.96       110\n",
      "     russian       0.87      1.00      0.93       104\n",
      "     spanish       0.83      0.76      0.79       124\n",
      "     turkish       0.92      1.00      0.96       117\n",
      "\n",
      "    accuracy                           0.90      1506\n",
      "   macro avg       0.89      0.90      0.87      1506\n",
      "weighted avg       0.89      0.90      0.87      1506\n",
      "\n"
     ]
    }
   ],
   "source": [
    "from sklearn.metrics import classification_report\n",
    "print(classification_report(y_test, knn_pred))"
   ]
  },
  {
   "cell_type": "code",
   "execution_count": 31,
   "id": "a5afe8de",
   "metadata": {
    "execution": {
     "iopub.execute_input": "2024-06-20T07:58:35.708569Z",
     "iopub.status.busy": "2024-06-20T07:58:35.708145Z",
     "iopub.status.idle": "2024-06-20T07:58:35.806327Z",
     "shell.execute_reply": "2024-06-20T07:58:35.805228Z"
    },
    "papermill": {
     "duration": 0.128595,
     "end_time": "2024-06-20T07:58:35.808971",
     "exception": false,
     "start_time": "2024-06-20T07:58:35.680376",
     "status": "completed"
    },
    "tags": []
   },
   "outputs": [
    {
     "name": "stdout",
     "output_type": "stream",
     "text": [
      "              precision    recall  f1-score   support\n",
      "\n",
      "      arabic       0.97      1.00      0.98       141\n",
      "       dutch       0.97      1.00      0.98       119\n",
      "     english       0.95      0.36      0.53       107\n",
      "      french       0.94      1.00      0.97       107\n",
      "      german       0.95      1.00      0.97       114\n",
      "     italian       0.98      1.00      0.99       119\n",
      "      korean       0.93      1.00      0.97       111\n",
      "    mandarin       0.97      1.00      0.98       124\n",
      "      polish       0.98      1.00      0.99       109\n",
      "  portuguese       0.96      1.00      0.98       110\n",
      "     russian       0.94      1.00      0.97       104\n",
      "     spanish       0.89      0.97      0.93       124\n",
      "     turkish       0.97      1.00      0.98       117\n",
      "\n",
      "    accuracy                           0.95      1506\n",
      "   macro avg       0.95      0.95      0.94      1506\n",
      "weighted avg       0.95      0.95      0.94      1506\n",
      "\n"
     ]
    }
   ],
   "source": [
    "print(classification_report(y_test, pred_dt))"
   ]
  },
  {
   "cell_type": "code",
   "execution_count": 32,
   "id": "78508b3a",
   "metadata": {
    "execution": {
     "iopub.execute_input": "2024-06-20T07:58:35.863880Z",
     "iopub.status.busy": "2024-06-20T07:58:35.862576Z",
     "iopub.status.idle": "2024-06-20T07:58:35.961886Z",
     "shell.execute_reply": "2024-06-20T07:58:35.960615Z"
    },
    "papermill": {
     "duration": 0.129339,
     "end_time": "2024-06-20T07:58:35.964534",
     "exception": false,
     "start_time": "2024-06-20T07:58:35.835195",
     "status": "completed"
    },
    "tags": []
   },
   "outputs": [
    {
     "name": "stdout",
     "output_type": "stream",
     "text": [
      "              precision    recall  f1-score   support\n",
      "\n",
      "      arabic       0.97      1.00      0.99       141\n",
      "       dutch       0.98      1.00      0.99       119\n",
      "     english       0.95      0.87      0.91       107\n",
      "      french       1.00      0.99      1.00       107\n",
      "      german       1.00      1.00      1.00       114\n",
      "     italian       0.99      1.00      1.00       119\n",
      "      korean       1.00      1.00      1.00       111\n",
      "    mandarin       0.99      1.00      1.00       124\n",
      "      polish       0.99      1.00      1.00       109\n",
      "  portuguese       1.00      1.00      1.00       110\n",
      "     russian       1.00      1.00      1.00       104\n",
      "     spanish       0.96      0.96      0.96       124\n",
      "     turkish       1.00      1.00      1.00       117\n",
      "\n",
      "    accuracy                           0.99      1506\n",
      "   macro avg       0.99      0.99      0.99      1506\n",
      "weighted avg       0.99      0.99      0.99      1506\n",
      "\n"
     ]
    }
   ],
   "source": [
    "print(classification_report(y_test, pred_randf))"
   ]
  }
 ],
 "metadata": {
  "colab": {
   "gpuType": "T4",
   "provenance": []
  },
  "kaggle": {
   "accelerator": "none",
   "dataSources": [
    {
     "datasetId": 4114,
     "sourceId": 6391,
     "sourceType": "datasetVersion"
    },
    {
     "datasetId": 757245,
     "sourceId": 1308085,
     "sourceType": "datasetVersion"
    }
   ],
   "dockerImageVersionId": 30732,
   "isGpuEnabled": false,
   "isInternetEnabled": false,
   "language": "python",
   "sourceType": "notebook"
  },
  "kernelspec": {
   "display_name": "Python 3.12.4 64-bit",
   "language": "python",
   "name": "python3"
  },
  "language_info": {
   "codemirror_mode": {
    "name": "ipython",
    "version": 3
   },
   "file_extension": ".py",
   "mimetype": "text/x-python",
   "name": "python",
   "nbconvert_exporter": "python",
   "pygments_lexer": "ipython3",
   "version": "3.12.4"
  },
  "papermill": {
   "default_parameters": {},
   "duration": 2153.392209,
   "end_time": "2024-06-20T08:28:36.983827",
   "environment_variables": {},
   "exception": null,
   "input_path": "__notebook__.ipynb",
   "output_path": "__notebook__.ipynb",
   "parameters": {},
   "start_time": "2024-06-20T07:52:43.591618",
   "version": "2.5.0"
  },
  "vscode": {
   "interpreter": {
    "hash": "b6f62d12c90f850fea28997d41f0d1f094adfe24e3f541002a16f557cda10b7a"
   }
  }
 },
 "nbformat": 4,
 "nbformat_minor": 5
}
