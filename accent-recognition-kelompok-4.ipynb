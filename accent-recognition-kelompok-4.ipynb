{
 "cells": [
  {
   "cell_type": "code",
   "execution_count": 1,
   "id": "c4252eac",
   "metadata": {
    "execution": {
     "iopub.execute_input": "2024-06-20T14:05:24.900471Z",
     "iopub.status.busy": "2024-06-20T14:05:24.899958Z",
     "iopub.status.idle": "2024-06-20T14:05:26.878706Z",
     "shell.execute_reply": "2024-06-20T14:05:26.877440Z"
    },
    "id": "YJz1gjlK0pBq",
    "papermill": {
     "duration": 2.006998,
     "end_time": "2024-06-20T14:05:26.881580",
     "exception": false,
     "start_time": "2024-06-20T14:05:24.874582",
     "status": "completed"
    },
    "tags": []
   },
   "outputs": [],
   "source": [
    "import pandas as pd\n",
    "import numpy as np\n",
    "import sklearn\n",
    "import matplotlib.pyplot as plt"
   ]
  },
  {
   "cell_type": "code",
   "execution_count": 2,
   "id": "dc39ced4",
   "metadata": {
    "execution": {
     "iopub.execute_input": "2024-06-20T14:05:26.931908Z",
     "iopub.status.busy": "2024-06-20T14:05:26.931379Z",
     "iopub.status.idle": "2024-06-20T14:05:45.954314Z",
     "shell.execute_reply": "2024-06-20T14:05:45.953012Z"
    },
    "id": "qMXKisr13kjk",
    "papermill": {
     "duration": 19.051757,
     "end_time": "2024-06-20T14:05:45.957357",
     "exception": false,
     "start_time": "2024-06-20T14:05:26.905600",
     "status": "completed"
    },
    "tags": []
   },
   "outputs": [
    {
     "name": "stderr",
     "output_type": "stream",
     "text": [
      "2024-06-20 14:05:29.161171: E external/local_xla/xla/stream_executor/cuda/cuda_dnn.cc:9261] Unable to register cuDNN factory: Attempting to register factory for plugin cuDNN when one has already been registered\n",
      "2024-06-20 14:05:29.161317: E external/local_xla/xla/stream_executor/cuda/cuda_fft.cc:607] Unable to register cuFFT factory: Attempting to register factory for plugin cuFFT when one has already been registered\n",
      "2024-06-20 14:05:29.329788: E external/local_xla/xla/stream_executor/cuda/cuda_blas.cc:1515] Unable to register cuBLAS factory: Attempting to register factory for plugin cuBLAS when one has already been registered\n"
     ]
    }
   ],
   "source": [
    "import tensorflow as tf\n",
    "import librosa\n",
    "import os\n",
    "import soundfile as sf\n",
    "import torch, torchaudio\n",
    "import torchaudio.functional as f\n",
    "import re\n",
    "from scipy.signal import resample\n",
    "from sklearn.metrics import accuracy_score"
   ]
  },
  {
   "cell_type": "markdown",
   "id": "a6b77a9c",
   "metadata": {
    "papermill": {
     "duration": 0.022985,
     "end_time": "2024-06-20T14:05:46.004970",
     "exception": false,
     "start_time": "2024-06-20T14:05:45.981985",
     "status": "completed"
    },
    "tags": []
   },
   "source": [
    "# Loading Dataset"
   ]
  },
  {
   "cell_type": "code",
   "execution_count": 3,
   "id": "821c67de",
   "metadata": {
    "execution": {
     "iopub.execute_input": "2024-06-20T14:05:46.052738Z",
     "iopub.status.busy": "2024-06-20T14:05:46.052008Z",
     "iopub.status.idle": "2024-06-20T14:05:46.300533Z",
     "shell.execute_reply": "2024-06-20T14:05:46.298733Z"
    },
    "id": "pVQAy3OcBRS4",
    "papermill": {
     "duration": 0.275706,
     "end_time": "2024-06-20T14:05:46.303530",
     "exception": false,
     "start_time": "2024-06-20T14:05:46.027824",
     "status": "completed"
    },
    "tags": []
   },
   "outputs": [],
   "source": [
    "dir = '/kaggle/input/speech-accent-archive/recordings/recordings'\n",
    "audio_list = os.listdir(dir)"
   ]
  },
  {
   "cell_type": "markdown",
   "id": "7276c187",
   "metadata": {
    "papermill": {
     "duration": 0.022363,
     "end_time": "2024-06-20T14:05:46.349021",
     "exception": false,
     "start_time": "2024-06-20T14:05:46.326658",
     "status": "completed"
    },
    "tags": []
   },
   "source": [
    "# Pre-Processing"
   ]
  },
  {
   "cell_type": "markdown",
   "id": "3f6b0fe1",
   "metadata": {
    "papermill": {
     "duration": 0.022364,
     "end_time": "2024-06-20T14:05:46.394076",
     "exception": false,
     "start_time": "2024-06-20T14:05:46.371712",
     "status": "completed"
    },
    "tags": []
   },
   "source": [
    "## Extracting MFCC"
   ]
  },
  {
   "cell_type": "code",
   "execution_count": 4,
   "id": "068b1d1a",
   "metadata": {
    "execution": {
     "iopub.execute_input": "2024-06-20T14:05:46.441234Z",
     "iopub.status.busy": "2024-06-20T14:05:46.440804Z",
     "iopub.status.idle": "2024-06-20T14:05:46.449255Z",
     "shell.execute_reply": "2024-06-20T14:05:46.448175Z"
    },
    "id": "QrIZgYROBTrt",
    "papermill": {
     "duration": 0.035096,
     "end_time": "2024-06-20T14:05:46.451799",
     "exception": false,
     "start_time": "2024-06-20T14:05:46.416703",
     "status": "completed"
    },
    "tags": []
   },
   "outputs": [],
   "source": [
    "target_sample_rate = 44100\n",
    "\n",
    "def extract_features(audio_file, n_fft=128, hop_length=32, n_mfcc=13):\n",
    "    y, sr = sf.read(audio_file)\n",
    "    \n",
    "    # Check if sample rate is the same\n",
    "    if sr != target_sample_rate:\n",
    "        y = resample(y, int(len(y) * target_sample_rate / sr))\n",
    "        sr = target_sample_rate \n",
    "        \n",
    "    # Extract first 10 seconds of audio\n",
    "    samples_10_sec = target_sample_rate * 5   \n",
    "    y_10_sec = y[:samples_10_sec]\n",
    "\n",
    "    # Extract MFCC\n",
    "    mfccs = librosa.feature.mfcc(y = y_10_sec, sr=sr, n_mfcc=n_mfcc)\n",
    "    \n",
    "    # Normalize MFCCs\n",
    "    mfccs_normalized = (mfccs - np.mean(mfccs)) / np.std(mfccs)\n",
    "\n",
    "    return mfccs"
   ]
  },
  {
   "cell_type": "code",
   "execution_count": 5,
   "id": "55b17359",
   "metadata": {
    "execution": {
     "iopub.execute_input": "2024-06-20T14:05:46.499508Z",
     "iopub.status.busy": "2024-06-20T14:05:46.499057Z",
     "iopub.status.idle": "2024-06-20T14:11:21.111411Z",
     "shell.execute_reply": "2024-06-20T14:11:21.109577Z"
    },
    "id": "7i6J25HBBnAC",
    "papermill": {
     "duration": 334.641612,
     "end_time": "2024-06-20T14:11:21.116520",
     "exception": false,
     "start_time": "2024-06-20T14:05:46.474908",
     "status": "completed"
    },
    "tags": []
   },
   "outputs": [],
   "source": [
    "data = []\n",
    "for audio in audio_list:\n",
    "    audio_path = dir + \"/\" + audio\n",
    "\n",
    "    feature = extract_features(audio_path)    \n",
    "    label = re.sub(r'\\d+', '', audio[:-4])\n",
    "\n",
    "    data.append((feature, label))"
   ]
  },
  {
   "cell_type": "markdown",
   "id": "38ac6584",
   "metadata": {
    "papermill": {
     "duration": 0.051921,
     "end_time": "2024-06-20T14:11:21.217657",
     "exception": false,
     "start_time": "2024-06-20T14:11:21.165736",
     "status": "completed"
    },
    "tags": []
   },
   "source": [
    "## Converting to DataFrame"
   ]
  },
  {
   "cell_type": "code",
   "execution_count": 6,
   "id": "137f17f0",
   "metadata": {
    "execution": {
     "iopub.execute_input": "2024-06-20T14:11:21.271647Z",
     "iopub.status.busy": "2024-06-20T14:11:21.270221Z",
     "iopub.status.idle": "2024-06-20T14:11:21.661523Z",
     "shell.execute_reply": "2024-06-20T14:11:21.660457Z"
    },
    "papermill": {
     "duration": 0.419398,
     "end_time": "2024-06-20T14:11:21.664335",
     "exception": false,
     "start_time": "2024-06-20T14:11:21.244937",
     "status": "completed"
    },
    "tags": []
   },
   "outputs": [],
   "source": [
    "seperated_data =[]\n",
    "label_arr = []\n",
    "for f,l in data:\n",
    "    mfcc_dict = {f'MFCC_{i+1}': np.mean(f[i]) for i in range(f.shape[0])}\n",
    "    label_arr.append(l)\n",
    "    seperated_data.append(mfcc_dict)"
   ]
  },
  {
   "cell_type": "code",
   "execution_count": 7,
   "id": "b7343677",
   "metadata": {
    "execution": {
     "iopub.execute_input": "2024-06-20T14:11:21.712671Z",
     "iopub.status.busy": "2024-06-20T14:11:21.712265Z",
     "iopub.status.idle": "2024-06-20T14:11:21.765727Z",
     "shell.execute_reply": "2024-06-20T14:11:21.764589Z"
    },
    "papermill": {
     "duration": 0.081132,
     "end_time": "2024-06-20T14:11:21.768697",
     "exception": false,
     "start_time": "2024-06-20T14:11:21.687565",
     "status": "completed"
    },
    "tags": []
   },
   "outputs": [
    {
     "data": {
      "text/html": [
       "<div>\n",
       "<style scoped>\n",
       "    .dataframe tbody tr th:only-of-type {\n",
       "        vertical-align: middle;\n",
       "    }\n",
       "\n",
       "    .dataframe tbody tr th {\n",
       "        vertical-align: top;\n",
       "    }\n",
       "\n",
       "    .dataframe thead th {\n",
       "        text-align: right;\n",
       "    }\n",
       "</style>\n",
       "<table border=\"1\" class=\"dataframe\">\n",
       "  <thead>\n",
       "    <tr style=\"text-align: right;\">\n",
       "      <th></th>\n",
       "      <th>MFCC_1</th>\n",
       "      <th>MFCC_2</th>\n",
       "      <th>MFCC_3</th>\n",
       "      <th>MFCC_4</th>\n",
       "      <th>MFCC_5</th>\n",
       "      <th>MFCC_6</th>\n",
       "      <th>MFCC_7</th>\n",
       "      <th>MFCC_8</th>\n",
       "      <th>MFCC_9</th>\n",
       "      <th>MFCC_10</th>\n",
       "      <th>MFCC_11</th>\n",
       "      <th>MFCC_12</th>\n",
       "      <th>MFCC_13</th>\n",
       "      <th>label</th>\n",
       "    </tr>\n",
       "  </thead>\n",
       "  <tbody>\n",
       "    <tr>\n",
       "      <th>0</th>\n",
       "      <td>-396.429650</td>\n",
       "      <td>166.844056</td>\n",
       "      <td>-26.592988</td>\n",
       "      <td>19.675905</td>\n",
       "      <td>9.440444</td>\n",
       "      <td>-15.084824</td>\n",
       "      <td>12.037416</td>\n",
       "      <td>-6.700806</td>\n",
       "      <td>-6.122482</td>\n",
       "      <td>3.113079</td>\n",
       "      <td>-12.255310</td>\n",
       "      <td>-0.133417</td>\n",
       "      <td>-1.442457</td>\n",
       "      <td>spanish</td>\n",
       "    </tr>\n",
       "    <tr>\n",
       "      <th>1</th>\n",
       "      <td>-315.374044</td>\n",
       "      <td>142.936627</td>\n",
       "      <td>-65.129223</td>\n",
       "      <td>5.381406</td>\n",
       "      <td>7.206723</td>\n",
       "      <td>-10.902184</td>\n",
       "      <td>3.717204</td>\n",
       "      <td>-26.519754</td>\n",
       "      <td>-1.514703</td>\n",
       "      <td>15.668458</td>\n",
       "      <td>-14.213459</td>\n",
       "      <td>-2.694849</td>\n",
       "      <td>-2.021795</td>\n",
       "      <td>english</td>\n",
       "    </tr>\n",
       "    <tr>\n",
       "      <th>2</th>\n",
       "      <td>-312.487482</td>\n",
       "      <td>125.400791</td>\n",
       "      <td>16.526782</td>\n",
       "      <td>34.864688</td>\n",
       "      <td>4.974225</td>\n",
       "      <td>20.645630</td>\n",
       "      <td>-0.804459</td>\n",
       "      <td>8.526824</td>\n",
       "      <td>-12.421622</td>\n",
       "      <td>-2.128536</td>\n",
       "      <td>-2.235220</td>\n",
       "      <td>2.025745</td>\n",
       "      <td>-0.397765</td>\n",
       "      <td>arabic</td>\n",
       "    </tr>\n",
       "    <tr>\n",
       "      <th>3</th>\n",
       "      <td>-352.076937</td>\n",
       "      <td>93.506333</td>\n",
       "      <td>-14.929739</td>\n",
       "      <td>15.153140</td>\n",
       "      <td>-12.022427</td>\n",
       "      <td>2.648440</td>\n",
       "      <td>-8.378778</td>\n",
       "      <td>3.260275</td>\n",
       "      <td>-23.195564</td>\n",
       "      <td>0.136694</td>\n",
       "      <td>-7.167136</td>\n",
       "      <td>-1.318334</td>\n",
       "      <td>0.569017</td>\n",
       "      <td>russian</td>\n",
       "    </tr>\n",
       "    <tr>\n",
       "      <th>4</th>\n",
       "      <td>-374.195575</td>\n",
       "      <td>104.946241</td>\n",
       "      <td>5.720582</td>\n",
       "      <td>33.258716</td>\n",
       "      <td>3.137331</td>\n",
       "      <td>12.003813</td>\n",
       "      <td>-2.735049</td>\n",
       "      <td>8.224015</td>\n",
       "      <td>-2.002304</td>\n",
       "      <td>1.043862</td>\n",
       "      <td>-1.255645</td>\n",
       "      <td>-3.336594</td>\n",
       "      <td>-3.344836</td>\n",
       "      <td>dutch</td>\n",
       "    </tr>\n",
       "  </tbody>\n",
       "</table>\n",
       "</div>"
      ],
      "text/plain": [
       "       MFCC_1      MFCC_2     MFCC_3     MFCC_4     MFCC_5     MFCC_6  \\\n",
       "0 -396.429650  166.844056 -26.592988  19.675905   9.440444 -15.084824   \n",
       "1 -315.374044  142.936627 -65.129223   5.381406   7.206723 -10.902184   \n",
       "2 -312.487482  125.400791  16.526782  34.864688   4.974225  20.645630   \n",
       "3 -352.076937   93.506333 -14.929739  15.153140 -12.022427   2.648440   \n",
       "4 -374.195575  104.946241   5.720582  33.258716   3.137331  12.003813   \n",
       "\n",
       "      MFCC_7     MFCC_8     MFCC_9    MFCC_10    MFCC_11   MFCC_12   MFCC_13  \\\n",
       "0  12.037416  -6.700806  -6.122482   3.113079 -12.255310 -0.133417 -1.442457   \n",
       "1   3.717204 -26.519754  -1.514703  15.668458 -14.213459 -2.694849 -2.021795   \n",
       "2  -0.804459   8.526824 -12.421622  -2.128536  -2.235220  2.025745 -0.397765   \n",
       "3  -8.378778   3.260275 -23.195564   0.136694  -7.167136 -1.318334  0.569017   \n",
       "4  -2.735049   8.224015  -2.002304   1.043862  -1.255645 -3.336594 -3.344836   \n",
       "\n",
       "     label  \n",
       "0  spanish  \n",
       "1  english  \n",
       "2   arabic  \n",
       "3  russian  \n",
       "4    dutch  "
      ]
     },
     "execution_count": 7,
     "metadata": {},
     "output_type": "execute_result"
    }
   ],
   "source": [
    "df_new = pd.DataFrame(seperated_data)\n",
    "df_new['label'] = label_arr\n",
    "df_new.head()"
   ]
  },
  {
   "cell_type": "code",
   "execution_count": 8,
   "id": "e9ad1129",
   "metadata": {
    "execution": {
     "iopub.execute_input": "2024-06-20T14:11:21.819174Z",
     "iopub.status.busy": "2024-06-20T14:11:21.818675Z",
     "iopub.status.idle": "2024-06-20T14:11:21.829823Z",
     "shell.execute_reply": "2024-06-20T14:11:21.828638Z"
    },
    "papermill": {
     "duration": 0.038891,
     "end_time": "2024-06-20T14:11:21.832474",
     "exception": false,
     "start_time": "2024-06-20T14:11:21.793583",
     "status": "completed"
    },
    "tags": []
   },
   "outputs": [
    {
     "data": {
      "text/plain": [
       "MFCC_1     0\n",
       "MFCC_2     0\n",
       "MFCC_3     0\n",
       "MFCC_4     0\n",
       "MFCC_5     0\n",
       "MFCC_6     0\n",
       "MFCC_7     0\n",
       "MFCC_8     0\n",
       "MFCC_9     0\n",
       "MFCC_10    0\n",
       "MFCC_11    0\n",
       "MFCC_12    0\n",
       "MFCC_13    0\n",
       "label      0\n",
       "dtype: int64"
      ]
     },
     "execution_count": 8,
     "metadata": {},
     "output_type": "execute_result"
    }
   ],
   "source": [
    "df_new.isnull().sum()"
   ]
  },
  {
   "cell_type": "code",
   "execution_count": 9,
   "id": "087eb3fc",
   "metadata": {
    "execution": {
     "iopub.execute_input": "2024-06-20T14:11:21.882278Z",
     "iopub.status.busy": "2024-06-20T14:11:21.881832Z",
     "iopub.status.idle": "2024-06-20T14:11:21.890897Z",
     "shell.execute_reply": "2024-06-20T14:11:21.889651Z"
    },
    "papermill": {
     "duration": 0.03694,
     "end_time": "2024-06-20T14:11:21.893512",
     "exception": false,
     "start_time": "2024-06-20T14:11:21.856572",
     "status": "completed"
    },
    "tags": []
   },
   "outputs": [
    {
     "name": "stdout",
     "output_type": "stream",
     "text": [
      "2138\n",
      "2138\n"
     ]
    }
   ],
   "source": [
    "print(len(df_new))\n",
    "df_cleaned = df_new.dropna()\n",
    "print(len(df_cleaned))"
   ]
  },
  {
   "cell_type": "code",
   "execution_count": 10,
   "id": "b1ecc78e",
   "metadata": {
    "execution": {
     "iopub.execute_input": "2024-06-20T14:11:21.943410Z",
     "iopub.status.busy": "2024-06-20T14:11:21.942973Z",
     "iopub.status.idle": "2024-06-20T14:11:21.957021Z",
     "shell.execute_reply": "2024-06-20T14:11:21.955959Z"
    },
    "papermill": {
     "duration": 0.042126,
     "end_time": "2024-06-20T14:11:21.959593",
     "exception": false,
     "start_time": "2024-06-20T14:11:21.917467",
     "status": "completed"
    },
    "tags": []
   },
   "outputs": [
    {
     "name": "stdout",
     "output_type": "stream",
     "text": [
      "label\n",
      "english           579\n",
      "spanish           162\n",
      "arabic            102\n",
      "mandarin           65\n",
      "french             63\n",
      "                 ... \n",
      "luxembourgeois      1\n",
      "wu                  1\n",
      "shan                1\n",
      "faroese             1\n",
      "jola                1\n",
      "Name: count, Length: 200, dtype: int64\n"
     ]
    }
   ],
   "source": [
    "accent_counts = df_cleaned['label'].value_counts()\n",
    "print(accent_counts)"
   ]
  },
  {
   "cell_type": "markdown",
   "id": "a5ae8226",
   "metadata": {
    "papermill": {
     "duration": 0.023113,
     "end_time": "2024-06-20T14:11:22.006242",
     "exception": false,
     "start_time": "2024-06-20T14:11:21.983129",
     "status": "completed"
    },
    "tags": []
   },
   "source": [
    "## Oversampling Dataset"
   ]
  },
  {
   "cell_type": "code",
   "execution_count": 11,
   "id": "416dc470",
   "metadata": {
    "execution": {
     "iopub.execute_input": "2024-06-20T14:11:22.055343Z",
     "iopub.status.busy": "2024-06-20T14:11:22.054249Z",
     "iopub.status.idle": "2024-06-20T14:11:22.090485Z",
     "shell.execute_reply": "2024-06-20T14:11:22.089363Z"
    },
    "papermill": {
     "duration": 0.063772,
     "end_time": "2024-06-20T14:11:22.093310",
     "exception": false,
     "start_time": "2024-06-20T14:11:22.029538",
     "status": "completed"
    },
    "tags": []
   },
   "outputs": [],
   "source": [
    "largest_accent = accent_counts.idxmax()\n",
    "max_count = accent_counts.max()\n",
    "\n",
    "# Oversample smaller accent groups to match the size of the largest group but take the ones with more than 30 audio files\n",
    "oversampled_data = []\n",
    "for accent, count in accent_counts.items():\n",
    "    if accent != largest_accent and count > 30:\n",
    "        accent_data = df_cleaned[df_cleaned['label'] == accent]\n",
    "        oversampled_accent = accent_data.sample(n=max_count, replace=True, random_state=42)\n",
    "        oversampled_data.append(oversampled_accent)\n",
    "    elif accent == largest_accent:\n",
    "        oversampled_data.append(df_cleaned[df_cleaned['label'] == accent])\n",
    "\n",
    "\n",
    "balanced_df = pd.concat(oversampled_data)"
   ]
  },
  {
   "cell_type": "code",
   "execution_count": 12,
   "id": "6b82bb10",
   "metadata": {
    "execution": {
     "iopub.execute_input": "2024-06-20T14:11:22.142074Z",
     "iopub.status.busy": "2024-06-20T14:11:22.141269Z",
     "iopub.status.idle": "2024-06-20T14:11:22.146759Z",
     "shell.execute_reply": "2024-06-20T14:11:22.145496Z"
    },
    "papermill": {
     "duration": 0.032992,
     "end_time": "2024-06-20T14:11:22.149505",
     "exception": false,
     "start_time": "2024-06-20T14:11:22.116513",
     "status": "completed"
    },
    "tags": []
   },
   "outputs": [],
   "source": [
    "# handle undersampling kl native / non native\n",
    "# native = df_cleaned[df_cleaned['label'] == 'native']\n",
    "# oversampled_native = native.sample(n=1559, replace=True, random_state=42)\n",
    "# smallest = df_cleaned[df_cleaned['label'] == 'non-native']\n",
    "\n",
    "# df_balanced = pd.concat([oversampled_native[:len(smallest)], smallest]).reset_index(drop=True)\n",
    "# df_balanced.head()"
   ]
  },
  {
   "cell_type": "code",
   "execution_count": 13,
   "id": "3e2cbf2e",
   "metadata": {
    "execution": {
     "iopub.execute_input": "2024-06-20T14:11:22.265973Z",
     "iopub.status.busy": "2024-06-20T14:11:22.265565Z",
     "iopub.status.idle": "2024-06-20T14:11:22.270793Z",
     "shell.execute_reply": "2024-06-20T14:11:22.269611Z"
    },
    "papermill": {
     "duration": 0.098386,
     "end_time": "2024-06-20T14:11:22.273179",
     "exception": false,
     "start_time": "2024-06-20T14:11:22.174793",
     "status": "completed"
    },
    "tags": []
   },
   "outputs": [],
   "source": [
    "# handle undersampling kl bbrp accent doang\n",
    "# biggest = df_cleaned[df_cleaned['label'] == 'english']\n",
    "\n",
    "# spanish = df_cleaned[df_cleaned['label'] == 'spanish']\n",
    "# oversampled_spanish = spanish.sample(n=579, replace=True, random_state=42)\n",
    "# arabic = df_cleaned[df_cleaned['label'] == 'arabic']\n",
    "# oversampled_arabic = arabic.sample(n=579, replace=True, random_state=42)\n",
    "\n",
    "# df_balanced = pd.concat([biggest, oversampled_spanish, oversampled_arabic]).reset_index(drop=True)\n",
    "# print(Counter(df_balanced['label']))\n",
    "# df_balanced.head()"
   ]
  },
  {
   "cell_type": "code",
   "execution_count": 14,
   "id": "612a5c0b",
   "metadata": {
    "execution": {
     "iopub.execute_input": "2024-06-20T14:11:22.323054Z",
     "iopub.status.busy": "2024-06-20T14:11:22.322578Z",
     "iopub.status.idle": "2024-06-20T14:11:22.347385Z",
     "shell.execute_reply": "2024-06-20T14:11:22.346104Z"
    },
    "papermill": {
     "duration": 0.052703,
     "end_time": "2024-06-20T14:11:22.349881",
     "exception": false,
     "start_time": "2024-06-20T14:11:22.297178",
     "status": "completed"
    },
    "tags": []
   },
   "outputs": [
    {
     "data": {
      "text/html": [
       "<div>\n",
       "<style scoped>\n",
       "    .dataframe tbody tr th:only-of-type {\n",
       "        vertical-align: middle;\n",
       "    }\n",
       "\n",
       "    .dataframe tbody tr th {\n",
       "        vertical-align: top;\n",
       "    }\n",
       "\n",
       "    .dataframe thead th {\n",
       "        text-align: right;\n",
       "    }\n",
       "</style>\n",
       "<table border=\"1\" class=\"dataframe\">\n",
       "  <thead>\n",
       "    <tr style=\"text-align: right;\">\n",
       "      <th></th>\n",
       "      <th>MFCC_1</th>\n",
       "      <th>MFCC_2</th>\n",
       "      <th>MFCC_3</th>\n",
       "      <th>MFCC_4</th>\n",
       "      <th>MFCC_5</th>\n",
       "      <th>MFCC_6</th>\n",
       "      <th>MFCC_7</th>\n",
       "      <th>MFCC_8</th>\n",
       "      <th>MFCC_9</th>\n",
       "      <th>MFCC_10</th>\n",
       "      <th>MFCC_11</th>\n",
       "      <th>MFCC_12</th>\n",
       "      <th>MFCC_13</th>\n",
       "      <th>label</th>\n",
       "    </tr>\n",
       "  </thead>\n",
       "  <tbody>\n",
       "    <tr>\n",
       "      <th>0</th>\n",
       "      <td>-330.133270</td>\n",
       "      <td>162.584548</td>\n",
       "      <td>-21.769244</td>\n",
       "      <td>-5.104358</td>\n",
       "      <td>-10.122103</td>\n",
       "      <td>-3.721666</td>\n",
       "      <td>9.591475</td>\n",
       "      <td>-26.680993</td>\n",
       "      <td>-13.058319</td>\n",
       "      <td>-0.143801</td>\n",
       "      <td>-15.624143</td>\n",
       "      <td>2.044865</td>\n",
       "      <td>1.791991</td>\n",
       "      <td>german</td>\n",
       "    </tr>\n",
       "    <tr>\n",
       "      <th>1</th>\n",
       "      <td>-341.789532</td>\n",
       "      <td>132.619574</td>\n",
       "      <td>0.601831</td>\n",
       "      <td>47.681482</td>\n",
       "      <td>9.711360</td>\n",
       "      <td>-0.294174</td>\n",
       "      <td>-7.281345</td>\n",
       "      <td>-13.446461</td>\n",
       "      <td>-19.497527</td>\n",
       "      <td>-19.740662</td>\n",
       "      <td>-3.158329</td>\n",
       "      <td>-7.271355</td>\n",
       "      <td>-6.388170</td>\n",
       "      <td>arabic</td>\n",
       "    </tr>\n",
       "    <tr>\n",
       "      <th>2</th>\n",
       "      <td>-421.250658</td>\n",
       "      <td>95.664571</td>\n",
       "      <td>-14.816503</td>\n",
       "      <td>18.264395</td>\n",
       "      <td>-11.243732</td>\n",
       "      <td>12.782665</td>\n",
       "      <td>-21.186349</td>\n",
       "      <td>2.590755</td>\n",
       "      <td>-4.938478</td>\n",
       "      <td>-15.970697</td>\n",
       "      <td>-11.245938</td>\n",
       "      <td>-10.957044</td>\n",
       "      <td>-12.194119</td>\n",
       "      <td>korean</td>\n",
       "    </tr>\n",
       "    <tr>\n",
       "      <th>3</th>\n",
       "      <td>-319.118536</td>\n",
       "      <td>93.952870</td>\n",
       "      <td>12.912545</td>\n",
       "      <td>49.877915</td>\n",
       "      <td>-4.416125</td>\n",
       "      <td>12.896248</td>\n",
       "      <td>-19.733087</td>\n",
       "      <td>-10.902267</td>\n",
       "      <td>-8.214854</td>\n",
       "      <td>-1.831642</td>\n",
       "      <td>-19.086026</td>\n",
       "      <td>-11.696086</td>\n",
       "      <td>-7.329425</td>\n",
       "      <td>turkish</td>\n",
       "    </tr>\n",
       "    <tr>\n",
       "      <th>4</th>\n",
       "      <td>-358.332221</td>\n",
       "      <td>122.910272</td>\n",
       "      <td>7.424896</td>\n",
       "      <td>32.483800</td>\n",
       "      <td>-1.138527</td>\n",
       "      <td>10.564397</td>\n",
       "      <td>-3.145841</td>\n",
       "      <td>8.001234</td>\n",
       "      <td>-4.130050</td>\n",
       "      <td>8.179388</td>\n",
       "      <td>-0.898651</td>\n",
       "      <td>0.960461</td>\n",
       "      <td>-2.046598</td>\n",
       "      <td>russian</td>\n",
       "    </tr>\n",
       "  </tbody>\n",
       "</table>\n",
       "</div>"
      ],
      "text/plain": [
       "       MFCC_1      MFCC_2     MFCC_3     MFCC_4     MFCC_5     MFCC_6  \\\n",
       "0 -330.133270  162.584548 -21.769244  -5.104358 -10.122103  -3.721666   \n",
       "1 -341.789532  132.619574   0.601831  47.681482   9.711360  -0.294174   \n",
       "2 -421.250658   95.664571 -14.816503  18.264395 -11.243732  12.782665   \n",
       "3 -319.118536   93.952870  12.912545  49.877915  -4.416125  12.896248   \n",
       "4 -358.332221  122.910272   7.424896  32.483800  -1.138527  10.564397   \n",
       "\n",
       "      MFCC_7     MFCC_8     MFCC_9    MFCC_10    MFCC_11    MFCC_12  \\\n",
       "0   9.591475 -26.680993 -13.058319  -0.143801 -15.624143   2.044865   \n",
       "1  -7.281345 -13.446461 -19.497527 -19.740662  -3.158329  -7.271355   \n",
       "2 -21.186349   2.590755  -4.938478 -15.970697 -11.245938 -10.957044   \n",
       "3 -19.733087 -10.902267  -8.214854  -1.831642 -19.086026 -11.696086   \n",
       "4  -3.145841   8.001234  -4.130050   8.179388  -0.898651   0.960461   \n",
       "\n",
       "     MFCC_13    label  \n",
       "0   1.791991   german  \n",
       "1  -6.388170   arabic  \n",
       "2 -12.194119   korean  \n",
       "3  -7.329425  turkish  \n",
       "4  -2.046598  russian  "
      ]
     },
     "execution_count": 14,
     "metadata": {},
     "output_type": "execute_result"
    }
   ],
   "source": [
    "df_shuffled = balanced_df.sample(frac=1, random_state=42).reset_index(drop=True)\n",
    "df_shuffled.head()"
   ]
  },
  {
   "cell_type": "code",
   "execution_count": 15,
   "id": "44832714",
   "metadata": {
    "execution": {
     "iopub.execute_input": "2024-06-20T14:11:22.400512Z",
     "iopub.status.busy": "2024-06-20T14:11:22.400121Z",
     "iopub.status.idle": "2024-06-20T14:11:22.408476Z",
     "shell.execute_reply": "2024-06-20T14:11:22.407375Z"
    },
    "id": "dAX6g0373_Q1",
    "papermill": {
     "duration": 0.037142,
     "end_time": "2024-06-20T14:11:22.411104",
     "exception": false,
     "start_time": "2024-06-20T14:11:22.373962",
     "status": "completed"
    },
    "tags": []
   },
   "outputs": [],
   "source": [
    "# Seperating Data to x and y\n",
    "y = df_shuffled[\"label\"]\n",
    "x = df_shuffled.drop('label', axis = 1)"
   ]
  },
  {
   "cell_type": "markdown",
   "id": "109aacf1",
   "metadata": {
    "papermill": {
     "duration": 0.024746,
     "end_time": "2024-06-20T14:11:22.461427",
     "exception": false,
     "start_time": "2024-06-20T14:11:22.436681",
     "status": "completed"
    },
    "tags": []
   },
   "source": [
    "## Encoding Label (From Categorial to Numerical)"
   ]
  },
  {
   "cell_type": "code",
   "execution_count": 16,
   "id": "0e26265b",
   "metadata": {
    "execution": {
     "iopub.execute_input": "2024-06-20T14:11:22.511355Z",
     "iopub.status.busy": "2024-06-20T14:11:22.510940Z",
     "iopub.status.idle": "2024-06-20T14:11:22.525719Z",
     "shell.execute_reply": "2024-06-20T14:11:22.524619Z"
    },
    "id": "bcpEojqYB2gc",
    "papermill": {
     "duration": 0.043632,
     "end_time": "2024-06-20T14:11:22.529240",
     "exception": false,
     "start_time": "2024-06-20T14:11:22.485608",
     "status": "completed"
    },
    "tags": []
   },
   "outputs": [
    {
     "name": "stdout",
     "output_type": "stream",
     "text": [
      "Label mapping:\n",
      "german: 4\n",
      "arabic: 0\n",
      "korean: 6\n",
      "turkish: 12\n",
      "russian: 10\n",
      "portuguese: 9\n",
      "english: 2\n",
      "mandarin: 7\n",
      "dutch: 1\n",
      "spanish: 11\n",
      "polish: 8\n",
      "french: 3\n",
      "italian: 5\n"
     ]
    }
   ],
   "source": [
    "from sklearn.preprocessing import LabelEncoder\n",
    "label_encoder = LabelEncoder()\n",
    "encoded_labels = label_encoder.fit_transform(y)\n",
    "\n",
    "label_mapping = {label: encoded_label for label, encoded_label in zip(y, encoded_labels)}\n",
    "\n",
    "# Print the mapping\n",
    "class_label = []\n",
    "print(\"Label mapping:\")\n",
    "for label, encoded_label in label_mapping.items():\n",
    "    class_label.append(label)\n",
    "    print(f\"{label}: {encoded_label}\")"
   ]
  },
  {
   "cell_type": "code",
   "execution_count": 17,
   "id": "82506410",
   "metadata": {
    "execution": {
     "iopub.execute_input": "2024-06-20T14:11:22.579034Z",
     "iopub.status.busy": "2024-06-20T14:11:22.578650Z",
     "iopub.status.idle": "2024-06-20T14:11:22.603343Z",
     "shell.execute_reply": "2024-06-20T14:11:22.601928Z"
    },
    "id": "G1md5LYk5EhK",
    "papermill": {
     "duration": 0.053126,
     "end_time": "2024-06-20T14:11:22.606344",
     "exception": false,
     "start_time": "2024-06-20T14:11:22.553218",
     "status": "completed"
    },
    "tags": []
   },
   "outputs": [],
   "source": [
    "from sklearn.model_selection import train_test_split\n",
    "x_train, x_test, y_train, y_test = train_test_split(x, y, test_size = 0.2, random_state = 42)"
   ]
  },
  {
   "cell_type": "markdown",
   "id": "5d5c5eac",
   "metadata": {
    "papermill": {
     "duration": 0.023619,
     "end_time": "2024-06-20T14:11:22.653978",
     "exception": false,
     "start_time": "2024-06-20T14:11:22.630359",
     "status": "completed"
    },
    "tags": []
   },
   "source": [
    "# Training with Machine Learning Model"
   ]
  },
  {
   "cell_type": "markdown",
   "id": "1b021d10",
   "metadata": {
    "papermill": {
     "duration": 0.023947,
     "end_time": "2024-06-20T14:11:22.701916",
     "exception": false,
     "start_time": "2024-06-20T14:11:22.677969",
     "status": "completed"
    },
    "tags": []
   },
   "source": [
    "## KNN"
   ]
  },
  {
   "cell_type": "code",
   "execution_count": 18,
   "id": "9bc0ec41",
   "metadata": {
    "execution": {
     "iopub.execute_input": "2024-06-20T14:11:22.754553Z",
     "iopub.status.busy": "2024-06-20T14:11:22.754140Z",
     "iopub.status.idle": "2024-06-20T14:11:23.182750Z",
     "shell.execute_reply": "2024-06-20T14:11:23.181591Z"
    },
    "id": "OcVPRJ4-5M7z",
    "papermill": {
     "duration": 0.457828,
     "end_time": "2024-06-20T14:11:23.185449",
     "exception": false,
     "start_time": "2024-06-20T14:11:22.727621",
     "status": "completed"
    },
    "tags": []
   },
   "outputs": [
    {
     "data": {
      "text/plain": [
       "0.897078353253652"
      ]
     },
     "execution_count": 18,
     "metadata": {},
     "output_type": "execute_result"
    }
   ],
   "source": [
    "from sklearn.neighbors import KNeighborsClassifier\n",
    "knn = KNeighborsClassifier()\n",
    "knn.fit(x_train, y_train)\n",
    "knn_pred = knn.predict(x_test)\n",
    "knn_accuracy = knn.score(x_test, y_test)\n",
    "knn_accuracy"
   ]
  },
  {
   "cell_type": "code",
   "execution_count": 19,
   "id": "33ceae06",
   "metadata": {
    "execution": {
     "iopub.execute_input": "2024-06-20T14:11:23.236364Z",
     "iopub.status.busy": "2024-06-20T14:11:23.235352Z",
     "iopub.status.idle": "2024-06-20T14:11:23.701900Z",
     "shell.execute_reply": "2024-06-20T14:11:23.700445Z"
    },
    "papermill": {
     "duration": 0.494757,
     "end_time": "2024-06-20T14:11:23.704590",
     "exception": false,
     "start_time": "2024-06-20T14:11:23.209833",
     "status": "completed"
    },
    "tags": []
   },
   "outputs": [
    {
     "name": "stdout",
     "output_type": "stream",
     "text": [
      "Training Accuracy:  0.9250954990865304\n",
      "Testing Accuracy:  0.897078353253652\n"
     ]
    }
   ],
   "source": [
    "y_train_pred_knn = knn.predict(x_train)\n",
    "train_accuracy_knn = accuracy_score(y_train, y_train_pred_knn)\n",
    "test_accuracy_knn = accuracy_score(y_test, knn_pred)\n",
    "\n",
    "print(\"Training Accuracy: \", train_accuracy_knn)\n",
    "print(\"Testing Accuracy: \", test_accuracy_knn)"
   ]
  },
  {
   "cell_type": "code",
   "execution_count": 20,
   "id": "da5366b9",
   "metadata": {
    "execution": {
     "iopub.execute_input": "2024-06-20T14:11:23.755196Z",
     "iopub.status.busy": "2024-06-20T14:11:23.754784Z",
     "iopub.status.idle": "2024-06-20T14:11:24.026557Z",
     "shell.execute_reply": "2024-06-20T14:11:24.025389Z"
    },
    "papermill": {
     "duration": 0.300193,
     "end_time": "2024-06-20T14:11:24.029583",
     "exception": false,
     "start_time": "2024-06-20T14:11:23.729390",
     "status": "completed"
    },
    "tags": []
   },
   "outputs": [
    {
     "data": {
      "image/png": "[encoded data removed]",
      "text/plain": [
       "<Figure size 800x400 with 1 Axes>"
      ]
     },
     "metadata": {},
     "output_type": "display_data"
    }
   ],
   "source": [
    "accuracies = [train_accuracy_knn, test_accuracy_knn]\n",
    "\n",
    "plt.figure(figsize=(8, 4))\n",
    "plt.bar(['Training Accuracy', 'Testing Accuracy'], accuracies, color=['blue', 'green'])\n",
    "plt.ylabel('Accuracy')\n",
    "plt.title('Comparison of Training and Testing Accuracies in KNN Model')\n",
    "plt.ylim([0, 1]) \n",
    "plt.show()"
   ]
  },
  {
   "cell_type": "markdown",
   "id": "cb75157d",
   "metadata": {
    "papermill": {
     "duration": 0.024446,
     "end_time": "2024-06-20T14:11:24.080206",
     "exception": false,
     "start_time": "2024-06-20T14:11:24.055760",
     "status": "completed"
    },
    "tags": []
   },
   "source": [
    "## Decision Tree"
   ]
  },
  {
   "cell_type": "code",
   "execution_count": 21,
   "id": "e6ecf6fc",
   "metadata": {
    "execution": {
     "iopub.execute_input": "2024-06-20T14:11:24.131658Z",
     "iopub.status.busy": "2024-06-20T14:11:24.131268Z",
     "iopub.status.idle": "2024-06-20T14:11:24.248437Z",
     "shell.execute_reply": "2024-06-20T14:11:24.247279Z"
    },
    "id": "y_W4C0aP5d_A",
    "papermill": {
     "duration": 0.145701,
     "end_time": "2024-06-20T14:11:24.250944",
     "exception": false,
     "start_time": "2024-06-20T14:11:24.105243",
     "status": "completed"
    },
    "tags": []
   },
   "outputs": [
    {
     "data": {
      "text/plain": [
       "0.9581673306772909"
      ]
     },
     "execution_count": 21,
     "metadata": {},
     "output_type": "execute_result"
    }
   ],
   "source": [
    "from sklearn.tree import DecisionTreeClassifier\n",
    "dt = DecisionTreeClassifier(random_state = 42)\n",
    "dt.fit(x_train, y_train)\n",
    "pred_dt = dt.predict(x_test)\n",
    "dt_accuracy = dt.score(x_test, y_test)\n",
    "dt_accuracy"
   ]
  },
  {
   "cell_type": "code",
   "execution_count": 22,
   "id": "03d05261",
   "metadata": {
    "execution": {
     "iopub.execute_input": "2024-06-20T14:11:24.302193Z",
     "iopub.status.busy": "2024-06-20T14:11:24.301713Z",
     "iopub.status.idle": "2024-06-20T14:11:24.330199Z",
     "shell.execute_reply": "2024-06-20T14:11:24.328474Z"
    },
    "papermill": {
     "duration": 0.057027,
     "end_time": "2024-06-20T14:11:24.332728",
     "exception": false,
     "start_time": "2024-06-20T14:11:24.275701",
     "status": "completed"
    },
    "tags": []
   },
   "outputs": [
    {
     "name": "stdout",
     "output_type": "stream",
     "text": [
      "Training Accuracy:  1.0\n",
      "Testing Accuracy:  0.9581673306772909\n"
     ]
    }
   ],
   "source": [
    "y_train_pred_dt = dt.predict(x_train)\n",
    "train_accuracy_dt = accuracy_score(y_train, y_train_pred_dt)\n",
    "test_accuracy_dt = accuracy_score(y_test, pred_dt)\n",
    "\n",
    "print(\"Training Accuracy: \", train_accuracy_dt)\n",
    "print(\"Testing Accuracy: \", test_accuracy_dt)"
   ]
  },
  {
   "cell_type": "code",
   "execution_count": 23,
   "id": "21c85914",
   "metadata": {
    "execution": {
     "iopub.execute_input": "2024-06-20T14:11:24.384512Z",
     "iopub.status.busy": "2024-06-20T14:11:24.384081Z",
     "iopub.status.idle": "2024-06-20T14:11:24.628483Z",
     "shell.execute_reply": "2024-06-20T14:11:24.627165Z"
    },
    "papermill": {
     "duration": 0.273633,
     "end_time": "2024-06-20T14:11:24.631308",
     "exception": false,
     "start_time": "2024-06-20T14:11:24.357675",
     "status": "completed"
    },
    "tags": []
   },
   "outputs": [
    {
     "data": {
      "image/png": "[encoded data removed]",
      "text/plain": [
       "<Figure size 800x400 with 1 Axes>"
      ]
     },
     "metadata": {},
     "output_type": "display_data"
    }
   ],
   "source": [
    "accuracies = [train_accuracy_dt, test_accuracy_dt]\n",
    "\n",
    "plt.figure(figsize=(8, 4))\n",
    "plt.bar(['Training Accuracy', 'Testing Accuracy'], accuracies, color=['blue', 'green'])\n",
    "plt.ylabel('Accuracy')\n",
    "plt.title('Comparison of Training and Testing Accuracies in Decision Tree Model')\n",
    "plt.ylim([0, 1]) \n",
    "plt.show()"
   ]
  },
  {
   "cell_type": "markdown",
   "id": "29692e3c",
   "metadata": {
    "papermill": {
     "duration": 0.026086,
     "end_time": "2024-06-20T14:11:24.683224",
     "exception": false,
     "start_time": "2024-06-20T14:11:24.657138",
     "status": "completed"
    },
    "tags": []
   },
   "source": [
    "## Random Forest"
   ]
  },
  {
   "cell_type": "code",
   "execution_count": 24,
   "id": "2f3cda45",
   "metadata": {
    "execution": {
     "iopub.execute_input": "2024-06-20T14:11:24.735714Z",
     "iopub.status.busy": "2024-06-20T14:11:24.735319Z",
     "iopub.status.idle": "2024-06-20T14:11:26.379465Z",
     "shell.execute_reply": "2024-06-20T14:11:26.378373Z"
    },
    "id": "bONfv1E_6fb6",
    "papermill": {
     "duration": 1.673603,
     "end_time": "2024-06-20T14:11:26.382210",
     "exception": false,
     "start_time": "2024-06-20T14:11:24.708607",
     "status": "completed"
    },
    "tags": []
   },
   "outputs": [
    {
     "data": {
      "text/plain": [
       "0.9873837981407703"
      ]
     },
     "execution_count": 24,
     "metadata": {},
     "output_type": "execute_result"
    }
   ],
   "source": [
    "from sklearn.ensemble import RandomForestClassifier\n",
    "randf = RandomForestClassifier(random_state = 42)\n",
    "randf.fit(x_train, y_train)\n",
    "pred_randf = randf.predict(x_test)\n",
    "randf_accuracy = randf.score(x_test, y_test)\n",
    "randf_accuracy"
   ]
  },
  {
   "cell_type": "code",
   "execution_count": 25,
   "id": "56e5b7c9",
   "metadata": {
    "execution": {
     "iopub.execute_input": "2024-06-20T14:11:26.439014Z",
     "iopub.status.busy": "2024-06-20T14:11:26.438517Z",
     "iopub.status.idle": "2024-06-20T14:11:26.603899Z",
     "shell.execute_reply": "2024-06-20T14:11:26.602430Z"
    },
    "papermill": {
     "duration": 0.199161,
     "end_time": "2024-06-20T14:11:26.607845",
     "exception": false,
     "start_time": "2024-06-20T14:11:26.408684",
     "status": "completed"
    },
    "tags": []
   },
   "outputs": [
    {
     "name": "stdout",
     "output_type": "stream",
     "text": [
      "Training Accuracy:  1.0\n",
      "Testing Accuracy:  0.9873837981407703\n"
     ]
    }
   ],
   "source": [
    "y_train_pred_rf = randf.predict(x_train)\n",
    "train_accuracy_rf = accuracy_score(y_train, y_train_pred_rf)\n",
    "test_accuracy_rf = accuracy_score(y_test, pred_randf)\n",
    "\n",
    "print(\"Training Accuracy: \", train_accuracy_rf)\n",
    "print(\"Testing Accuracy: \", test_accuracy_rf)"
   ]
  },
  {
   "cell_type": "code",
   "execution_count": 26,
   "id": "6fe62585",
   "metadata": {
    "execution": {
     "iopub.execute_input": "2024-06-20T14:11:26.662823Z",
     "iopub.status.busy": "2024-06-20T14:11:26.662363Z",
     "iopub.status.idle": "2024-06-20T14:11:26.908857Z",
     "shell.execute_reply": "2024-06-20T14:11:26.907600Z"
    },
    "papermill": {
     "duration": 0.277267,
     "end_time": "2024-06-20T14:11:26.911743",
     "exception": false,
     "start_time": "2024-06-20T14:11:26.634476",
     "status": "completed"
    },
    "tags": []
   },
   "outputs": [
    {
     "data": {
      "image/png": "[encoded data removed]",
      "text/plain": [
       "<Figure size 800x400 with 1 Axes>"
      ]
     },
     "metadata": {},
     "output_type": "display_data"
    }
   ],
   "source": [
    "accuracies = [train_accuracy_rf, test_accuracy_rf]\n",
    "\n",
    "plt.figure(figsize=(8, 4))\n",
    "plt.bar(['Training Accuracy', 'Testing Accuracy'], accuracies, color=['blue', 'green'])\n",
    "plt.ylabel('Accuracy')\n",
    "plt.title('Comparison of Training and Testing Accuracies in Random Forest Model')\n",
    "plt.ylim([0, 1]) \n",
    "plt.show()"
   ]
  },
  {
   "cell_type": "code",
   "execution_count": 27,
   "id": "b9d1bd3d",
   "metadata": {
    "execution": {
     "iopub.execute_input": "2024-06-20T14:11:26.966136Z",
     "iopub.status.busy": "2024-06-20T14:11:26.965710Z",
     "iopub.status.idle": "2024-06-20T14:11:27.085145Z",
     "shell.execute_reply": "2024-06-20T14:11:27.084015Z"
    },
    "id": "pFHDUFtG74bB",
    "papermill": {
     "duration": 0.149332,
     "end_time": "2024-06-20T14:11:27.087610",
     "exception": false,
     "start_time": "2024-06-20T14:11:26.938278",
     "status": "completed"
    },
    "tags": []
   },
   "outputs": [
    {
     "data": {
      "text/plain": [
       "['randf_model_5.joblib']"
      ]
     },
     "execution_count": 27,
     "metadata": {},
     "output_type": "execute_result"
    }
   ],
   "source": [
    "import joblib as jb\n",
    "# save models\n",
    "jb.dump(knn, 'knn_model_5.joblib')\n",
    "jb.dump(dt, 'dt_model_5.joblib')\n",
    "jb.dump(randf, 'randf_model_5.joblib')"
   ]
  },
  {
   "cell_type": "code",
   "execution_count": 28,
   "id": "1425efed",
   "metadata": {
    "execution": {
     "iopub.execute_input": "2024-06-20T14:11:27.142065Z",
     "iopub.status.busy": "2024-06-20T14:11:27.141045Z",
     "iopub.status.idle": "2024-06-20T14:11:27.145970Z",
     "shell.execute_reply": "2024-06-20T14:11:27.144906Z"
    },
    "id": "6pzVXQEw8CeI",
    "papermill": {
     "duration": 0.03477,
     "end_time": "2024-06-20T14:11:27.148405",
     "exception": false,
     "start_time": "2024-06-20T14:11:27.113635",
     "status": "completed"
    },
    "tags": []
   },
   "outputs": [],
   "source": [
    "# # load models\n",
    "# knn_default = jb.load('knn.joblib')\n",
    "# dt_default = jb.load('dt.joblib')\n",
    "# randf_default = jb.load('randf.joblib')"
   ]
  },
  {
   "cell_type": "code",
   "execution_count": 29,
   "id": "c0c65954",
   "metadata": {
    "execution": {
     "iopub.execute_input": "2024-06-20T14:11:27.202721Z",
     "iopub.status.busy": "2024-06-20T14:11:27.202338Z",
     "iopub.status.idle": "2024-06-20T14:11:27.302888Z",
     "shell.execute_reply": "2024-06-20T14:11:27.301763Z"
    },
    "id": "SW1exLvs8bpG",
    "papermill": {
     "duration": 0.130445,
     "end_time": "2024-06-20T14:11:27.305466",
     "exception": false,
     "start_time": "2024-06-20T14:11:27.175021",
     "status": "completed"
    },
    "tags": []
   },
   "outputs": [
    {
     "name": "stdout",
     "output_type": "stream",
     "text": [
      "              precision    recall  f1-score   support\n",
      "\n",
      "      arabic       0.87      0.93      0.90       141\n",
      "       dutch       0.87      1.00      0.93       119\n",
      "     english       0.55      0.06      0.10       107\n",
      "      french       0.91      0.97      0.94       107\n",
      "      german       0.94      1.00      0.97       114\n",
      "     italian       0.94      1.00      0.97       119\n",
      "      korean       0.87      0.98      0.92       111\n",
      "    mandarin       0.93      0.94      0.94       124\n",
      "      polish       0.92      1.00      0.96       109\n",
      "  portuguese       0.92      1.00      0.96       104\n",
      "     russian       0.87      1.00      0.93       110\n",
      "     spanish       0.81      0.74      0.78       124\n",
      "     turkish       0.94      1.00      0.97       117\n",
      "\n",
      "    accuracy                           0.90      1506\n",
      "   macro avg       0.87      0.89      0.87      1506\n",
      "weighted avg       0.87      0.90      0.87      1506\n",
      "\n"
     ]
    }
   ],
   "source": [
    "from sklearn.metrics import classification_report\n",
    "print(classification_report(y_test, knn_pred))"
   ]
  },
  {
   "cell_type": "code",
   "execution_count": 30,
   "id": "fa946227",
   "metadata": {
    "execution": {
     "iopub.execute_input": "2024-06-20T14:11:27.360829Z",
     "iopub.status.busy": "2024-06-20T14:11:27.360414Z",
     "iopub.status.idle": "2024-06-20T14:11:27.460312Z",
     "shell.execute_reply": "2024-06-20T14:11:27.459141Z"
    },
    "papermill": {
     "duration": 0.130527,
     "end_time": "2024-06-20T14:11:27.463136",
     "exception": false,
     "start_time": "2024-06-20T14:11:27.332609",
     "status": "completed"
    },
    "tags": []
   },
   "outputs": [
    {
     "name": "stdout",
     "output_type": "stream",
     "text": [
      "              precision    recall  f1-score   support\n",
      "\n",
      "      arabic       0.97      1.00      0.98       141\n",
      "       dutch       1.00      1.00      1.00       119\n",
      "     english       0.96      0.46      0.62       107\n",
      "      french       0.93      0.99      0.96       107\n",
      "      german       0.97      1.00      0.98       114\n",
      "     italian       0.99      1.00      1.00       119\n",
      "      korean       0.98      1.00      0.99       111\n",
      "    mandarin       0.95      1.00      0.98       124\n",
      "      polish       0.96      1.00      0.98       109\n",
      "  portuguese       0.95      1.00      0.98       104\n",
      "     russian       0.94      1.00      0.97       110\n",
      "     spanish       0.89      0.97      0.93       124\n",
      "     turkish       0.97      1.00      0.98       117\n",
      "\n",
      "    accuracy                           0.96      1506\n",
      "   macro avg       0.96      0.96      0.95      1506\n",
      "weighted avg       0.96      0.96      0.95      1506\n",
      "\n"
     ]
    }
   ],
   "source": [
    "print(classification_report(y_test, pred_dt))"
   ]
  },
  {
   "cell_type": "code",
   "execution_count": 31,
   "id": "cdb00301",
   "metadata": {
    "execution": {
     "iopub.execute_input": "2024-06-20T14:11:27.519106Z",
     "iopub.status.busy": "2024-06-20T14:11:27.518597Z",
     "iopub.status.idle": "2024-06-20T14:11:27.620294Z",
     "shell.execute_reply": "2024-06-20T14:11:27.618662Z"
    },
    "papermill": {
     "duration": 0.132983,
     "end_time": "2024-06-20T14:11:27.623335",
     "exception": false,
     "start_time": "2024-06-20T14:11:27.490352",
     "status": "completed"
    },
    "tags": []
   },
   "outputs": [
    {
     "name": "stdout",
     "output_type": "stream",
     "text": [
      "              precision    recall  f1-score   support\n",
      "\n",
      "      arabic       0.97      1.00      0.99       141\n",
      "       dutch       1.00      1.00      1.00       119\n",
      "     english       0.95      0.87      0.91       107\n",
      "      french       1.00      0.99      1.00       107\n",
      "      german       1.00      1.00      1.00       114\n",
      "     italian       1.00      1.00      1.00       119\n",
      "      korean       0.99      1.00      1.00       111\n",
      "    mandarin       0.98      1.00      0.99       124\n",
      "      polish       0.99      1.00      1.00       109\n",
      "  portuguese       1.00      1.00      1.00       104\n",
      "     russian       1.00      1.00      1.00       110\n",
      "     spanish       0.96      0.97      0.96       124\n",
      "     turkish       0.99      1.00      1.00       117\n",
      "\n",
      "    accuracy                           0.99      1506\n",
      "   macro avg       0.99      0.99      0.99      1506\n",
      "weighted avg       0.99      0.99      0.99      1506\n",
      "\n"
     ]
    }
   ],
   "source": [
    "print(classification_report(y_test, pred_randf))"
   ]
  },
  {
   "cell_type": "markdown",
   "id": "46e42d55",
   "metadata": {
    "papermill": {
     "duration": 0.026507,
     "end_time": "2024-06-20T14:11:27.677152",
     "exception": false,
     "start_time": "2024-06-20T14:11:27.650645",
     "status": "completed"
    },
    "tags": []
   },
   "source": [
    "# CNN"
   ]
  },
  {
   "cell_type": "code",
   "execution_count": 32,
   "id": "e0170064",
   "metadata": {
    "execution": {
     "iopub.execute_input": "2024-06-20T14:11:27.733064Z",
     "iopub.status.busy": "2024-06-20T14:11:27.732633Z",
     "iopub.status.idle": "2024-06-20T14:11:28.260244Z",
     "shell.execute_reply": "2024-06-20T14:11:28.259066Z"
    },
    "papermill": {
     "duration": 0.559485,
     "end_time": "2024-06-20T14:11:28.263292",
     "exception": false,
     "start_time": "2024-06-20T14:11:27.703807",
     "status": "completed"
    },
    "tags": []
   },
   "outputs": [],
   "source": [
    "import tensorflow as tf\n",
    "from tensorflow.keras.models import Sequential\n",
    "from tensorflow.keras.layers import Conv2D, MaxPooling2D, Flatten, Dense, Dropout\n",
    "from tensorflow.keras.optimizers import Adam\n",
    "from sklearn.model_selection import train_test_split\n",
    "from sklearn.preprocessing import LabelEncoder\n",
    "from tensorflow.keras.utils import to_categorical"
   ]
  },
  {
   "cell_type": "code",
   "execution_count": 33,
   "id": "c911b45c",
   "metadata": {
    "execution": {
     "iopub.execute_input": "2024-06-20T14:11:28.318379Z",
     "iopub.status.busy": "2024-06-20T14:11:28.317964Z",
     "iopub.status.idle": "2024-06-20T14:11:28.324980Z",
     "shell.execute_reply": "2024-06-20T14:11:28.323865Z"
    },
    "papermill": {
     "duration": 0.037552,
     "end_time": "2024-06-20T14:11:28.327571",
     "exception": false,
     "start_time": "2024-06-20T14:11:28.290019",
     "status": "completed"
    },
    "tags": []
   },
   "outputs": [],
   "source": [
    "X = np.array(df_shuffled.drop('label', axis=1).values)  \n",
    "y = df_shuffled['label'].values"
   ]
  },
  {
   "cell_type": "code",
   "execution_count": 34,
   "id": "2f6fee00",
   "metadata": {
    "execution": {
     "iopub.execute_input": "2024-06-20T14:11:28.383016Z",
     "iopub.status.busy": "2024-06-20T14:11:28.382625Z",
     "iopub.status.idle": "2024-06-20T14:11:28.391557Z",
     "shell.execute_reply": "2024-06-20T14:11:28.390357Z"
    },
    "papermill": {
     "duration": 0.039607,
     "end_time": "2024-06-20T14:11:28.394317",
     "exception": false,
     "start_time": "2024-06-20T14:11:28.354710",
     "status": "completed"
    },
    "tags": []
   },
   "outputs": [],
   "source": [
    "label_encoder = LabelEncoder()\n",
    "y_encoded = label_encoder.fit_transform(y)\n",
    "\n",
    "y_onehot = to_categorical(y_encoded)"
   ]
  },
  {
   "cell_type": "code",
   "execution_count": 35,
   "id": "47bd40c6",
   "metadata": {
    "execution": {
     "iopub.execute_input": "2024-06-20T14:11:28.449229Z",
     "iopub.status.busy": "2024-06-20T14:11:28.448776Z",
     "iopub.status.idle": "2024-06-20T14:11:28.457172Z",
     "shell.execute_reply": "2024-06-20T14:11:28.455910Z"
    },
    "papermill": {
     "duration": 0.038763,
     "end_time": "2024-06-20T14:11:28.459736",
     "exception": false,
     "start_time": "2024-06-20T14:11:28.420973",
     "status": "completed"
    },
    "tags": []
   },
   "outputs": [],
   "source": [
    "X_train, X_test, y_train, y_test = train_test_split(X, y_onehot, test_size=0.2, random_state=42)"
   ]
  },
  {
   "cell_type": "code",
   "execution_count": 36,
   "id": "5fdafcb6",
   "metadata": {
    "execution": {
     "iopub.execute_input": "2024-06-20T14:11:28.516342Z",
     "iopub.status.busy": "2024-06-20T14:11:28.515917Z",
     "iopub.status.idle": "2024-06-20T14:11:28.520877Z",
     "shell.execute_reply": "2024-06-20T14:11:28.519600Z"
    },
    "papermill": {
     "duration": 0.035786,
     "end_time": "2024-06-20T14:11:28.523407",
     "exception": false,
     "start_time": "2024-06-20T14:11:28.487621",
     "status": "completed"
    },
    "tags": []
   },
   "outputs": [],
   "source": [
    "# X_train = X_train.reshape(X_train.shape[0], X_train.shape[1], X_train.shape[2], 1)\n",
    "# X_test = X_test.reshape(X_test.shape[0], X_test.shape[1], X_test.shape[2], 1)"
   ]
  },
  {
   "cell_type": "code",
   "execution_count": 37,
   "id": "89b45347",
   "metadata": {
    "execution": {
     "iopub.execute_input": "2024-06-20T14:11:28.578641Z",
     "iopub.status.busy": "2024-06-20T14:11:28.578253Z",
     "iopub.status.idle": "2024-06-20T14:12:57.256315Z",
     "shell.execute_reply": "2024-06-20T14:12:57.255155Z"
    },
    "papermill": {
     "duration": 88.708968,
     "end_time": "2024-06-20T14:12:57.259321",
     "exception": false,
     "start_time": "2024-06-20T14:11:28.550353",
     "status": "completed"
    },
    "tags": []
   },
   "outputs": [
    {
     "name": "stdout",
     "output_type": "stream",
     "text": [
      "Epoch 1/150\n"
     ]
    },
    {
     "name": "stderr",
     "output_type": "stream",
     "text": [
      "/opt/conda/lib/python3.10/site-packages/keras/src/layers/convolutional/base_conv.py:107: UserWarning: Do not pass an `input_shape`/`input_dim` argument to a layer. When using Sequential models, prefer using an `Input(shape)` object as the first layer in the model instead.\n",
      "  super().__init__(activity_regularizer=activity_regularizer, **kwargs)\n"
     ]
    },
    {
     "name": "stdout",
     "output_type": "stream",
     "text": [
      "189/189 - 3s - 13ms/step - accuracy: 0.1048 - loss: 3.6200 - val_accuracy: 0.1541 - val_loss: 2.4977\n",
      "Epoch 2/150\n",
      "189/189 - 1s - 5ms/step - accuracy: 0.1249 - loss: 2.5043 - val_accuracy: 0.1660 - val_loss: 2.4385\n",
      "Epoch 3/150\n",
      "189/189 - 1s - 3ms/step - accuracy: 0.1578 - loss: 2.4527 - val_accuracy: 0.2105 - val_loss: 2.3719\n",
      "Epoch 4/150\n",
      "189/189 - 1s - 3ms/step - accuracy: 0.1779 - loss: 2.4033 - val_accuracy: 0.2331 - val_loss: 2.3005\n",
      "Epoch 5/150\n",
      "189/189 - 1s - 3ms/step - accuracy: 0.1920 - loss: 2.3372 - val_accuracy: 0.2742 - val_loss: 2.2384\n",
      "Epoch 6/150\n",
      "189/189 - 1s - 3ms/step - accuracy: 0.2257 - loss: 2.2724 - val_accuracy: 0.3008 - val_loss: 2.1416\n",
      "Epoch 7/150\n",
      "189/189 - 1s - 3ms/step - accuracy: 0.2458 - loss: 2.2152 - val_accuracy: 0.3559 - val_loss: 2.0487\n",
      "Epoch 8/150\n",
      "189/189 - 1s - 3ms/step - accuracy: 0.2745 - loss: 2.1336 - val_accuracy: 0.3592 - val_loss: 1.9817\n",
      "Epoch 9/150\n",
      "189/189 - 1s - 3ms/step - accuracy: 0.2833 - loss: 2.0800 - val_accuracy: 0.3818 - val_loss: 1.8937\n",
      "Epoch 10/150\n",
      "189/189 - 1s - 3ms/step - accuracy: 0.3270 - loss: 1.9880 - val_accuracy: 0.4177 - val_loss: 1.8091\n",
      "Epoch 11/150\n",
      "189/189 - 1s - 3ms/step - accuracy: 0.3307 - loss: 1.9438 - val_accuracy: 0.4436 - val_loss: 1.7341\n",
      "Epoch 12/150\n",
      "189/189 - 1s - 3ms/step - accuracy: 0.3659 - loss: 1.8427 - val_accuracy: 0.4801 - val_loss: 1.6325\n",
      "Epoch 13/150\n",
      "189/189 - 1s - 3ms/step - accuracy: 0.3905 - loss: 1.7682 - val_accuracy: 0.5425 - val_loss: 1.5433\n",
      "Epoch 14/150\n",
      "189/189 - 1s - 3ms/step - accuracy: 0.4109 - loss: 1.7094 - val_accuracy: 0.5518 - val_loss: 1.4995\n",
      "Epoch 15/150\n",
      "189/189 - 1s - 3ms/step - accuracy: 0.4327 - loss: 1.6504 - val_accuracy: 0.6155 - val_loss: 1.3538\n",
      "Epoch 16/150\n",
      "189/189 - 1s - 3ms/step - accuracy: 0.4606 - loss: 1.5823 - val_accuracy: 0.6069 - val_loss: 1.2784\n",
      "Epoch 17/150\n",
      "189/189 - 1s - 3ms/step - accuracy: 0.4802 - loss: 1.5286 - val_accuracy: 0.6414 - val_loss: 1.2623\n",
      "Epoch 18/150\n",
      "189/189 - 1s - 3ms/step - accuracy: 0.4968 - loss: 1.4700 - val_accuracy: 0.6680 - val_loss: 1.1631\n",
      "Epoch 19/150\n",
      "189/189 - 1s - 3ms/step - accuracy: 0.5150 - loss: 1.4056 - val_accuracy: 0.6541 - val_loss: 1.0894\n",
      "Epoch 20/150\n",
      "189/189 - 1s - 3ms/step - accuracy: 0.5356 - loss: 1.3491 - val_accuracy: 0.6766 - val_loss: 1.0792\n",
      "Epoch 21/150\n",
      "189/189 - 1s - 3ms/step - accuracy: 0.5429 - loss: 1.3226 - val_accuracy: 0.7244 - val_loss: 0.9972\n",
      "Epoch 22/150\n",
      "189/189 - 1s - 3ms/step - accuracy: 0.5561 - loss: 1.2878 - val_accuracy: 0.7450 - val_loss: 0.9216\n",
      "Epoch 23/150\n",
      "189/189 - 1s - 3ms/step - accuracy: 0.5728 - loss: 1.2218 - val_accuracy: 0.7782 - val_loss: 0.8531\n",
      "Epoch 24/150\n",
      "189/189 - 1s - 3ms/step - accuracy: 0.5918 - loss: 1.1818 - val_accuracy: 0.7908 - val_loss: 0.8164\n",
      "Epoch 25/150\n",
      "189/189 - 1s - 3ms/step - accuracy: 0.6016 - loss: 1.1460 - val_accuracy: 0.7815 - val_loss: 0.8018\n",
      "Epoch 26/150\n",
      "189/189 - 1s - 3ms/step - accuracy: 0.6064 - loss: 1.1285 - val_accuracy: 0.7995 - val_loss: 0.7684\n",
      "Epoch 27/150\n",
      "189/189 - 1s - 3ms/step - accuracy: 0.6213 - loss: 1.0851 - val_accuracy: 0.8001 - val_loss: 0.7297\n",
      "Epoch 28/150\n",
      "189/189 - 1s - 3ms/step - accuracy: 0.6313 - loss: 1.0657 - val_accuracy: 0.8134 - val_loss: 0.7073\n",
      "Epoch 29/150\n",
      "189/189 - 1s - 3ms/step - accuracy: 0.6344 - loss: 1.0449 - val_accuracy: 0.8240 - val_loss: 0.6720\n",
      "Epoch 30/150\n",
      "189/189 - 1s - 3ms/step - accuracy: 0.6383 - loss: 1.0253 - val_accuracy: 0.8201 - val_loss: 0.6920\n",
      "Epoch 31/150\n",
      "189/189 - 1s - 3ms/step - accuracy: 0.6589 - loss: 0.9879 - val_accuracy: 0.8227 - val_loss: 0.6446\n",
      "Epoch 32/150\n",
      "189/189 - 1s - 3ms/step - accuracy: 0.6494 - loss: 0.9916 - val_accuracy: 0.8533 - val_loss: 0.5737\n",
      "Epoch 33/150\n",
      "189/189 - 1s - 3ms/step - accuracy: 0.6574 - loss: 0.9789 - val_accuracy: 0.8513 - val_loss: 0.5849\n",
      "Epoch 34/150\n",
      "189/189 - 1s - 3ms/step - accuracy: 0.6725 - loss: 0.9214 - val_accuracy: 0.8559 - val_loss: 0.5909\n",
      "Epoch 35/150\n",
      "189/189 - 1s - 3ms/step - accuracy: 0.6580 - loss: 0.9662 - val_accuracy: 0.8619 - val_loss: 0.5572\n",
      "Epoch 36/150\n",
      "189/189 - 1s - 3ms/step - accuracy: 0.6753 - loss: 0.9261 - val_accuracy: 0.8559 - val_loss: 0.5418\n",
      "Epoch 37/150\n",
      "189/189 - 1s - 3ms/step - accuracy: 0.6775 - loss: 0.9168 - val_accuracy: 0.8559 - val_loss: 0.5334\n",
      "Epoch 38/150\n",
      "189/189 - 1s - 3ms/step - accuracy: 0.6889 - loss: 0.8788 - val_accuracy: 0.8340 - val_loss: 0.5366\n",
      "Epoch 39/150\n",
      "189/189 - 1s - 3ms/step - accuracy: 0.6849 - loss: 0.8754 - val_accuracy: 0.8526 - val_loss: 0.5632\n",
      "Epoch 40/150\n",
      "189/189 - 1s - 3ms/step - accuracy: 0.6989 - loss: 0.8497 - val_accuracy: 0.8639 - val_loss: 0.4924\n",
      "Epoch 41/150\n",
      "189/189 - 1s - 3ms/step - accuracy: 0.7089 - loss: 0.8292 - val_accuracy: 0.8533 - val_loss: 0.5005\n",
      "Epoch 42/150\n",
      "189/189 - 1s - 3ms/step - accuracy: 0.7064 - loss: 0.8214 - val_accuracy: 0.8692 - val_loss: 0.4671\n",
      "Epoch 43/150\n",
      "189/189 - 1s - 3ms/step - accuracy: 0.7152 - loss: 0.8200 - val_accuracy: 0.8699 - val_loss: 0.4640\n",
      "Epoch 44/150\n",
      "189/189 - 1s - 3ms/step - accuracy: 0.7117 - loss: 0.8185 - val_accuracy: 0.8798 - val_loss: 0.4744\n",
      "Epoch 45/150\n",
      "189/189 - 1s - 3ms/step - accuracy: 0.7117 - loss: 0.8078 - val_accuracy: 0.8818 - val_loss: 0.4285\n",
      "Epoch 46/150\n",
      "189/189 - 1s - 3ms/step - accuracy: 0.7263 - loss: 0.7813 - val_accuracy: 0.8931 - val_loss: 0.4119\n",
      "Epoch 47/150\n",
      "189/189 - 1s - 3ms/step - accuracy: 0.7273 - loss: 0.7619 - val_accuracy: 0.8851 - val_loss: 0.3959\n",
      "Epoch 48/150\n",
      "189/189 - 1s - 3ms/step - accuracy: 0.7331 - loss: 0.7642 - val_accuracy: 0.8865 - val_loss: 0.3796\n",
      "Epoch 49/150\n",
      "189/189 - 1s - 3ms/step - accuracy: 0.7216 - loss: 0.7707 - val_accuracy: 0.8858 - val_loss: 0.3877\n",
      "Epoch 50/150\n",
      "189/189 - 1s - 3ms/step - accuracy: 0.7333 - loss: 0.7362 - val_accuracy: 0.8871 - val_loss: 0.4047\n",
      "Epoch 51/150\n",
      "189/189 - 1s - 3ms/step - accuracy: 0.7394 - loss: 0.7354 - val_accuracy: 0.8898 - val_loss: 0.3933\n",
      "Epoch 52/150\n",
      "189/189 - 1s - 3ms/step - accuracy: 0.7466 - loss: 0.7257 - val_accuracy: 0.8904 - val_loss: 0.3751\n",
      "Epoch 53/150\n",
      "189/189 - 1s - 3ms/step - accuracy: 0.7341 - loss: 0.7592 - val_accuracy: 0.8778 - val_loss: 0.4056\n",
      "Epoch 54/150\n",
      "189/189 - 1s - 3ms/step - accuracy: 0.7394 - loss: 0.7294 - val_accuracy: 0.8911 - val_loss: 0.3794\n",
      "Epoch 55/150\n",
      "189/189 - 1s - 3ms/step - accuracy: 0.7399 - loss: 0.7261 - val_accuracy: 0.8958 - val_loss: 0.3600\n",
      "Epoch 56/150\n",
      "189/189 - 1s - 3ms/step - accuracy: 0.7605 - loss: 0.6912 - val_accuracy: 0.9163 - val_loss: 0.3358\n",
      "Epoch 57/150\n",
      "189/189 - 1s - 3ms/step - accuracy: 0.7457 - loss: 0.7092 - val_accuracy: 0.8924 - val_loss: 0.3738\n",
      "Epoch 58/150\n",
      "189/189 - 1s - 3ms/step - accuracy: 0.7645 - loss: 0.6640 - val_accuracy: 0.9137 - val_loss: 0.3321\n",
      "Epoch 59/150\n",
      "189/189 - 1s - 3ms/step - accuracy: 0.7597 - loss: 0.6932 - val_accuracy: 0.9110 - val_loss: 0.3248\n",
      "Epoch 60/150\n",
      "189/189 - 1s - 3ms/step - accuracy: 0.7569 - loss: 0.6808 - val_accuracy: 0.9143 - val_loss: 0.3421\n",
      "Epoch 61/150\n",
      "189/189 - 1s - 3ms/step - accuracy: 0.7668 - loss: 0.6659 - val_accuracy: 0.9037 - val_loss: 0.3377\n",
      "Epoch 62/150\n",
      "189/189 - 1s - 3ms/step - accuracy: 0.7642 - loss: 0.6684 - val_accuracy: 0.8991 - val_loss: 0.3481\n",
      "Epoch 63/150\n",
      "189/189 - 1s - 3ms/step - accuracy: 0.7623 - loss: 0.6817 - val_accuracy: 0.9177 - val_loss: 0.3022\n",
      "Epoch 64/150\n",
      "189/189 - 1s - 3ms/step - accuracy: 0.7698 - loss: 0.6477 - val_accuracy: 0.9097 - val_loss: 0.3210\n",
      "Epoch 65/150\n",
      "189/189 - 1s - 3ms/step - accuracy: 0.7600 - loss: 0.6759 - val_accuracy: 0.9070 - val_loss: 0.3245\n",
      "Epoch 66/150\n",
      "189/189 - 1s - 3ms/step - accuracy: 0.7655 - loss: 0.6448 - val_accuracy: 0.9203 - val_loss: 0.2946\n",
      "Epoch 67/150\n",
      "189/189 - 1s - 3ms/step - accuracy: 0.7796 - loss: 0.6273 - val_accuracy: 0.9203 - val_loss: 0.2916\n",
      "Epoch 68/150\n",
      "189/189 - 1s - 3ms/step - accuracy: 0.7823 - loss: 0.6182 - val_accuracy: 0.9309 - val_loss: 0.2681\n",
      "Epoch 69/150\n",
      "189/189 - 1s - 3ms/step - accuracy: 0.7728 - loss: 0.6323 - val_accuracy: 0.9190 - val_loss: 0.2804\n",
      "Epoch 70/150\n",
      "189/189 - 1s - 3ms/step - accuracy: 0.7783 - loss: 0.6155 - val_accuracy: 0.9190 - val_loss: 0.2845\n",
      "Epoch 71/150\n",
      "189/189 - 1s - 3ms/step - accuracy: 0.7774 - loss: 0.6149 - val_accuracy: 0.9197 - val_loss: 0.2934\n",
      "Epoch 72/150\n",
      "189/189 - 1s - 3ms/step - accuracy: 0.7756 - loss: 0.6276 - val_accuracy: 0.9170 - val_loss: 0.3096\n",
      "Epoch 73/150\n",
      "189/189 - 1s - 3ms/step - accuracy: 0.7715 - loss: 0.6438 - val_accuracy: 0.9183 - val_loss: 0.2846\n",
      "Epoch 74/150\n",
      "189/189 - 1s - 3ms/step - accuracy: 0.7818 - loss: 0.6184 - val_accuracy: 0.9177 - val_loss: 0.2829\n",
      "Epoch 75/150\n",
      "189/189 - 1s - 3ms/step - accuracy: 0.7838 - loss: 0.6089 - val_accuracy: 0.9303 - val_loss: 0.2651\n",
      "Epoch 76/150\n",
      "189/189 - 1s - 3ms/step - accuracy: 0.7861 - loss: 0.6122 - val_accuracy: 0.9177 - val_loss: 0.2637\n",
      "Epoch 77/150\n",
      "189/189 - 1s - 3ms/step - accuracy: 0.7839 - loss: 0.6129 - val_accuracy: 0.9157 - val_loss: 0.3015\n",
      "Epoch 78/150\n",
      "189/189 - 1s - 3ms/step - accuracy: 0.7859 - loss: 0.6163 - val_accuracy: 0.9216 - val_loss: 0.2812\n",
      "Epoch 79/150\n",
      "189/189 - 1s - 3ms/step - accuracy: 0.7864 - loss: 0.6009 - val_accuracy: 0.9163 - val_loss: 0.2524\n",
      "Epoch 80/150\n",
      "189/189 - 1s - 3ms/step - accuracy: 0.7859 - loss: 0.6082 - val_accuracy: 0.9309 - val_loss: 0.2600\n",
      "Epoch 81/150\n",
      "189/189 - 1s - 3ms/step - accuracy: 0.7951 - loss: 0.5806 - val_accuracy: 0.9349 - val_loss: 0.2564\n",
      "Epoch 82/150\n",
      "189/189 - 1s - 3ms/step - accuracy: 0.7833 - loss: 0.6084 - val_accuracy: 0.9250 - val_loss: 0.2761\n",
      "Epoch 83/150\n",
      "189/189 - 1s - 3ms/step - accuracy: 0.7927 - loss: 0.5993 - val_accuracy: 0.9316 - val_loss: 0.2503\n",
      "Epoch 84/150\n",
      "189/189 - 1s - 3ms/step - accuracy: 0.7899 - loss: 0.5753 - val_accuracy: 0.9349 - val_loss: 0.2463\n",
      "Epoch 85/150\n",
      "189/189 - 1s - 3ms/step - accuracy: 0.8004 - loss: 0.5674 - val_accuracy: 0.9236 - val_loss: 0.2587\n",
      "Epoch 86/150\n",
      "189/189 - 1s - 3ms/step - accuracy: 0.8039 - loss: 0.5586 - val_accuracy: 0.9343 - val_loss: 0.2294\n",
      "Epoch 87/150\n",
      "189/189 - 1s - 3ms/step - accuracy: 0.7826 - loss: 0.6129 - val_accuracy: 0.9296 - val_loss: 0.2538\n",
      "Epoch 88/150\n",
      "189/189 - 1s - 3ms/step - accuracy: 0.8125 - loss: 0.5418 - val_accuracy: 0.9396 - val_loss: 0.2309\n",
      "Epoch 89/150\n",
      "189/189 - 1s - 3ms/step - accuracy: 0.7985 - loss: 0.5708 - val_accuracy: 0.9316 - val_loss: 0.2425\n",
      "Epoch 90/150\n",
      "189/189 - 1s - 3ms/step - accuracy: 0.7977 - loss: 0.5719 - val_accuracy: 0.9210 - val_loss: 0.2649\n",
      "Epoch 91/150\n",
      "189/189 - 1s - 3ms/step - accuracy: 0.7856 - loss: 0.6147 - val_accuracy: 0.9316 - val_loss: 0.2570\n",
      "Epoch 92/150\n",
      "189/189 - 1s - 3ms/step - accuracy: 0.8075 - loss: 0.5358 - val_accuracy: 0.9290 - val_loss: 0.2405\n",
      "Epoch 93/150\n",
      "189/189 - 1s - 3ms/step - accuracy: 0.8037 - loss: 0.5607 - val_accuracy: 0.9376 - val_loss: 0.2321\n",
      "Epoch 94/150\n",
      "189/189 - 1s - 3ms/step - accuracy: 0.8030 - loss: 0.5582 - val_accuracy: 0.9343 - val_loss: 0.2321\n",
      "Epoch 95/150\n",
      "189/189 - 1s - 3ms/step - accuracy: 0.8045 - loss: 0.5566 - val_accuracy: 0.9363 - val_loss: 0.2491\n",
      "Epoch 96/150\n",
      "189/189 - 1s - 3ms/step - accuracy: 0.8195 - loss: 0.5166 - val_accuracy: 0.9303 - val_loss: 0.2190\n",
      "Epoch 97/150\n",
      "189/189 - 1s - 3ms/step - accuracy: 0.8112 - loss: 0.5351 - val_accuracy: 0.9429 - val_loss: 0.2144\n",
      "Epoch 98/150\n",
      "189/189 - 1s - 3ms/step - accuracy: 0.8078 - loss: 0.5368 - val_accuracy: 0.9456 - val_loss: 0.1941\n",
      "Epoch 99/150\n",
      "189/189 - 1s - 3ms/step - accuracy: 0.8103 - loss: 0.5491 - val_accuracy: 0.9389 - val_loss: 0.2139\n",
      "Epoch 100/150\n",
      "189/189 - 1s - 3ms/step - accuracy: 0.8132 - loss: 0.5268 - val_accuracy: 0.9469 - val_loss: 0.2085\n",
      "Epoch 101/150\n",
      "189/189 - 1s - 3ms/step - accuracy: 0.8175 - loss: 0.5160 - val_accuracy: 0.9336 - val_loss: 0.2357\n",
      "Epoch 102/150\n",
      "189/189 - 1s - 3ms/step - accuracy: 0.8117 - loss: 0.5381 - val_accuracy: 0.9336 - val_loss: 0.2306\n",
      "Epoch 103/150\n",
      "189/189 - 1s - 3ms/step - accuracy: 0.8203 - loss: 0.5139 - val_accuracy: 0.9369 - val_loss: 0.2119\n",
      "Epoch 104/150\n",
      "189/189 - 1s - 3ms/step - accuracy: 0.8188 - loss: 0.5154 - val_accuracy: 0.9402 - val_loss: 0.2110\n",
      "Epoch 105/150\n",
      "189/189 - 1s - 3ms/step - accuracy: 0.8166 - loss: 0.5223 - val_accuracy: 0.9416 - val_loss: 0.2096\n",
      "Epoch 106/150\n",
      "189/189 - 1s - 3ms/step - accuracy: 0.8102 - loss: 0.5173 - val_accuracy: 0.9283 - val_loss: 0.2249\n",
      "Epoch 107/150\n",
      "189/189 - 1s - 3ms/step - accuracy: 0.8225 - loss: 0.5128 - val_accuracy: 0.9329 - val_loss: 0.2489\n",
      "Epoch 108/150\n",
      "189/189 - 1s - 3ms/step - accuracy: 0.8135 - loss: 0.5213 - val_accuracy: 0.9382 - val_loss: 0.2098\n",
      "Epoch 109/150\n",
      "189/189 - 1s - 3ms/step - accuracy: 0.8125 - loss: 0.5432 - val_accuracy: 0.9396 - val_loss: 0.2287\n",
      "Epoch 110/150\n",
      "189/189 - 1s - 3ms/step - accuracy: 0.8083 - loss: 0.5567 - val_accuracy: 0.9363 - val_loss: 0.2216\n",
      "Epoch 111/150\n",
      "189/189 - 1s - 3ms/step - accuracy: 0.8281 - loss: 0.4850 - val_accuracy: 0.9389 - val_loss: 0.1955\n",
      "Epoch 112/150\n",
      "189/189 - 1s - 3ms/step - accuracy: 0.8216 - loss: 0.5149 - val_accuracy: 0.9382 - val_loss: 0.1967\n",
      "Epoch 113/150\n",
      "189/189 - 1s - 3ms/step - accuracy: 0.8100 - loss: 0.5382 - val_accuracy: 0.9303 - val_loss: 0.2309\n",
      "Epoch 114/150\n",
      "189/189 - 1s - 3ms/step - accuracy: 0.8191 - loss: 0.5085 - val_accuracy: 0.9343 - val_loss: 0.2290\n",
      "Epoch 115/150\n",
      "189/189 - 1s - 3ms/step - accuracy: 0.8135 - loss: 0.5281 - val_accuracy: 0.9416 - val_loss: 0.2038\n",
      "Epoch 116/150\n",
      "189/189 - 1s - 3ms/step - accuracy: 0.8228 - loss: 0.5129 - val_accuracy: 0.9396 - val_loss: 0.2176\n",
      "Epoch 117/150\n",
      "189/189 - 1s - 3ms/step - accuracy: 0.8098 - loss: 0.5441 - val_accuracy: 0.9495 - val_loss: 0.1939\n",
      "Epoch 118/150\n",
      "189/189 - 1s - 3ms/step - accuracy: 0.8210 - loss: 0.5044 - val_accuracy: 0.9416 - val_loss: 0.2038\n",
      "Epoch 119/150\n",
      "189/189 - 1s - 3ms/step - accuracy: 0.8244 - loss: 0.5063 - val_accuracy: 0.9382 - val_loss: 0.2133\n",
      "Epoch 120/150\n",
      "189/189 - 1s - 3ms/step - accuracy: 0.8170 - loss: 0.5068 - val_accuracy: 0.9542 - val_loss: 0.2008\n",
      "Epoch 121/150\n",
      "189/189 - 1s - 3ms/step - accuracy: 0.8256 - loss: 0.4791 - val_accuracy: 0.9449 - val_loss: 0.2141\n",
      "Epoch 122/150\n",
      "189/189 - 1s - 3ms/step - accuracy: 0.8246 - loss: 0.4930 - val_accuracy: 0.9442 - val_loss: 0.2001\n",
      "Epoch 123/150\n",
      "189/189 - 1s - 3ms/step - accuracy: 0.8180 - loss: 0.5238 - val_accuracy: 0.9422 - val_loss: 0.2056\n",
      "Epoch 124/150\n",
      "189/189 - 1s - 3ms/step - accuracy: 0.8273 - loss: 0.4913 - val_accuracy: 0.9422 - val_loss: 0.2068\n",
      "Epoch 125/150\n",
      "189/189 - 1s - 3ms/step - accuracy: 0.8283 - loss: 0.4932 - val_accuracy: 0.9449 - val_loss: 0.1987\n",
      "Epoch 126/150\n",
      "189/189 - 1s - 3ms/step - accuracy: 0.8337 - loss: 0.4771 - val_accuracy: 0.9409 - val_loss: 0.2061\n",
      "Epoch 127/150\n",
      "189/189 - 1s - 3ms/step - accuracy: 0.8259 - loss: 0.4936 - val_accuracy: 0.9575 - val_loss: 0.1834\n",
      "Epoch 128/150\n",
      "189/189 - 1s - 3ms/step - accuracy: 0.8208 - loss: 0.5158 - val_accuracy: 0.9462 - val_loss: 0.2026\n",
      "Epoch 129/150\n",
      "189/189 - 1s - 3ms/step - accuracy: 0.8193 - loss: 0.5076 - val_accuracy: 0.9449 - val_loss: 0.1986\n",
      "Epoch 130/150\n",
      "189/189 - 1s - 3ms/step - accuracy: 0.8254 - loss: 0.4929 - val_accuracy: 0.9376 - val_loss: 0.2143\n",
      "Epoch 131/150\n",
      "189/189 - 1s - 3ms/step - accuracy: 0.8047 - loss: 0.5477 - val_accuracy: 0.9502 - val_loss: 0.1838\n",
      "Epoch 132/150\n",
      "189/189 - 1s - 3ms/step - accuracy: 0.8319 - loss: 0.4700 - val_accuracy: 0.9502 - val_loss: 0.1885\n",
      "Epoch 133/150\n",
      "189/189 - 1s - 3ms/step - accuracy: 0.8351 - loss: 0.4680 - val_accuracy: 0.9542 - val_loss: 0.1778\n",
      "Epoch 134/150\n",
      "189/189 - 1s - 3ms/step - accuracy: 0.8271 - loss: 0.4922 - val_accuracy: 0.9462 - val_loss: 0.1928\n",
      "Epoch 135/150\n",
      "189/189 - 1s - 3ms/step - accuracy: 0.8216 - loss: 0.5158 - val_accuracy: 0.9489 - val_loss: 0.1867\n",
      "Epoch 136/150\n",
      "189/189 - 1s - 3ms/step - accuracy: 0.8342 - loss: 0.4739 - val_accuracy: 0.9416 - val_loss: 0.1943\n",
      "Epoch 137/150\n",
      "189/189 - 1s - 3ms/step - accuracy: 0.8161 - loss: 0.5277 - val_accuracy: 0.9469 - val_loss: 0.1805\n",
      "Epoch 138/150\n",
      "189/189 - 1s - 3ms/step - accuracy: 0.8269 - loss: 0.4907 - val_accuracy: 0.9429 - val_loss: 0.1829\n",
      "Epoch 139/150\n",
      "189/189 - 1s - 3ms/step - accuracy: 0.8364 - loss: 0.4527 - val_accuracy: 0.9535 - val_loss: 0.1839\n",
      "Epoch 140/150\n",
      "189/189 - 1s - 3ms/step - accuracy: 0.8362 - loss: 0.4586 - val_accuracy: 0.9522 - val_loss: 0.1836\n",
      "Epoch 141/150\n",
      "189/189 - 1s - 3ms/step - accuracy: 0.8450 - loss: 0.4440 - val_accuracy: 0.9469 - val_loss: 0.1844\n",
      "Epoch 142/150\n",
      "189/189 - 1s - 3ms/step - accuracy: 0.8339 - loss: 0.4819 - val_accuracy: 0.9356 - val_loss: 0.2220\n",
      "Epoch 143/150\n",
      "189/189 - 1s - 3ms/step - accuracy: 0.8218 - loss: 0.4983 - val_accuracy: 0.9462 - val_loss: 0.1880\n",
      "Epoch 144/150\n",
      "189/189 - 1s - 3ms/step - accuracy: 0.8377 - loss: 0.4607 - val_accuracy: 0.9535 - val_loss: 0.1854\n",
      "Epoch 145/150\n",
      "189/189 - 1s - 3ms/step - accuracy: 0.8357 - loss: 0.4753 - val_accuracy: 0.9462 - val_loss: 0.1971\n",
      "Epoch 146/150\n",
      "189/189 - 1s - 3ms/step - accuracy: 0.8339 - loss: 0.4730 - val_accuracy: 0.9509 - val_loss: 0.1922\n",
      "Epoch 147/150\n",
      "189/189 - 1s - 3ms/step - accuracy: 0.8376 - loss: 0.4467 - val_accuracy: 0.9482 - val_loss: 0.1800\n",
      "Epoch 148/150\n",
      "189/189 - 1s - 3ms/step - accuracy: 0.8399 - loss: 0.4547 - val_accuracy: 0.9509 - val_loss: 0.1774\n",
      "Epoch 149/150\n",
      "189/189 - 1s - 3ms/step - accuracy: 0.8344 - loss: 0.4729 - val_accuracy: 0.9436 - val_loss: 0.1994\n",
      "Epoch 150/150\n",
      "189/189 - 1s - 3ms/step - accuracy: 0.8409 - loss: 0.4497 - val_accuracy: 0.9449 - val_loss: 0.1983\n"
     ]
    }
   ],
   "source": [
    "from tensorflow.keras.layers import Conv1D, MaxPooling1D\n",
    "\n",
    "def build_cnn_model(input_shape):\n",
    "    model = Sequential()\n",
    "    model.add(Conv1D(32, kernel_size=3, activation='relu', input_shape=input_shape))\n",
    "    model.add(MaxPooling1D(pool_size=2))\n",
    "    model.add(Conv1D(64, 3, activation='relu'))\n",
    "    model.add(MaxPooling1D(2))\n",
    "    model.add(Flatten())\n",
    "    model.add(Dense(128, activation='relu'))\n",
    "    model.add(Dropout(0.5))\n",
    "    model.add(Dense(y_train.shape[1], activation='softmax'))\n",
    "\n",
    "    model.compile(optimizer=Adam(), loss='categorical_crossentropy', metrics=['accuracy'])\n",
    "    return model\n",
    "\n",
    "input_shape = (X_train.shape[1], 1)  \n",
    "\n",
    "model = build_cnn_model(input_shape)\n",
    "history = model.fit(X_train, y_train, epochs=150, batch_size=32, validation_data=(X_test, y_test), verbose=2)"
   ]
  },
  {
   "cell_type": "code",
   "execution_count": 38,
   "id": "a9a395a3",
   "metadata": {
    "execution": {
     "iopub.execute_input": "2024-06-20T14:12:57.369357Z",
     "iopub.status.busy": "2024-06-20T14:12:57.368920Z",
     "iopub.status.idle": "2024-06-20T14:12:57.527728Z",
     "shell.execute_reply": "2024-06-20T14:12:57.526187Z"
    },
    "papermill": {
     "duration": 0.216683,
     "end_time": "2024-06-20T14:12:57.530236",
     "exception": false,
     "start_time": "2024-06-20T14:12:57.313553",
     "status": "completed"
    },
    "tags": []
   },
   "outputs": [
    {
     "name": "stdout",
     "output_type": "stream",
     "text": [
      "\u001b[1m48/48\u001b[0m \u001b[32m━━━━━━━━━━━━━━━━━━━━\u001b[0m\u001b[37m\u001b[0m \u001b[1m0s\u001b[0m 2ms/step - accuracy: 0.9411 - loss: 0.2160\n",
      "Test Loss: 0.19827350974082947\n",
      "Test Accuracy: 0.944887101650238\n"
     ]
    }
   ],
   "source": [
    "loss, accuracy = model.evaluate(X_test, y_test)\n",
    "print(f\"Test Loss: {loss}\")\n",
    "print(f\"Test Accuracy: {accuracy}\")"
   ]
  },
  {
   "cell_type": "markdown",
   "id": "fac25640",
   "metadata": {
    "papermill": {
     "duration": 0.054207,
     "end_time": "2024-06-20T14:12:57.638959",
     "exception": false,
     "start_time": "2024-06-20T14:12:57.584752",
     "status": "completed"
    },
    "tags": []
   },
   "source": [
    "## Plotting Accuracy & Loss of CNN Before Hyperparameter Tuned"
   ]
  },
  {
   "cell_type": "code",
   "execution_count": 39,
   "id": "f2abaf5c",
   "metadata": {
    "execution": {
     "iopub.execute_input": "2024-06-20T14:12:57.752061Z",
     "iopub.status.busy": "2024-06-20T14:12:57.751652Z",
     "iopub.status.idle": "2024-06-20T14:12:58.057444Z",
     "shell.execute_reply": "2024-06-20T14:12:58.056176Z"
    },
    "papermill": {
     "duration": 0.366101,
     "end_time": "2024-06-20T14:12:58.060109",
     "exception": false,
     "start_time": "2024-06-20T14:12:57.694008",
     "status": "completed"
    },
    "tags": []
   },
   "outputs": [
    {
     "data": {
      "image/png": "[encoded data removed]",
      "text/plain": [
       "<Figure size 1000x800 with 1 Axes>"
      ]
     },
     "metadata": {},
     "output_type": "display_data"
    }
   ],
   "source": [
    "metrics = history.history\n",
    "\n",
    "plt.figure(figsize=(10,8))\n",
    "plt.plot(history.epoch, 100 * np.array(metrics['accuracy']), 100 * np.array(metrics['val_accuracy']))\n",
    "plt.title(\"Accuracy CNN\")\n",
    "plt.ylim([0,100])\n",
    "plt.xlabel(\"Epochs\")\n",
    "plt.ylabel(\"Accuracy\")\n",
    "plt.legend(['accuracy', 'val_accuracy'])\n",
    "plt.show()"
   ]
  },
  {
   "cell_type": "code",
   "execution_count": 40,
   "id": "a49a823d",
   "metadata": {
    "execution": {
     "iopub.execute_input": "2024-06-20T14:12:58.172695Z",
     "iopub.status.busy": "2024-06-20T14:12:58.172315Z",
     "iopub.status.idle": "2024-06-20T14:12:58.532622Z",
     "shell.execute_reply": "2024-06-20T14:12:58.531542Z"
    },
    "papermill": {
     "duration": 0.419939,
     "end_time": "2024-06-20T14:12:58.535481",
     "exception": false,
     "start_time": "2024-06-20T14:12:58.115542",
     "status": "completed"
    },
    "tags": []
   },
   "outputs": [
    {
     "data": {
      "image/png": "[encoded data removed]",
      "text/plain": [
       "<Figure size 1000x800 with 1 Axes>"
      ]
     },
     "metadata": {},
     "output_type": "display_data"
    }
   ],
   "source": [
    "plt.figure(figsize=(10,8))\n",
    "plt.plot(history.epoch, np.array(metrics['loss']), np.array(metrics['val_loss']))\n",
    "plt.title(\"Loss CNN\")\n",
    "plt.xlabel(\"Epochs\")\n",
    "plt.ylabel(\"Loss\")\n",
    "plt.legend(['loss', 'val_loss'])\n",
    "plt.show()"
   ]
  },
  {
   "cell_type": "code",
   "execution_count": 41,
   "id": "dbc6fada",
   "metadata": {
    "execution": {
     "iopub.execute_input": "2024-06-20T14:12:58.650976Z",
     "iopub.status.busy": "2024-06-20T14:12:58.650004Z",
     "iopub.status.idle": "2024-06-20T14:12:58.989564Z",
     "shell.execute_reply": "2024-06-20T14:12:58.988204Z"
    },
    "papermill": {
     "duration": 0.40007,
     "end_time": "2024-06-20T14:12:58.992378",
     "exception": false,
     "start_time": "2024-06-20T14:12:58.592308",
     "status": "completed"
    },
    "tags": []
   },
   "outputs": [
    {
     "name": "stdout",
     "output_type": "stream",
     "text": [
      "\u001b[1m48/48\u001b[0m \u001b[32m━━━━━━━━━━━━━━━━━━━━\u001b[0m\u001b[37m\u001b[0m \u001b[1m0s\u001b[0m 3ms/step\n"
     ]
    }
   ],
   "source": [
    "import numpy as np\n",
    "\n",
    "y_pred_probs = model.predict(X_test)\n",
    "y_pred = np.argmax(y_pred_probs, axis=1)"
   ]
  },
  {
   "cell_type": "code",
   "execution_count": 42,
   "id": "63ffb9b7",
   "metadata": {
    "execution": {
     "iopub.execute_input": "2024-06-20T14:12:59.109938Z",
     "iopub.status.busy": "2024-06-20T14:12:59.109516Z",
     "iopub.status.idle": "2024-06-20T14:12:59.115466Z",
     "shell.execute_reply": "2024-06-20T14:12:59.114261Z"
    },
    "papermill": {
     "duration": 0.067363,
     "end_time": "2024-06-20T14:12:59.118221",
     "exception": false,
     "start_time": "2024-06-20T14:12:59.050858",
     "status": "completed"
    },
    "tags": []
   },
   "outputs": [],
   "source": [
    "y_true = np.argmax(y_test, axis=1)"
   ]
  },
  {
   "cell_type": "code",
   "execution_count": 43,
   "id": "00167ba2",
   "metadata": {
    "execution": {
     "iopub.execute_input": "2024-06-20T14:12:59.235615Z",
     "iopub.status.busy": "2024-06-20T14:12:59.235209Z",
     "iopub.status.idle": "2024-06-20T14:12:59.255111Z",
     "shell.execute_reply": "2024-06-20T14:12:59.253823Z"
    },
    "papermill": {
     "duration": 0.081884,
     "end_time": "2024-06-20T14:12:59.257784",
     "exception": false,
     "start_time": "2024-06-20T14:12:59.175900",
     "status": "completed"
    },
    "tags": []
   },
   "outputs": [
    {
     "name": "stdout",
     "output_type": "stream",
     "text": [
      "              precision    recall  f1-score   support\n",
      "\n",
      "      Arabic       0.93      0.96      0.95       141\n",
      "       Dutch       0.95      1.00      0.98       119\n",
      "     English       0.73      0.60      0.66       107\n",
      "      French       0.95      0.95      0.95       107\n",
      "      German       1.00      1.00      1.00       114\n",
      "     Italian       1.00      1.00      1.00       119\n",
      "      Korean       0.98      0.98      0.98       111\n",
      "    Mandarin       0.95      1.00      0.98       124\n",
      "      Polish       0.98      1.00      0.99       109\n",
      "  Portuguese       0.96      1.00      0.98       104\n",
      "     Russian       0.92      0.97      0.95       110\n",
      "     Spanish       0.87      0.80      0.83       124\n",
      "     Turkish       1.00      1.00      1.00       117\n",
      "\n",
      "    accuracy                           0.94      1506\n",
      "   macro avg       0.94      0.94      0.94      1506\n",
      "weighted avg       0.94      0.94      0.94      1506\n",
      "\n"
     ]
    }
   ],
   "source": [
    "from sklearn.metrics import classification_report\n",
    "\n",
    "class_names = [\n",
    "    \"Arabic\", \"Dutch\", \"English\", \"French\", \"German\", \n",
    "    \"Italian\", \"Korean\", \"Mandarin\", \"Polish\", \"Portuguese\", \n",
    "    \"Russian\", \"Spanish\", \"Turkish\"\n",
    "]\n",
    "\n",
    "report = classification_report(y_true, y_pred, target_names=class_names)\n",
    "print(report)"
   ]
  },
  {
   "cell_type": "code",
   "execution_count": 44,
   "id": "618cd4fb",
   "metadata": {
    "execution": {
     "iopub.execute_input": "2024-06-20T14:12:59.374154Z",
     "iopub.status.busy": "2024-06-20T14:12:59.373667Z",
     "iopub.status.idle": "2024-06-20T14:12:59.419938Z",
     "shell.execute_reply": "2024-06-20T14:12:59.418792Z"
    },
    "papermill": {
     "duration": 0.107512,
     "end_time": "2024-06-20T14:12:59.422779",
     "exception": false,
     "start_time": "2024-06-20T14:12:59.315267",
     "status": "completed"
    },
    "tags": []
   },
   "outputs": [],
   "source": [
    "model.save('cnn.h5')"
   ]
  },
  {
   "cell_type": "code",
   "execution_count": 45,
   "id": "847c7203",
   "metadata": {
    "execution": {
     "iopub.execute_input": "2024-06-20T14:12:59.539159Z",
     "iopub.status.busy": "2024-06-20T14:12:59.538707Z",
     "iopub.status.idle": "2024-06-20T14:12:59.641983Z",
     "shell.execute_reply": "2024-06-20T14:12:59.640802Z"
    },
    "papermill": {
     "duration": 0.164622,
     "end_time": "2024-06-20T14:12:59.644809",
     "exception": false,
     "start_time": "2024-06-20T14:12:59.480187",
     "status": "completed"
    },
    "tags": []
   },
   "outputs": [],
   "source": [
    "from tensorflow.keras.models import load_model\n",
    "\n",
    "model = load_model('cnn.h5')"
   ]
  },
  {
   "cell_type": "code",
   "execution_count": 46,
   "id": "54e675c8",
   "metadata": {
    "execution": {
     "iopub.execute_input": "2024-06-20T14:12:59.762492Z",
     "iopub.status.busy": "2024-06-20T14:12:59.762060Z",
     "iopub.status.idle": "2024-06-20T14:12:59.796485Z",
     "shell.execute_reply": "2024-06-20T14:12:59.795312Z"
    },
    "papermill": {
     "duration": 0.096976,
     "end_time": "2024-06-20T14:12:59.799492",
     "exception": false,
     "start_time": "2024-06-20T14:12:59.702516",
     "status": "completed"
    },
    "tags": []
   },
   "outputs": [],
   "source": [
    "model.save('cnn_model.keras')  # TensorFlow will use the SavedModel format by default\n"
   ]
  },
  {
   "cell_type": "markdown",
   "id": "e2a9ca43",
   "metadata": {
    "papermill": {
     "duration": 0.058124,
     "end_time": "2024-06-20T14:12:59.916446",
     "exception": false,
     "start_time": "2024-06-20T14:12:59.858322",
     "status": "completed"
    },
    "tags": []
   },
   "source": [
    "## Hyperparameter Tuning"
   ]
  },
  {
   "cell_type": "code",
   "execution_count": 47,
   "id": "c694a7bc",
   "metadata": {
    "execution": {
     "iopub.execute_input": "2024-06-20T14:13:00.035025Z",
     "iopub.status.busy": "2024-06-20T14:13:00.034623Z",
     "iopub.status.idle": "2024-06-20T14:13:00.304983Z",
     "shell.execute_reply": "2024-06-20T14:13:00.303738Z"
    },
    "papermill": {
     "duration": 0.333051,
     "end_time": "2024-06-20T14:13:00.307658",
     "exception": false,
     "start_time": "2024-06-20T14:12:59.974607",
     "status": "completed"
    },
    "tags": []
   },
   "outputs": [
    {
     "name": "stderr",
     "output_type": "stream",
     "text": [
      "/tmp/ipykernel_18/670177796.py:4: DeprecationWarning: `import kerastuner` is deprecated, please use `import keras_tuner`.\n",
      "  from kerastuner import HyperModel\n"
     ]
    }
   ],
   "source": [
    "from tensorflow.keras.layers import Conv1D, MaxPooling1D, Flatten, Dense, Dropout\n",
    "from tensorflow.keras.models import Sequential\n",
    "from tensorflow.keras.optimizers import Adam\n",
    "from kerastuner import HyperModel\n",
    "\n",
    "class CNNHyperModel(HyperModel):\n",
    "    def __init__(self, input_shape, num_classes):\n",
    "        self.input_shape = input_shape\n",
    "        self.num_classes = num_classes\n",
    "\n",
    "    def build(self, hp):\n",
    "        model = Sequential()\n",
    "        model.add(Conv1D(\n",
    "            filters=hp.Int('filters1', min_value=32, max_value=128, step=32),\n",
    "            kernel_size=hp.Int('kernel_size1', min_value=2, max_value=5, step=1),\n",
    "            activation='relu',\n",
    "            padding='same',\n",
    "            input_shape=self.input_shape\n",
    "        ))\n",
    "        model.add(MaxPooling1D(pool_size=2))\n",
    "        model.add(Conv1D(\n",
    "            filters=hp.Int('filters2', min_value=64, max_value=256, step=32),\n",
    "            kernel_size=hp.Int('kernel_size2', min_value=2, max_value=5, step=1),\n",
    "            activation='relu',\n",
    "            padding='same'\n",
    "        ))\n",
    "        model.add(MaxPooling1D(pool_size=2))\n",
    "        model.add(Flatten())\n",
    "        model.add(Dense(\n",
    "            hp.Int('dense_units', min_value=64, max_value=256, step=64),\n",
    "            activation='relu'\n",
    "        ))\n",
    "        model.add(Dropout(hp.Float('dropout_rate', min_value=0.2, max_value=0.5, step=0.1)))\n",
    "        model.add(Dense(self.num_classes, activation='softmax'))\n",
    "\n",
    "        model.compile(\n",
    "            optimizer=Adam(\n",
    "                hp.Float('learning_rate', min_value=1e-4, max_value=1e-2, sampling='LOG')\n",
    "            ),\n",
    "            loss='categorical_crossentropy',\n",
    "            metrics=['accuracy']\n",
    "        )\n",
    "        return model"
   ]
  },
  {
   "cell_type": "code",
   "execution_count": 48,
   "id": "4ec63a68",
   "metadata": {
    "execution": {
     "iopub.execute_input": "2024-06-20T14:13:00.428818Z",
     "iopub.status.busy": "2024-06-20T14:13:00.428426Z",
     "iopub.status.idle": "2024-06-20T14:13:00.437114Z",
     "shell.execute_reply": "2024-06-20T14:13:00.435988Z"
    },
    "papermill": {
     "duration": 0.072494,
     "end_time": "2024-06-20T14:13:00.439474",
     "exception": false,
     "start_time": "2024-06-20T14:13:00.366980",
     "status": "completed"
    },
    "tags": []
   },
   "outputs": [],
   "source": [
    "from tensorflow.keras.callbacks import EarlyStopping, ReduceLROnPlateau\n",
    "\n",
    "early_stopper = EarlyStopping(\n",
    "    monitor='val_loss',\n",
    "    patience=10,\n",
    "    verbose=1,\n",
    "    restore_best_weights=True\n",
    ")\n",
    "reduce_lr = ReduceLROnPlateau(\n",
    "    monitor='val_loss',\n",
    "    factor=0.5,\n",
    "    patience=5,\n",
    "    verbose=1,\n",
    "    min_lr=1e-6 \n",
    ")"
   ]
  },
  {
   "cell_type": "code",
   "execution_count": 49,
   "id": "181c4d62",
   "metadata": {
    "execution": {
     "iopub.execute_input": "2024-06-20T14:13:00.556215Z",
     "iopub.status.busy": "2024-06-20T14:13:00.555770Z",
     "iopub.status.idle": "2024-06-20T14:39:54.053474Z",
     "shell.execute_reply": "2024-06-20T14:39:54.051564Z"
    },
    "papermill": {
     "duration": 1613.559468,
     "end_time": "2024-06-20T14:39:54.056246",
     "exception": false,
     "start_time": "2024-06-20T14:13:00.496778",
     "status": "completed"
    },
    "tags": []
   },
   "outputs": [
    {
     "name": "stdout",
     "output_type": "stream",
     "text": [
      "Trial 20 Complete [00h 01m 58s]\n",
      "val_accuracy: 0.9113546013832092\n",
      "\n",
      "Best val_accuracy So Far: 0.9770916402339935\n",
      "Total elapsed time: 00h 26m 53s\n"
     ]
    }
   ],
   "source": [
    "from kerastuner.tuners import RandomSearch\n",
    "\n",
    "input_shape = (X_train.shape[1], 1) \n",
    "num_classes = y_train.shape[1] \n",
    "\n",
    "hypermodel = CNNHyperModel(input_shape=input_shape, num_classes=num_classes)\n",
    "\n",
    "tuner = RandomSearch(\n",
    "    hypermodel,\n",
    "    objective='val_accuracy',\n",
    "    max_trials=20,\n",
    "    executions_per_trial=2,\n",
    "    directory='model_tuning',\n",
    "    project_name='AccentClassification'\n",
    ")\n",
    "\n",
    "tuner.search(x=X_train, y=y_train, epochs=50, validation_data=(X_test, y_test), callbacks=[early_stopper, reduce_lr])"
   ]
  },
  {
   "cell_type": "code",
   "execution_count": 50,
   "id": "6f1ce5b4",
   "metadata": {
    "execution": {
     "iopub.execute_input": "2024-06-20T14:39:54.173743Z",
     "iopub.status.busy": "2024-06-20T14:39:54.173362Z",
     "iopub.status.idle": "2024-06-20T14:39:56.411843Z",
     "shell.execute_reply": "2024-06-20T14:39:56.410359Z"
    },
    "papermill": {
     "duration": 2.300273,
     "end_time": "2024-06-20T14:39:56.414508",
     "exception": false,
     "start_time": "2024-06-20T14:39:54.114235",
     "status": "completed"
    },
    "tags": []
   },
   "outputs": [
    {
     "name": "stderr",
     "output_type": "stream",
     "text": [
      "/opt/conda/lib/python3.10/site-packages/keras/src/saving/saving_lib.py:415: UserWarning: Skipping variable loading for optimizer 'adam', because it has 2 variables whereas the saved optimizer has 18 variables. \n",
      "  saveable.load_own_variables(weights_store.get(inner_path))\n"
     ]
    },
    {
     "name": "stdout",
     "output_type": "stream",
     "text": [
      "\u001b[1m48/48\u001b[0m \u001b[32m━━━━━━━━━━━━━━━━━━━━\u001b[0m\u001b[37m\u001b[0m \u001b[1m1s\u001b[0m 2ms/step - accuracy: 0.9785 - loss: 0.1302\n",
      "Best model accuracy: 98.07%\n"
     ]
    }
   ],
   "source": [
    "best_model = tuner.get_best_models(num_models=1)[0]\n",
    "loss, accuracy = best_model.evaluate(X_test, y_test)\n",
    "print(\"Best model accuracy: {:.2f}%\".format(accuracy * 100))"
   ]
  },
  {
   "cell_type": "code",
   "execution_count": 51,
   "id": "ff7df38a",
   "metadata": {
    "execution": {
     "iopub.execute_input": "2024-06-20T14:39:56.533011Z",
     "iopub.status.busy": "2024-06-20T14:39:56.532605Z",
     "iopub.status.idle": "2024-06-20T14:42:19.946036Z",
     "shell.execute_reply": "2024-06-20T14:42:19.944773Z"
    },
    "papermill": {
     "duration": 143.476059,
     "end_time": "2024-06-20T14:42:19.949047",
     "exception": false,
     "start_time": "2024-06-20T14:39:56.472988",
     "status": "completed"
    },
    "tags": []
   },
   "outputs": [
    {
     "name": "stdout",
     "output_type": "stream",
     "text": [
      "Epoch 1/150\n",
      "189/189 - 3s - 15ms/step - accuracy: 0.1294 - loss: 3.1338 - val_accuracy: 0.1521 - val_loss: 2.4408\n",
      "Epoch 2/150\n",
      "189/189 - 1s - 5ms/step - accuracy: 0.1829 - loss: 2.4090 - val_accuracy: 0.2344 - val_loss: 2.3038\n",
      "Epoch 3/150\n",
      "189/189 - 1s - 5ms/step - accuracy: 0.2883 - loss: 2.1492 - val_accuracy: 0.3725 - val_loss: 1.9570\n",
      "Epoch 4/150\n",
      "189/189 - 1s - 5ms/step - accuracy: 0.4184 - loss: 1.7998 - val_accuracy: 0.5232 - val_loss: 1.5529\n",
      "Epoch 5/150\n",
      "189/189 - 1s - 5ms/step - accuracy: 0.5527 - loss: 1.4041 - val_accuracy: 0.6434 - val_loss: 1.1967\n",
      "Epoch 6/150\n",
      "189/189 - 1s - 5ms/step - accuracy: 0.6609 - loss: 1.0641 - val_accuracy: 0.7782 - val_loss: 0.7991\n",
      "Epoch 7/150\n",
      "189/189 - 1s - 5ms/step - accuracy: 0.7597 - loss: 0.7745 - val_accuracy: 0.8327 - val_loss: 0.6189\n",
      "Epoch 8/150\n",
      "189/189 - 1s - 5ms/step - accuracy: 0.8185 - loss: 0.5901 - val_accuracy: 0.8579 - val_loss: 0.4982\n",
      "Epoch 9/150\n",
      "189/189 - 1s - 5ms/step - accuracy: 0.8655 - loss: 0.4493 - val_accuracy: 0.9011 - val_loss: 0.3760\n",
      "Epoch 10/150\n",
      "189/189 - 1s - 5ms/step - accuracy: 0.8962 - loss: 0.3550 - val_accuracy: 0.9190 - val_loss: 0.3166\n",
      "Epoch 11/150\n",
      "189/189 - 1s - 6ms/step - accuracy: 0.9072 - loss: 0.3093 - val_accuracy: 0.9363 - val_loss: 0.2464\n",
      "Epoch 12/150\n",
      "189/189 - 1s - 6ms/step - accuracy: 0.9279 - loss: 0.2462 - val_accuracy: 0.9210 - val_loss: 0.2678\n",
      "Epoch 13/150\n",
      "189/189 - 1s - 5ms/step - accuracy: 0.9273 - loss: 0.2332 - val_accuracy: 0.9382 - val_loss: 0.2317\n",
      "Epoch 14/150\n",
      "189/189 - 1s - 5ms/step - accuracy: 0.9409 - loss: 0.1907 - val_accuracy: 0.9495 - val_loss: 0.2080\n",
      "Epoch 15/150\n",
      "189/189 - 1s - 5ms/step - accuracy: 0.9482 - loss: 0.1752 - val_accuracy: 0.9548 - val_loss: 0.1915\n",
      "Epoch 16/150\n",
      "189/189 - 1s - 5ms/step - accuracy: 0.9522 - loss: 0.1554 - val_accuracy: 0.9542 - val_loss: 0.1941\n",
      "Epoch 17/150\n",
      "189/189 - 1s - 5ms/step - accuracy: 0.9542 - loss: 0.1424 - val_accuracy: 0.9548 - val_loss: 0.1655\n",
      "Epoch 18/150\n",
      "189/189 - 1s - 5ms/step - accuracy: 0.9626 - loss: 0.1275 - val_accuracy: 0.9588 - val_loss: 0.1555\n",
      "Epoch 19/150\n",
      "189/189 - 1s - 5ms/step - accuracy: 0.9628 - loss: 0.1211 - val_accuracy: 0.9542 - val_loss: 0.1773\n",
      "Epoch 20/150\n",
      "189/189 - 1s - 5ms/step - accuracy: 0.9615 - loss: 0.1163 - val_accuracy: 0.9548 - val_loss: 0.1741\n",
      "Epoch 21/150\n",
      "189/189 - 1s - 5ms/step - accuracy: 0.9665 - loss: 0.1008 - val_accuracy: 0.9595 - val_loss: 0.1473\n",
      "Epoch 22/150\n",
      "189/189 - 1s - 5ms/step - accuracy: 0.9588 - loss: 0.1268 - val_accuracy: 0.9542 - val_loss: 0.1689\n",
      "Epoch 23/150\n",
      "189/189 - 1s - 5ms/step - accuracy: 0.9595 - loss: 0.1202 - val_accuracy: 0.9363 - val_loss: 0.2436\n",
      "Epoch 24/150\n",
      "189/189 - 1s - 5ms/step - accuracy: 0.9547 - loss: 0.1403 - val_accuracy: 0.9641 - val_loss: 0.1788\n",
      "Epoch 25/150\n",
      "189/189 - 1s - 5ms/step - accuracy: 0.9580 - loss: 0.1306 - val_accuracy: 0.9535 - val_loss: 0.1927\n",
      "Epoch 26/150\n",
      "189/189 - 1s - 5ms/step - accuracy: 0.9673 - loss: 0.0986 - val_accuracy: 0.9688 - val_loss: 0.1407\n",
      "Epoch 27/150\n",
      "189/189 - 1s - 5ms/step - accuracy: 0.9709 - loss: 0.0882 - val_accuracy: 0.9701 - val_loss: 0.1361\n",
      "Epoch 28/150\n",
      "189/189 - 1s - 5ms/step - accuracy: 0.9789 - loss: 0.0707 - val_accuracy: 0.9648 - val_loss: 0.1729\n",
      "Epoch 29/150\n",
      "189/189 - 1s - 5ms/step - accuracy: 0.9640 - loss: 0.1022 - val_accuracy: 0.9608 - val_loss: 0.1708\n",
      "Epoch 30/150\n",
      "189/189 - 1s - 5ms/step - accuracy: 0.9809 - loss: 0.0674 - val_accuracy: 0.9615 - val_loss: 0.1914\n",
      "Epoch 31/150\n",
      "189/189 - 1s - 5ms/step - accuracy: 0.9809 - loss: 0.0640 - val_accuracy: 0.9701 - val_loss: 0.1290\n",
      "Epoch 32/150\n",
      "189/189 - 1s - 5ms/step - accuracy: 0.9786 - loss: 0.0623 - val_accuracy: 0.9582 - val_loss: 0.1942\n",
      "Epoch 33/150\n",
      "189/189 - 1s - 5ms/step - accuracy: 0.9713 - loss: 0.0852 - val_accuracy: 0.9622 - val_loss: 0.1673\n",
      "Epoch 34/150\n",
      "189/189 - 1s - 5ms/step - accuracy: 0.9651 - loss: 0.1034 - val_accuracy: 0.9608 - val_loss: 0.1738\n",
      "Epoch 35/150\n",
      "189/189 - 1s - 5ms/step - accuracy: 0.9786 - loss: 0.0674 - val_accuracy: 0.9595 - val_loss: 0.2254\n",
      "Epoch 36/150\n",
      "189/189 - 1s - 5ms/step - accuracy: 0.9779 - loss: 0.0642 - val_accuracy: 0.9754 - val_loss: 0.1467\n",
      "Epoch 37/150\n",
      "189/189 - 1s - 5ms/step - accuracy: 0.9754 - loss: 0.0742 - val_accuracy: 0.9648 - val_loss: 0.1807\n",
      "Epoch 38/150\n",
      "189/189 - 1s - 5ms/step - accuracy: 0.9812 - loss: 0.0643 - val_accuracy: 0.9661 - val_loss: 0.1787\n",
      "Epoch 39/150\n",
      "189/189 - 1s - 5ms/step - accuracy: 0.9822 - loss: 0.0519 - val_accuracy: 0.9681 - val_loss: 0.1735\n",
      "Epoch 40/150\n",
      "189/189 - 1s - 5ms/step - accuracy: 0.9741 - loss: 0.0805 - val_accuracy: 0.9635 - val_loss: 0.2101\n",
      "Epoch 41/150\n",
      "189/189 - 1s - 5ms/step - accuracy: 0.9746 - loss: 0.0829 - val_accuracy: 0.9608 - val_loss: 0.2157\n",
      "Epoch 42/150\n",
      "189/189 - 1s - 5ms/step - accuracy: 0.9826 - loss: 0.0541 - val_accuracy: 0.9675 - val_loss: 0.1730\n",
      "Epoch 43/150\n",
      "189/189 - 1s - 5ms/step - accuracy: 0.9877 - loss: 0.0389 - val_accuracy: 0.9728 - val_loss: 0.1768\n",
      "Epoch 44/150\n",
      "189/189 - 1s - 5ms/step - accuracy: 0.9870 - loss: 0.0386 - val_accuracy: 0.9562 - val_loss: 0.2482\n",
      "Epoch 45/150\n",
      "189/189 - 1s - 5ms/step - accuracy: 0.9756 - loss: 0.0825 - val_accuracy: 0.9529 - val_loss: 0.2300\n",
      "Epoch 46/150\n",
      "189/189 - 1s - 6ms/step - accuracy: 0.9762 - loss: 0.0648 - val_accuracy: 0.9648 - val_loss: 0.2118\n",
      "Epoch 47/150\n",
      "189/189 - 1s - 6ms/step - accuracy: 0.9812 - loss: 0.0573 - val_accuracy: 0.9714 - val_loss: 0.1924\n",
      "Epoch 48/150\n",
      "189/189 - 1s - 5ms/step - accuracy: 0.9766 - loss: 0.0730 - val_accuracy: 0.9628 - val_loss: 0.2331\n",
      "Epoch 49/150\n",
      "189/189 - 1s - 5ms/step - accuracy: 0.9787 - loss: 0.0634 - val_accuracy: 0.9728 - val_loss: 0.1888\n",
      "Epoch 50/150\n",
      "189/189 - 1s - 5ms/step - accuracy: 0.9807 - loss: 0.0716 - val_accuracy: 0.9708 - val_loss: 0.1923\n",
      "Epoch 51/150\n",
      "189/189 - 1s - 5ms/step - accuracy: 0.9842 - loss: 0.0495 - val_accuracy: 0.9635 - val_loss: 0.2271\n",
      "Epoch 52/150\n",
      "189/189 - 1s - 5ms/step - accuracy: 0.9809 - loss: 0.0655 - val_accuracy: 0.9681 - val_loss: 0.2119\n",
      "Epoch 53/150\n",
      "189/189 - 1s - 5ms/step - accuracy: 0.9854 - loss: 0.0466 - val_accuracy: 0.9661 - val_loss: 0.2045\n",
      "Epoch 54/150\n",
      "189/189 - 1s - 5ms/step - accuracy: 0.9831 - loss: 0.0541 - val_accuracy: 0.9668 - val_loss: 0.1956\n",
      "Epoch 55/150\n",
      "189/189 - 1s - 5ms/step - accuracy: 0.9862 - loss: 0.0418 - val_accuracy: 0.9675 - val_loss: 0.2318\n",
      "Epoch 56/150\n",
      "189/189 - 1s - 5ms/step - accuracy: 0.9900 - loss: 0.0365 - val_accuracy: 0.9681 - val_loss: 0.2090\n",
      "Epoch 57/150\n",
      "189/189 - 1s - 5ms/step - accuracy: 0.9907 - loss: 0.0268 - val_accuracy: 0.9681 - val_loss: 0.2354\n",
      "Epoch 58/150\n",
      "189/189 - 1s - 5ms/step - accuracy: 0.9781 - loss: 0.0646 - val_accuracy: 0.9635 - val_loss: 0.2310\n",
      "Epoch 59/150\n",
      "189/189 - 1s - 5ms/step - accuracy: 0.9762 - loss: 0.0817 - val_accuracy: 0.9661 - val_loss: 0.1879\n",
      "Epoch 60/150\n",
      "189/189 - 1s - 5ms/step - accuracy: 0.9817 - loss: 0.0531 - val_accuracy: 0.9721 - val_loss: 0.2182\n",
      "Epoch 61/150\n",
      "189/189 - 1s - 5ms/step - accuracy: 0.9915 - loss: 0.0279 - val_accuracy: 0.9721 - val_loss: 0.2225\n",
      "Epoch 62/150\n",
      "189/189 - 1s - 5ms/step - accuracy: 0.9804 - loss: 0.0595 - val_accuracy: 0.9628 - val_loss: 0.2594\n",
      "Epoch 63/150\n",
      "189/189 - 1s - 5ms/step - accuracy: 0.9734 - loss: 0.0917 - val_accuracy: 0.9708 - val_loss: 0.2237\n",
      "Epoch 64/150\n",
      "189/189 - 1s - 7ms/step - accuracy: 0.9834 - loss: 0.0543 - val_accuracy: 0.9708 - val_loss: 0.2328\n",
      "Epoch 65/150\n",
      "189/189 - 1s - 5ms/step - accuracy: 0.9879 - loss: 0.0366 - val_accuracy: 0.9648 - val_loss: 0.2785\n",
      "Epoch 66/150\n",
      "189/189 - 1s - 5ms/step - accuracy: 0.9857 - loss: 0.0484 - val_accuracy: 0.9721 - val_loss: 0.2084\n",
      "Epoch 67/150\n",
      "189/189 - 1s - 5ms/step - accuracy: 0.9854 - loss: 0.0437 - val_accuracy: 0.9655 - val_loss: 0.2605\n",
      "Epoch 68/150\n",
      "189/189 - 1s - 5ms/step - accuracy: 0.9806 - loss: 0.0620 - val_accuracy: 0.9575 - val_loss: 0.3221\n",
      "Epoch 69/150\n",
      "189/189 - 1s - 5ms/step - accuracy: 0.9869 - loss: 0.0397 - val_accuracy: 0.9714 - val_loss: 0.2704\n",
      "Epoch 70/150\n",
      "189/189 - 1s - 5ms/step - accuracy: 0.9910 - loss: 0.0298 - val_accuracy: 0.9681 - val_loss: 0.2534\n",
      "Epoch 71/150\n",
      "189/189 - 1s - 5ms/step - accuracy: 0.9927 - loss: 0.0268 - val_accuracy: 0.9668 - val_loss: 0.2469\n",
      "Epoch 72/150\n",
      "189/189 - 1s - 5ms/step - accuracy: 0.9870 - loss: 0.0431 - val_accuracy: 0.9675 - val_loss: 0.2729\n",
      "Epoch 73/150\n",
      "189/189 - 1s - 5ms/step - accuracy: 0.9844 - loss: 0.0419 - val_accuracy: 0.9695 - val_loss: 0.2497\n",
      "Epoch 74/150\n",
      "189/189 - 1s - 5ms/step - accuracy: 0.9811 - loss: 0.0600 - val_accuracy: 0.9681 - val_loss: 0.2926\n",
      "Epoch 75/150\n",
      "189/189 - 1s - 5ms/step - accuracy: 0.9841 - loss: 0.0523 - val_accuracy: 0.9595 - val_loss: 0.3487\n",
      "Epoch 76/150\n",
      "189/189 - 1s - 5ms/step - accuracy: 0.9799 - loss: 0.0669 - val_accuracy: 0.9668 - val_loss: 0.2848\n",
      "Epoch 77/150\n",
      "189/189 - 1s - 5ms/step - accuracy: 0.9882 - loss: 0.0360 - val_accuracy: 0.9688 - val_loss: 0.2858\n",
      "Epoch 78/150\n",
      "189/189 - 1s - 5ms/step - accuracy: 0.9846 - loss: 0.0586 - val_accuracy: 0.9675 - val_loss: 0.2453\n",
      "Epoch 79/150\n",
      "189/189 - 1s - 5ms/step - accuracy: 0.9907 - loss: 0.0287 - val_accuracy: 0.9661 - val_loss: 0.2624\n",
      "Epoch 80/150\n",
      "189/189 - 1s - 6ms/step - accuracy: 0.9875 - loss: 0.0430 - val_accuracy: 0.9668 - val_loss: 0.3073\n",
      "Epoch 81/150\n",
      "189/189 - 1s - 5ms/step - accuracy: 0.9841 - loss: 0.0517 - val_accuracy: 0.9635 - val_loss: 0.3057\n",
      "Epoch 82/150\n",
      "189/189 - 1s - 5ms/step - accuracy: 0.9874 - loss: 0.0401 - val_accuracy: 0.9648 - val_loss: 0.2846\n",
      "Epoch 83/150\n",
      "189/189 - 1s - 5ms/step - accuracy: 0.9859 - loss: 0.0403 - val_accuracy: 0.9628 - val_loss: 0.2555\n",
      "Epoch 84/150\n",
      "189/189 - 1s - 5ms/step - accuracy: 0.9892 - loss: 0.0388 - val_accuracy: 0.9668 - val_loss: 0.2896\n",
      "Epoch 85/150\n",
      "189/189 - 1s - 5ms/step - accuracy: 0.9869 - loss: 0.0389 - val_accuracy: 0.9701 - val_loss: 0.2637\n",
      "Epoch 86/150\n",
      "189/189 - 1s - 5ms/step - accuracy: 0.9894 - loss: 0.0352 - val_accuracy: 0.9761 - val_loss: 0.2607\n",
      "Epoch 87/150\n",
      "189/189 - 1s - 5ms/step - accuracy: 0.9860 - loss: 0.0432 - val_accuracy: 0.9695 - val_loss: 0.2594\n",
      "Epoch 88/150\n",
      "189/189 - 1s - 5ms/step - accuracy: 0.9797 - loss: 0.0703 - val_accuracy: 0.9641 - val_loss: 0.3111\n",
      "Epoch 89/150\n",
      "189/189 - 1s - 5ms/step - accuracy: 0.9837 - loss: 0.0519 - val_accuracy: 0.9714 - val_loss: 0.2649\n",
      "Epoch 90/150\n",
      "189/189 - 1s - 5ms/step - accuracy: 0.9890 - loss: 0.0362 - val_accuracy: 0.9748 - val_loss: 0.2515\n",
      "Epoch 91/150\n",
      "189/189 - 1s - 5ms/step - accuracy: 0.9852 - loss: 0.0541 - val_accuracy: 0.9728 - val_loss: 0.2681\n",
      "Epoch 92/150\n",
      "189/189 - 1s - 5ms/step - accuracy: 0.9890 - loss: 0.0387 - val_accuracy: 0.9734 - val_loss: 0.2321\n",
      "Epoch 93/150\n",
      "189/189 - 1s - 5ms/step - accuracy: 0.9870 - loss: 0.0457 - val_accuracy: 0.9734 - val_loss: 0.2290\n",
      "Epoch 94/150\n",
      "189/189 - 1s - 5ms/step - accuracy: 0.9892 - loss: 0.0346 - val_accuracy: 0.9728 - val_loss: 0.2611\n",
      "Epoch 95/150\n",
      "189/189 - 1s - 5ms/step - accuracy: 0.9904 - loss: 0.0332 - val_accuracy: 0.9688 - val_loss: 0.3103\n",
      "Epoch 96/150\n",
      "189/189 - 1s - 5ms/step - accuracy: 0.9904 - loss: 0.0321 - val_accuracy: 0.9661 - val_loss: 0.3366\n",
      "Epoch 97/150\n",
      "189/189 - 1s - 5ms/step - accuracy: 0.9884 - loss: 0.0409 - val_accuracy: 0.9695 - val_loss: 0.2892\n",
      "Epoch 98/150\n",
      "189/189 - 1s - 5ms/step - accuracy: 0.9839 - loss: 0.0541 - val_accuracy: 0.9695 - val_loss: 0.3086\n",
      "Epoch 99/150\n",
      "189/189 - 1s - 5ms/step - accuracy: 0.9786 - loss: 0.0699 - val_accuracy: 0.9675 - val_loss: 0.2953\n",
      "Epoch 100/150\n",
      "189/189 - 1s - 5ms/step - accuracy: 0.9834 - loss: 0.0621 - val_accuracy: 0.9688 - val_loss: 0.2667\n",
      "Epoch 101/150\n",
      "189/189 - 1s - 5ms/step - accuracy: 0.9887 - loss: 0.0385 - val_accuracy: 0.9741 - val_loss: 0.2551\n",
      "Epoch 102/150\n",
      "189/189 - 1s - 5ms/step - accuracy: 0.9912 - loss: 0.0267 - val_accuracy: 0.9728 - val_loss: 0.2781\n",
      "Epoch 103/150\n",
      "189/189 - 1s - 5ms/step - accuracy: 0.9832 - loss: 0.0612 - val_accuracy: 0.9668 - val_loss: 0.2952\n",
      "Epoch 104/150\n",
      "189/189 - 1s - 5ms/step - accuracy: 0.9894 - loss: 0.0311 - val_accuracy: 0.9675 - val_loss: 0.2659\n",
      "Epoch 105/150\n",
      "189/189 - 1s - 5ms/step - accuracy: 0.9929 - loss: 0.0252 - val_accuracy: 0.9721 - val_loss: 0.2568\n",
      "Epoch 106/150\n",
      "189/189 - 1s - 5ms/step - accuracy: 0.9922 - loss: 0.0215 - val_accuracy: 0.9741 - val_loss: 0.2536\n",
      "Epoch 107/150\n",
      "189/189 - 1s - 5ms/step - accuracy: 0.9949 - loss: 0.0207 - val_accuracy: 0.9648 - val_loss: 0.3305\n",
      "Epoch 108/150\n",
      "189/189 - 1s - 5ms/step - accuracy: 0.9860 - loss: 0.0514 - val_accuracy: 0.9695 - val_loss: 0.2726\n",
      "Epoch 109/150\n",
      "189/189 - 1s - 5ms/step - accuracy: 0.9919 - loss: 0.0250 - val_accuracy: 0.9681 - val_loss: 0.2611\n",
      "Epoch 110/150\n",
      "189/189 - 1s - 5ms/step - accuracy: 0.9890 - loss: 0.0386 - val_accuracy: 0.9761 - val_loss: 0.2466\n",
      "Epoch 111/150\n",
      "189/189 - 1s - 5ms/step - accuracy: 0.9782 - loss: 0.0926 - val_accuracy: 0.9661 - val_loss: 0.2944\n",
      "Epoch 112/150\n",
      "189/189 - 1s - 5ms/step - accuracy: 0.9907 - loss: 0.0302 - val_accuracy: 0.9688 - val_loss: 0.2552\n",
      "Epoch 113/150\n",
      "189/189 - 1s - 5ms/step - accuracy: 0.9847 - loss: 0.0447 - val_accuracy: 0.9728 - val_loss: 0.2236\n",
      "Epoch 114/150\n",
      "189/189 - 1s - 6ms/step - accuracy: 0.9907 - loss: 0.0339 - val_accuracy: 0.9688 - val_loss: 0.3054\n",
      "Epoch 115/150\n",
      "189/189 - 1s - 6ms/step - accuracy: 0.9910 - loss: 0.0350 - val_accuracy: 0.9668 - val_loss: 0.3273\n",
      "Epoch 116/150\n",
      "189/189 - 1s - 5ms/step - accuracy: 0.9942 - loss: 0.0224 - val_accuracy: 0.9668 - val_loss: 0.3096\n",
      "Epoch 117/150\n",
      "189/189 - 1s - 5ms/step - accuracy: 0.9920 - loss: 0.0329 - val_accuracy: 0.9688 - val_loss: 0.3084\n",
      "Epoch 118/150\n",
      "189/189 - 1s - 5ms/step - accuracy: 0.9942 - loss: 0.0192 - val_accuracy: 0.9668 - val_loss: 0.3410\n",
      "Epoch 119/150\n",
      "189/189 - 1s - 5ms/step - accuracy: 0.9917 - loss: 0.0265 - val_accuracy: 0.9681 - val_loss: 0.3073\n",
      "Epoch 120/150\n",
      "189/189 - 1s - 5ms/step - accuracy: 0.9924 - loss: 0.0250 - val_accuracy: 0.9734 - val_loss: 0.2418\n",
      "Epoch 121/150\n",
      "189/189 - 1s - 5ms/step - accuracy: 0.9884 - loss: 0.0367 - val_accuracy: 0.9628 - val_loss: 0.3481\n",
      "Epoch 122/150\n",
      "189/189 - 1s - 5ms/step - accuracy: 0.9807 - loss: 0.0769 - val_accuracy: 0.9648 - val_loss: 0.3591\n",
      "Epoch 123/150\n",
      "189/189 - 1s - 5ms/step - accuracy: 0.9880 - loss: 0.0425 - val_accuracy: 0.9675 - val_loss: 0.3034\n",
      "Epoch 124/150\n",
      "189/189 - 1s - 5ms/step - accuracy: 0.9935 - loss: 0.0214 - val_accuracy: 0.9681 - val_loss: 0.2960\n",
      "Epoch 125/150\n",
      "189/189 - 1s - 7ms/step - accuracy: 0.9927 - loss: 0.0342 - val_accuracy: 0.9688 - val_loss: 0.3412\n",
      "Epoch 126/150\n",
      "189/189 - 1s - 5ms/step - accuracy: 0.9905 - loss: 0.0339 - val_accuracy: 0.9622 - val_loss: 0.3652\n",
      "Epoch 127/150\n",
      "189/189 - 1s - 5ms/step - accuracy: 0.9894 - loss: 0.0337 - val_accuracy: 0.9701 - val_loss: 0.2898\n",
      "Epoch 128/150\n",
      "189/189 - 1s - 5ms/step - accuracy: 0.9859 - loss: 0.0450 - val_accuracy: 0.9695 - val_loss: 0.3210\n",
      "Epoch 129/150\n",
      "189/189 - 1s - 5ms/step - accuracy: 0.9846 - loss: 0.0496 - val_accuracy: 0.9655 - val_loss: 0.3421\n",
      "Epoch 130/150\n",
      "189/189 - 1s - 5ms/step - accuracy: 0.9874 - loss: 0.0594 - val_accuracy: 0.9615 - val_loss: 0.3339\n",
      "Epoch 131/150\n",
      "189/189 - 1s - 5ms/step - accuracy: 0.9851 - loss: 0.0639 - val_accuracy: 0.9675 - val_loss: 0.2928\n",
      "Epoch 132/150\n",
      "189/189 - 1s - 5ms/step - accuracy: 0.9877 - loss: 0.0537 - val_accuracy: 0.9728 - val_loss: 0.2973\n",
      "Epoch 133/150\n",
      "189/189 - 1s - 5ms/step - accuracy: 0.9909 - loss: 0.0316 - val_accuracy: 0.9655 - val_loss: 0.3518\n",
      "Epoch 134/150\n",
      "189/189 - 1s - 5ms/step - accuracy: 0.9895 - loss: 0.0368 - val_accuracy: 0.9661 - val_loss: 0.3634\n",
      "Epoch 135/150\n",
      "189/189 - 1s - 5ms/step - accuracy: 0.9897 - loss: 0.0400 - val_accuracy: 0.9695 - val_loss: 0.3583\n",
      "Epoch 136/150\n",
      "189/189 - 1s - 5ms/step - accuracy: 0.9955 - loss: 0.0228 - val_accuracy: 0.9681 - val_loss: 0.3516\n",
      "Epoch 137/150\n",
      "189/189 - 1s - 5ms/step - accuracy: 0.9947 - loss: 0.0171 - val_accuracy: 0.9668 - val_loss: 0.3256\n",
      "Epoch 138/150\n",
      "189/189 - 1s - 5ms/step - accuracy: 0.9958 - loss: 0.0180 - val_accuracy: 0.9675 - val_loss: 0.3375\n",
      "Epoch 139/150\n",
      "189/189 - 1s - 5ms/step - accuracy: 0.9934 - loss: 0.0226 - val_accuracy: 0.9688 - val_loss: 0.3456\n",
      "Epoch 140/150\n",
      "189/189 - 1s - 5ms/step - accuracy: 0.9817 - loss: 0.0603 - val_accuracy: 0.9628 - val_loss: 0.3726\n",
      "Epoch 141/150\n",
      "189/189 - 1s - 5ms/step - accuracy: 0.9909 - loss: 0.0324 - val_accuracy: 0.9688 - val_loss: 0.3361\n",
      "Epoch 142/150\n",
      "189/189 - 1s - 5ms/step - accuracy: 0.9854 - loss: 0.0676 - val_accuracy: 0.9608 - val_loss: 0.4193\n",
      "Epoch 143/150\n",
      "189/189 - 1s - 5ms/step - accuracy: 0.9869 - loss: 0.0528 - val_accuracy: 0.9648 - val_loss: 0.4064\n",
      "Epoch 144/150\n",
      "189/189 - 1s - 5ms/step - accuracy: 0.9917 - loss: 0.0344 - val_accuracy: 0.9701 - val_loss: 0.3581\n",
      "Epoch 145/150\n",
      "189/189 - 1s - 5ms/step - accuracy: 0.9947 - loss: 0.0237 - val_accuracy: 0.9668 - val_loss: 0.3470\n",
      "Epoch 146/150\n",
      "189/189 - 1s - 5ms/step - accuracy: 0.9920 - loss: 0.0279 - val_accuracy: 0.9608 - val_loss: 0.3686\n",
      "Epoch 147/150\n",
      "189/189 - 1s - 5ms/step - accuracy: 0.9940 - loss: 0.0296 - val_accuracy: 0.9668 - val_loss: 0.3111\n",
      "Epoch 148/150\n",
      "189/189 - 1s - 6ms/step - accuracy: 0.9915 - loss: 0.0254 - val_accuracy: 0.9648 - val_loss: 0.3210\n",
      "Epoch 149/150\n",
      "189/189 - 1s - 5ms/step - accuracy: 0.9902 - loss: 0.0327 - val_accuracy: 0.9668 - val_loss: 0.3594\n",
      "Epoch 150/150\n",
      "189/189 - 1s - 5ms/step - accuracy: 0.9894 - loss: 0.0408 - val_accuracy: 0.9688 - val_loss: 0.2998\n"
     ]
    }
   ],
   "source": [
    "# Creating CNN model with the optimized parameter from the start\n",
    "def create_cnn_model(input_shape, num_classes):\n",
    "    model = Sequential()\n",
    "    \n",
    "    model.add(Conv1D(filters=32, kernel_size=4, activation='relu', padding='same', input_shape=input_shape))\n",
    "    model.add(MaxPooling1D(pool_size=2))\n",
    "    \n",
    "    model.add(Conv1D(filters=128, kernel_size=3, activation='relu', padding='same'))\n",
    "    model.add(MaxPooling1D(pool_size=2))\n",
    "    \n",
    "    model.add(Flatten())\n",
    "    \n",
    "    model.add(Dense(256, activation='relu'))\n",
    "    \n",
    "    model.add(Dropout(0.2))\n",
    "    \n",
    "    model.add(Dense(num_classes, activation='softmax'))\n",
    "    \n",
    "    model.compile(optimizer=Adam(learning_rate=0.0011876), loss='categorical_crossentropy', metrics=['accuracy'])\n",
    "    \n",
    "    return model\n",
    "\n",
    "best_model = create_cnn_model(input_shape, num_classes)\n",
    "\n",
    "# Train data again from the start\n",
    "history = best_model.fit(X_train, y_train, epochs=150, batch_size=32, validation_data=(X_test, y_test), verbose=2)"
   ]
  },
  {
   "cell_type": "markdown",
   "id": "43da44cc",
   "metadata": {
    "papermill": {
     "duration": 0.086966,
     "end_time": "2024-06-20T14:42:20.123250",
     "exception": false,
     "start_time": "2024-06-20T14:42:20.036284",
     "status": "completed"
    },
    "tags": []
   },
   "source": [
    "## Plotting Accuracy & Loss CNN After Hyperparameter Tuned"
   ]
  },
  {
   "cell_type": "code",
   "execution_count": 52,
   "id": "84fe65c0",
   "metadata": {
    "execution": {
     "iopub.execute_input": "2024-06-20T14:42:20.299551Z",
     "iopub.status.busy": "2024-06-20T14:42:20.299136Z",
     "iopub.status.idle": "2024-06-20T14:42:20.658841Z",
     "shell.execute_reply": "2024-06-20T14:42:20.657687Z"
    },
    "papermill": {
     "duration": 0.451964,
     "end_time": "2024-06-20T14:42:20.661733",
     "exception": false,
     "start_time": "2024-06-20T14:42:20.209769",
     "status": "completed"
    },
    "tags": []
   },
   "outputs": [
    {
     "data": {
      "image/png": "[encoded data removed]",
      "text/plain": [
       "<Figure size 1000x800 with 1 Axes>"
      ]
     },
     "metadata": {},
     "output_type": "display_data"
    }
   ],
   "source": [
    "metrics = history.history\n",
    "\n",
    "plt.figure(figsize=(10,8))\n",
    "plt.plot(history.epoch, 100 * np.array(metrics['accuracy']), 100 * np.array(metrics['val_accuracy']))\n",
    "plt.title(\"Accuracy CNN Hyperparameter Tuned\")\n",
    "plt.ylim([0,100])\n",
    "plt.xlabel(\"Epochs\")\n",
    "plt.ylabel(\"Accuracy\")\n",
    "plt.legend(['accuracy', 'val_accuracy'])\n",
    "plt.show()"
   ]
  },
  {
   "cell_type": "code",
   "execution_count": 53,
   "id": "5e39fdcf",
   "metadata": {
    "execution": {
     "iopub.execute_input": "2024-06-20T14:42:20.839391Z",
     "iopub.status.busy": "2024-06-20T14:42:20.838029Z",
     "iopub.status.idle": "2024-06-20T14:42:21.214647Z",
     "shell.execute_reply": "2024-06-20T14:42:21.213481Z"
    },
    "papermill": {
     "duration": 0.467516,
     "end_time": "2024-06-20T14:42:21.217205",
     "exception": false,
     "start_time": "2024-06-20T14:42:20.749689",
     "status": "completed"
    },
    "tags": []
   },
   "outputs": [
    {
     "data": {
      "image/png": "[encoded data removed]",
      "text/plain": [
       "<Figure size 1000x800 with 1 Axes>"
      ]
     },
     "metadata": {},
     "output_type": "display_data"
    }
   ],
   "source": [
    "plt.figure(figsize=(10,8))\n",
    "plt.plot(history.epoch, np.array(metrics['loss']), np.array(metrics['val_loss']))\n",
    "plt.title(\"Loss CNN Hyperparameter Tuned\")\n",
    "plt.xlabel(\"Epochs\")\n",
    "plt.ylabel(\"Loss\")\n",
    "plt.legend(['loss', 'val_loss'])\n",
    "plt.show()"
   ]
  },
  {
   "cell_type": "code",
   "execution_count": 54,
   "id": "cca70c66",
   "metadata": {
    "execution": {
     "iopub.execute_input": "2024-06-20T14:42:21.410049Z",
     "iopub.status.busy": "2024-06-20T14:42:21.409638Z",
     "iopub.status.idle": "2024-06-20T14:42:21.772562Z",
     "shell.execute_reply": "2024-06-20T14:42:21.771396Z"
    },
    "papermill": {
     "duration": 0.468376,
     "end_time": "2024-06-20T14:42:21.775346",
     "exception": false,
     "start_time": "2024-06-20T14:42:21.306970",
     "status": "completed"
    },
    "tags": []
   },
   "outputs": [
    {
     "name": "stdout",
     "output_type": "stream",
     "text": [
      "\u001b[1m48/48\u001b[0m \u001b[32m━━━━━━━━━━━━━━━━━━━━\u001b[0m\u001b[37m\u001b[0m \u001b[1m0s\u001b[0m 4ms/step\n"
     ]
    }
   ],
   "source": [
    "import numpy as np\n",
    "\n",
    "# Predict the probabilities for each class\n",
    "y_pred_probs = best_model.predict(X_test)\n",
    "# Convert probabilities to class labels\n",
    "y_pred = np.argmax(y_pred_probs, axis=1)\n",
    "y_true = np.argmax(y_test, axis=1)"
   ]
  },
  {
   "cell_type": "code",
   "execution_count": 55,
   "id": "b7789643",
   "metadata": {
    "execution": {
     "iopub.execute_input": "2024-06-20T14:42:21.955744Z",
     "iopub.status.busy": "2024-06-20T14:42:21.955355Z",
     "iopub.status.idle": "2024-06-20T14:42:21.976556Z",
     "shell.execute_reply": "2024-06-20T14:42:21.975175Z"
    },
    "papermill": {
     "duration": 0.114405,
     "end_time": "2024-06-20T14:42:21.979246",
     "exception": false,
     "start_time": "2024-06-20T14:42:21.864841",
     "status": "completed"
    },
    "tags": []
   },
   "outputs": [
    {
     "name": "stdout",
     "output_type": "stream",
     "text": [
      "              precision    recall  f1-score   support\n",
      "\n",
      "      Arabic       0.95      1.00      0.98       141\n",
      "       Dutch       0.98      1.00      0.99       119\n",
      "     English       0.93      0.61      0.73       107\n",
      "      French       0.93      0.99      0.96       107\n",
      "      German       0.99      1.00      1.00       114\n",
      "     Italian       1.00      1.00      1.00       119\n",
      "      Korean       0.95      1.00      0.97       111\n",
      "    Mandarin       0.97      1.00      0.98       124\n",
      "      Polish       0.98      1.00      0.99       109\n",
      "  Portuguese       0.99      1.00      1.00       104\n",
      "     Russian       0.98      1.00      0.99       110\n",
      "     Spanish       0.94      0.97      0.96       124\n",
      "     Turkish       0.99      1.00      1.00       117\n",
      "\n",
      "    accuracy                           0.97      1506\n",
      "   macro avg       0.97      0.97      0.96      1506\n",
      "weighted avg       0.97      0.97      0.97      1506\n",
      "\n"
     ]
    }
   ],
   "source": [
    "from sklearn.metrics import classification_report\n",
    "\n",
    "class_names = [\n",
    "    \"Arabic\", \"Dutch\", \"English\", \"French\", \"German\", \n",
    "    \"Italian\", \"Korean\", \"Mandarin\", \"Polish\", \"Portuguese\", \n",
    "    \"Russian\", \"Spanish\", \"Turkish\"\n",
    "]\n",
    "\n",
    "report = classification_report(y_true, y_pred, target_names=class_names)\n",
    "print(report)"
   ]
  },
  {
   "cell_type": "code",
   "execution_count": 56,
   "id": "e9b57a2a",
   "metadata": {
    "execution": {
     "iopub.execute_input": "2024-06-20T14:42:22.158446Z",
     "iopub.status.busy": "2024-06-20T14:42:22.158030Z",
     "iopub.status.idle": "2024-06-20T14:42:22.870962Z",
     "shell.execute_reply": "2024-06-20T14:42:22.869677Z"
    },
    "papermill": {
     "duration": 0.80557,
     "end_time": "2024-06-20T14:42:22.873719",
     "exception": false,
     "start_time": "2024-06-20T14:42:22.068149",
     "status": "completed"
    },
    "tags": []
   },
   "outputs": [
    {
     "name": "stdout",
     "output_type": "stream",
     "text": [
      "\u001b[1m48/48\u001b[0m \u001b[32m━━━━━━━━━━━━━━━━━━━━\u001b[0m\u001b[37m\u001b[0m \u001b[1m0s\u001b[0m 2ms/step - accuracy: 0.9622 - loss: 0.4520\n",
      "Loaded model accuracy: 0.9687914848327637\n"
     ]
    }
   ],
   "source": [
    "# Save the model\n",
    "best_model.save('cnn_tunning.h5') \n",
    "loaded_model = load_model('cnn_tunning.h5') \n",
    "loss, accuracy = loaded_model.evaluate(X_test, y_test)\n",
    "print(\"Loaded model accuracy:\", accuracy)"
   ]
  },
  {
   "cell_type": "code",
   "execution_count": 57,
   "id": "642c9fa9",
   "metadata": {
    "execution": {
     "iopub.execute_input": "2024-06-20T14:42:23.055178Z",
     "iopub.status.busy": "2024-06-20T14:42:23.054210Z",
     "iopub.status.idle": "2024-06-20T14:42:23.094454Z",
     "shell.execute_reply": "2024-06-20T14:42:23.093122Z"
    },
    "papermill": {
     "duration": 0.134682,
     "end_time": "2024-06-20T14:42:23.097419",
     "exception": false,
     "start_time": "2024-06-20T14:42:22.962737",
     "status": "completed"
    },
    "tags": []
   },
   "outputs": [],
   "source": [
    "best_model.save('cnn_tunning_keras.keras') "
   ]
  },
  {
   "cell_type": "markdown",
   "id": "0c8742ca",
   "metadata": {
    "papermill": {
     "duration": 0.090343,
     "end_time": "2024-06-20T14:42:23.277267",
     "exception": false,
     "start_time": "2024-06-20T14:42:23.186924",
     "status": "completed"
    },
    "tags": []
   },
   "source": []
  },
  {
   "cell_type": "code",
   "execution_count": 58,
   "id": "cb4faf55",
   "metadata": {
    "execution": {
     "iopub.execute_input": "2024-06-20T14:42:23.458316Z",
     "iopub.status.busy": "2024-06-20T14:42:23.457853Z",
     "iopub.status.idle": "2024-06-20T14:42:23.555800Z",
     "shell.execute_reply": "2024-06-20T14:42:23.554692Z"
    },
    "papermill": {
     "duration": 0.190649,
     "end_time": "2024-06-20T14:42:23.558573",
     "exception": false,
     "start_time": "2024-06-20T14:42:23.367924",
     "status": "completed"
    },
    "tags": []
   },
   "outputs": [],
   "source": [
    "from tensorflow.keras.models import load_model\n",
    "\n",
    "# Load the best model you saved earlier\n",
    "model = load_model('/kaggle/working/cnn_tunning.h5')"
   ]
  },
  {
   "cell_type": "code",
   "execution_count": 59,
   "id": "8eb2cb20",
   "metadata": {
    "execution": {
     "iopub.execute_input": "2024-06-20T14:42:23.738348Z",
     "iopub.status.busy": "2024-06-20T14:42:23.737070Z",
     "iopub.status.idle": "2024-06-20T14:42:23.747072Z",
     "shell.execute_reply": "2024-06-20T14:42:23.745936Z"
    },
    "papermill": {
     "duration": 0.102415,
     "end_time": "2024-06-20T14:42:23.749781",
     "exception": false,
     "start_time": "2024-06-20T14:42:23.647366",
     "status": "completed"
    },
    "tags": []
   },
   "outputs": [],
   "source": [
    "def preprocess_audio(file_path, target_sample_rate=44100, n_mfcc=13):\n",
    "    # Load data\n",
    "    y, sr = librosa.load(file_path, sr=target_sample_rate)\n",
    "    \n",
    "    # Extract MFCC\n",
    "    mfcc = librosa.feature.mfcc(y=y, sr=sr, n_mfcc=n_mfcc)\n",
    "    \n",
    "    # Normalize MFCC\n",
    "    mfcc = (mfcc - np.mean(mfcc)) / np.std(mfcc)\n",
    "    mfcc = mfcc.T\n",
    "    \n",
    "    # Get 13 MFCC coefficients\n",
    "    if mfcc.shape[0] > 13:\n",
    "        mfcc = mfcc[:13, :]\n",
    "    else:\n",
    "        # Padd with zeros if coefficients are less than 13\n",
    "        mfcc = np.pad(mfcc, ((0, 13 - mfcc.shape[0]), (0, 0)), mode='constant')\n",
    "    mfcc = np.mean(mfcc, axis=1, keepdims=True)\n",
    "    \n",
    "    # Expand dimensions to match the input shape of the model (batch_size, time_steps, features)\n",
    "    mfcc = np.expand_dims(mfcc, axis=0)\n",
    "    \n",
    "    return mfcc"
   ]
  },
  {
   "cell_type": "code",
   "execution_count": 60,
   "id": "f6e64c70",
   "metadata": {
    "execution": {
     "iopub.execute_input": "2024-06-20T14:42:23.932160Z",
     "iopub.status.busy": "2024-06-20T14:42:23.931721Z",
     "iopub.status.idle": "2024-06-20T14:42:24.280908Z",
     "shell.execute_reply": "2024-06-20T14:42:24.278980Z"
    },
    "papermill": {
     "duration": 0.445509,
     "end_time": "2024-06-20T14:42:24.285557",
     "exception": false,
     "start_time": "2024-06-20T14:42:23.840048",
     "status": "completed"
    },
    "tags": []
   },
   "outputs": [
    {
     "name": "stdout",
     "output_type": "stream",
     "text": [
      "Shape of preprocessed audio data: (1, 13, 1)\n"
     ]
    }
   ],
   "source": [
    "file_path = '/kaggle/input/speech-accent-archive/recordings/recordings/english2.mp3'\n",
    "\n",
    "# Preprocess the audio\n",
    "audio_data = preprocess_audio(file_path)\n",
    "print(\"Shape of preprocessed audio data:\", audio_data.shape) "
   ]
  },
  {
   "cell_type": "code",
   "execution_count": 61,
   "id": "427a74fa",
   "metadata": {
    "execution": {
     "iopub.execute_input": "2024-06-20T14:42:24.516570Z",
     "iopub.status.busy": "2024-06-20T14:42:24.516150Z",
     "iopub.status.idle": "2024-06-20T14:42:24.677860Z",
     "shell.execute_reply": "2024-06-20T14:42:24.676459Z"
    },
    "papermill": {
     "duration": 0.254724,
     "end_time": "2024-06-20T14:42:24.680635",
     "exception": false,
     "start_time": "2024-06-20T14:42:24.425911",
     "status": "completed"
    },
    "tags": []
   },
   "outputs": [
    {
     "name": "stdout",
     "output_type": "stream",
     "text": [
      "\u001b[1m1/1\u001b[0m \u001b[32m━━━━━━━━━━━━━━━━━━━━\u001b[0m\u001b[37m\u001b[0m \u001b[1m0s\u001b[0m 98ms/step\n",
      "The predicted class for the audio file is: Arabic\n"
     ]
    }
   ],
   "source": [
    "predictions = model.predict(audio_data)\n",
    "\n",
    "predicted_class = np.argmax(predictions, axis=1)\n",
    "\n",
    "class_names = [\n",
    "    \"Arabic\", \"Dutch\", \"English\", \"French\", \"German\", \n",
    "    \"Italian\", \"Korean\", \"Mandarin\", \"Polish\", \"Portuguese\", \n",
    "    \"Russian\", \"Spanish\", \"Turkish\"\n",
    "]\n",
    "\n",
    "print(f\"The predicted class for the audio file is: {class_names[predicted_class[0]]}\")"
   ]
  },
  {
   "cell_type": "code",
   "execution_count": 62,
   "id": "f1f2987d",
   "metadata": {
    "execution": {
     "iopub.execute_input": "2024-06-20T14:42:24.862953Z",
     "iopub.status.busy": "2024-06-20T14:42:24.862526Z",
     "iopub.status.idle": "2024-06-20T14:42:24.884638Z",
     "shell.execute_reply": "2024-06-20T14:42:24.883495Z"
    },
    "papermill": {
     "duration": 0.116233,
     "end_time": "2024-06-20T14:42:24.887396",
     "exception": false,
     "start_time": "2024-06-20T14:42:24.771163",
     "status": "completed"
    },
    "tags": []
   },
   "outputs": [],
   "source": [
    "model.save('cnn_tunning.h5')"
   ]
  },
  {
   "cell_type": "code",
   "execution_count": 63,
   "id": "6f1e8543",
   "metadata": {
    "execution": {
     "iopub.execute_input": "2024-06-20T14:42:25.068431Z",
     "iopub.status.busy": "2024-06-20T14:42:25.067546Z",
     "iopub.status.idle": "2024-06-20T14:42:25.169704Z",
     "shell.execute_reply": "2024-06-20T14:42:25.168539Z"
    },
    "papermill": {
     "duration": 0.196179,
     "end_time": "2024-06-20T14:42:25.172523",
     "exception": false,
     "start_time": "2024-06-20T14:42:24.976344",
     "status": "completed"
    },
    "tags": []
   },
   "outputs": [
    {
     "data": {
      "text/plain": [
       "<Sequential name=sequential_1, built=True>"
      ]
     },
     "execution_count": 63,
     "metadata": {},
     "output_type": "execute_result"
    }
   ],
   "source": [
    "import tensorflow as tf\n",
    "from joblib import load\n",
    "\n",
    "def load_model(model_name):\n",
    "    if model_name.endswith('.h5'):\n",
    "        model = tf.keras.models.load_model(model_name)\n",
    "    else:\n",
    "        model = load(f'{model_name}.joblib')\n",
    "    return model\n",
    "\n",
    "load_model('/kaggle/working/cnn_tunning.h5')"
   ]
  }
 ],
 "metadata": {
  "colab": {
   "gpuType": "T4",
   "provenance": []
  },
  "kaggle": {
   "accelerator": "none",
   "dataSources": [
    {
     "datasetId": 4114,
     "sourceId": 6391,
     "sourceType": "datasetVersion"
    },
    {
     "datasetId": 757245,
     "sourceId": 1308085,
     "sourceType": "datasetVersion"
    }
   ],
   "dockerImageVersionId": 30732,
   "isGpuEnabled": false,
   "isInternetEnabled": false,
   "language": "python",
   "sourceType": "notebook"
  },
  "kernelspec": {
   "display_name": "Python 3",
   "language": "python",
   "name": "python3"
  },
  "language_info": {
   "codemirror_mode": {
    "name": "ipython",
    "version": 3
   },
   "file_extension": ".py",
   "mimetype": "text/x-python",
   "name": "python",
   "nbconvert_exporter": "python",
   "pygments_lexer": "ipython3",
   "version": "3.10.13"
  },
  "papermill": {
   "default_parameters": {},
   "duration": 2226.558129,
   "end_time": "2024-06-20T14:42:28.326033",
   "environment_variables": {},
   "exception": null,
   "input_path": "__notebook__.ipynb",
   "output_path": "__notebook__.ipynb",
   "parameters": {},
   "start_time": "2024-06-20T14:05:21.767904",
   "version": "2.5.0"
  }
 },
 "nbformat": 4,
 "nbformat_minor": 5
}
